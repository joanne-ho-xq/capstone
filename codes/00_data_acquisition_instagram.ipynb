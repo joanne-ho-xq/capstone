{
 "cells": [
  {
   "cell_type": "markdown",
   "id": "6512bc7e-caff-4f18-a75f-02e6da250ec1",
   "metadata": {},
   "source": [
    "<img src=\"http://imgur.com/1ZcRyrc.png\" style=\"float: left; margin: 20px; height: 55px\">\n",
    "\n",
    "# Capstone: Travel Recommender System"
   ]
  },
  {
   "cell_type": "markdown",
   "id": "21ad6b88-db27-4a58-8042-1d1085d3f521",
   "metadata": {},
   "source": [
    "## Contents:\n",
    "- [Problem Statement](#Problem-Statement)\n",
    "- [Background](#Background)\n",
    "- [Datasets](#Datasets)\n",
    "- [Download Packages](#Download-Packages)\n",
    "- [Loading of Libraries](#Loading-of-Libraries) \n",
    "- [Downloading of Datasets](#Downloading-of-Datasets)"
   ]
  },
  {
   "cell_type": "markdown",
   "id": "92eed6eb-5f12-429a-9dba-871aaa4af9ef",
   "metadata": {},
   "source": [
    "## Problem Statement\n",
    "\n",
    "With the rise in the demand for international travel, especially due to the pent-up demand from the ease of Covid travel restrictions, Singapore travellers are spoilt for choice and to decide on which places of interest to visit during the limited vacation time is no easy feat. \n",
    "\n",
    "Furthermore, most [tour packages](https://www.chanbrothers.com/package-tours) and [travel websites](https://www.tripadvisor.com.sg/Attractions-g186338-Activities-oa0-London_England.html) promote the typical sights and attractions instead of places where locals rate.\n",
    "\n",
    "As such, we propose a travel recommender system to discover the hidden gems, in particular, of London."
   ]
  },
  {
   "cell_type": "markdown",
   "id": "09d226b9-a075-445e-a74e-c284c19e305c",
   "metadata": {},
   "source": [
    "## Background\n",
    "\n",
    "According to the [top travel trends among Singapore travellers in 2023](https://www.humanresourcesonline.net/top-travel-trends-among-singapore-travellers-in-2023), London, United Kingdom is ranked one of the top 10 popular travel destinations. As such, our project will primarily focus on the hidden gems of London.\n",
    "\n",
    "Based on a [preliminary study on Social Media Data Analytics for Tourism](https://ceur-ws.org/Vol-1748/paper-12.pdf), it supports using social media as a useful data source for touristic decision making since it can provide real-time insights of tourists' visiting patterns. Hence, we will be using an Instagram dataset to build our recommender system.\n",
    "\n",
    "To discover the hidden gems of London, we will refer to a popular travel website, Trip Advisor, to find out the Top 50 tourist spots which will then be excluded from our Instagram dataset. According to [London Tourism Statistics](https://gowithguide.com/blog/london-tourism-statistics-2023-all-you-need-to-know-5213), the average length of stay in London for tourists is about 4.6 days. Assuming a tourist covers 5 spots for 5 days, 25 spots will be covered. As such, with the top 50 tourist spots excluded from our recommender system (an amount double of the 25 spots), it should be safe to say that our system will uncover the hidden gems for our users."
   ]
  },
  {
   "cell_type": "markdown",
   "id": "889cdbd2-857a-41da-a8cb-0f91901b1072",
   "metadata": {},
   "source": [
    "## Datasets\n",
    "\n",
    "The datasets used in this recommender system project are acquired from Kaggle. It is a [2019 Instagram dataset](https://www.kaggle.com/datasets/shmalex/instagram-dataset?select=instagram_posts.csv) containing 42 million posts, 1.2 million locations and 4.5 million profiles. \n",
    "\n",
    "The codes to acquire the dataset is in this notebook. The datasets are saved under the [`instagram-dataset`](../instagram-dataset/) folder.\n",
    "\n",
    "There are three datasets under this Kaggle site:\n",
    "* [`instagram_locations.csv`](../instagram-dataset/instagram_locations.csv): this data contains about 1.2 million locations from all over the world\n",
    "* [`instagram_posts.csv`](../instagram-dataset/instagram_posts.csv): this data contains posts with location information, date, number of likes and comments, captions, etc\n",
    "* [`instagram_profiles.csv`](../instagram-dataset/instagram_profiles.csv): this data contains profiles of many different people and businesses\n",
    "\n",
    "For this project, we will only make use of the first two datasets.\n",
    "\n",
    "To acquire the Top 50 tourist spots of London, we will webscrape from Trip Advisor and the codes are in the notebook [`00_data_acquisition_tripadvisor`](./00_data_acquisition_tripadvisor.ipynb)."
   ]
  },
  {
   "cell_type": "markdown",
   "id": "197ea13b-c6f1-4351-a878-aad6b7e9402c",
   "metadata": {},
   "source": [
    "### Data Dictionary\n",
    "\n",
    "**instagram_locations:**\n",
    "|Feature|Type|Description|\n",
    "|:---|:---|:---| \n",
    "|sid|integer|sequence ID|\n",
    "|id|integer|Instagrams ID for that could be used on the website ex: ID=230466055 the url is https://www.instagram.com/explore/locations/230466055|\n",
    "|name|string|name of location|\n",
    "|street|string|street address|\n",
    "|zip|string|zip code|\n",
    "|city|string|name of city|\n",
    "|region|string|name of region|\n",
    "|cd|string|country code|\n",
    "|phone|string|phone number in the format as on Instagram|\n",
    "|aj_exact_city_match|boolean|Instagram's internal key|\n",
    "|aj_exact_country_match|boolean|Instagram's internal key|\n",
    "|blurb|string|description of the place|\n",
    "|dir_city_id|integer|Instagrams internal city ID|\n",
    "|dir_city_name|string|name of city|\n",
    "|dir_city_slug|string|city tag|\n",
    "|dir_country_id|string|country ID|\n",
    "|dir_country_name|string|name of country|\n",
    "|lat|float|latitude|\n",
    "|lng|float|longitude|\n",
    "|primary_alias_on_fb|string|name on Facebook|\n",
    "|slug|string|tag|\n",
    "|website|string|URL to website, may contain more than 1 URL|\n",
    "|cts|string|timestamp when the location was visited|\n",
    "\n",
    "**instagram_posts:**\n",
    "|Feature|Type|Description|\n",
    "|:---|:---|:---| \n",
    "|sid|integer|sequence ID|\n",
    "|sid_profile|integer|sequence ID of the profile|\n",
    "|post_id|string|Instagram ID of post|\n",
    "|profile_id|float|Instagram ID of profile|\n",
    "|location_id|float|Instagram ID of location|\n",
    "|cts|string|timestamp when post was created|\n",
    "|post_type|integer|1 - photo, 2 - video, 3 - multi|\n",
    "|description|string|caption of post|\n",
    "|numbr_likes|float|number of likes at the moment it was visited|\n",
    "|number_comments|float|number of comments at the moment it was visited|"
   ]
  },
  {
   "cell_type": "markdown",
   "id": "80736f69-ce36-4de8-b178-0f74a64a7aad",
   "metadata": {},
   "source": [
    "---"
   ]
  },
  {
   "cell_type": "markdown",
   "id": "88a1f02f-ef49-40b0-b6de-5b03162abdff",
   "metadata": {},
   "source": [
    "We will first download the Instagram datasets from Kaggle. They are saved in the [`instagram-dataset`](../instagram-dataset/) folder. "
   ]
  },
  {
   "cell_type": "markdown",
   "id": "b7949b11-52be-4929-aca0-365eb1b5c366",
   "metadata": {},
   "source": [
    "## Download Packages"
   ]
  },
  {
   "cell_type": "code",
   "execution_count": 1,
   "id": "8aab74e4-43ae-47a9-9b1b-a82d411b195e",
   "metadata": {},
   "outputs": [
    {
     "name": "stdout",
     "output_type": "stream",
     "text": [
      "Collecting opendatasets\n",
      "  Downloading opendatasets-0.1.22-py3-none-any.whl (15 kB)\n",
      "Collecting kaggle\n",
      "  Downloading kaggle-1.5.12.tar.gz (58 kB)\n",
      "\u001b[2K     \u001b[90m━━━━━━━━━━━━━━━━━━━━━━━━━━━━━━━━━━━━━━━━\u001b[0m \u001b[32m59.0/59.0 kB\u001b[0m \u001b[31m1.5 MB/s\u001b[0m eta \u001b[36m0:00:00\u001b[0m\n",
      "\u001b[?25h  Preparing metadata (setup.py) ... \u001b[?25ldone\n",
      "\u001b[?25hRequirement already satisfied: click in /Users/jo/mambaforge/envs/dsi-sg/lib/python3.8/site-packages (from opendatasets) (8.1.3)\n",
      "Requirement already satisfied: tqdm in /Users/jo/mambaforge/envs/dsi-sg/lib/python3.8/site-packages (from opendatasets) (4.64.1)\n",
      "Requirement already satisfied: six>=1.10 in /Users/jo/mambaforge/envs/dsi-sg/lib/python3.8/site-packages (from kaggle->opendatasets) (1.16.0)\n",
      "Requirement already satisfied: certifi in /Users/jo/mambaforge/envs/dsi-sg/lib/python3.8/site-packages (from kaggle->opendatasets) (2022.9.24)\n",
      "Requirement already satisfied: python-dateutil in /Users/jo/mambaforge/envs/dsi-sg/lib/python3.8/site-packages (from kaggle->opendatasets) (2.8.2)\n",
      "Requirement already satisfied: requests in /Users/jo/mambaforge/envs/dsi-sg/lib/python3.8/site-packages (from kaggle->opendatasets) (2.28.1)\n",
      "Collecting python-slugify\n",
      "  Downloading python_slugify-8.0.0-py2.py3-none-any.whl (9.5 kB)\n",
      "Requirement already satisfied: urllib3 in /Users/jo/mambaforge/envs/dsi-sg/lib/python3.8/site-packages (from kaggle->opendatasets) (1.26.11)\n",
      "Collecting text-unidecode>=1.3\n",
      "  Downloading text_unidecode-1.3-py2.py3-none-any.whl (78 kB)\n",
      "\u001b[2K     \u001b[90m━━━━━━━━━━━━━━━━━━━━━━━━━━━━━━━━━━━━━━━━\u001b[0m \u001b[32m78.2/78.2 kB\u001b[0m \u001b[31m2.3 MB/s\u001b[0m eta \u001b[36m0:00:00\u001b[0m\n",
      "\u001b[?25hRequirement already satisfied: charset-normalizer<3,>=2 in /Users/jo/mambaforge/envs/dsi-sg/lib/python3.8/site-packages (from requests->kaggle->opendatasets) (2.1.1)\n",
      "Requirement already satisfied: idna<4,>=2.5 in /Users/jo/mambaforge/envs/dsi-sg/lib/python3.8/site-packages (from requests->kaggle->opendatasets) (3.4)\n",
      "Building wheels for collected packages: kaggle\n",
      "  Building wheel for kaggle (setup.py) ... \u001b[?25ldone\n",
      "\u001b[?25h  Created wheel for kaggle: filename=kaggle-1.5.12-py3-none-any.whl size=73031 sha256=a177505abc3aa00c838efb2093c63951e6eb80cf62d3250ff3e4e4d7c22b0a71\n",
      "  Stored in directory: /Users/jo/Library/Caches/pip/wheels/03/f3/c7/fc5a63bb33d22177609b06c5b4c714b5eb3f1b195ce9dc5e47\n",
      "Successfully built kaggle\n",
      "Installing collected packages: text-unidecode, python-slugify, kaggle, opendatasets\n",
      "Successfully installed kaggle-1.5.12 opendatasets-0.1.22 python-slugify-8.0.0 text-unidecode-1.3\n"
     ]
    }
   ],
   "source": [
    "# Uncomment to download package\n",
    "# !pip install opendatasets"
   ]
  },
  {
   "cell_type": "markdown",
   "id": "93b540cd-1e42-4f64-9c40-6ff1623aca10",
   "metadata": {},
   "source": [
    "## Loading of Libraries"
   ]
  },
  {
   "cell_type": "code",
   "execution_count": 2,
   "id": "a2bac977-db51-4f46-a895-84fe9eba6fac",
   "metadata": {},
   "outputs": [],
   "source": [
    "import opendatasets as od\n",
    "import pandas"
   ]
  },
  {
   "cell_type": "markdown",
   "id": "9da0a421-45ce-49c8-98a9-2694227416aa",
   "metadata": {},
   "source": [
    "## Downloading of Datasets"
   ]
  },
  {
   "cell_type": "code",
   "execution_count": 3,
   "id": "3f150f55-a7f7-4101-b10d-a692660b1886",
   "metadata": {},
   "outputs": [
    {
     "name": "stdout",
     "output_type": "stream",
     "text": [
      "Please provide your Kaggle credentials to download this dataset. Learn more: http://bit.ly/kaggle-creds\n",
      "Your Kaggle username:"
     ]
    },
    {
     "name": "stdin",
     "output_type": "stream",
     "text": [
      "  joanneh0\n"
     ]
    },
    {
     "name": "stdout",
     "output_type": "stream",
     "text": [
      "Your Kaggle Key:"
     ]
    },
    {
     "name": "stdin",
     "output_type": "stream",
     "text": [
      "  ········\n"
     ]
    },
    {
     "name": "stdout",
     "output_type": "stream",
     "text": [
      "Downloading instagram-dataset.zip to ./instagram-dataset\n"
     ]
    },
    {
     "name": "stderr",
     "output_type": "stream",
     "text": [
      "100%|██████████████████████████████████████| 5.26G/5.26G [05:06<00:00, 18.4MB/s]\n"
     ]
    },
    {
     "name": "stdout",
     "output_type": "stream",
     "text": [
      "\n"
     ]
    }
   ],
   "source": [
    "od.download('https://www.kaggle.com/datasets/shmalex/instagram-dataset?select=instagram_locations.csv')"
   ]
  },
  {
   "cell_type": "markdown",
   "id": "71937394-112b-4111-85bc-c3e2fdb46b51",
   "metadata": {},
   "source": [
    "- To acquire the Top 50 tourist spots of London, we will webscrape from Trip Advisor and the codes are in the notebook [`00_data_acquisition_tripadvisor`](./00_data_acquisition_tripadvisor.ipynb)."
   ]
  },
  {
   "cell_type": "code",
   "execution_count": null,
   "id": "87fd87e1-a966-4d33-843b-9b960aa1a818",
   "metadata": {},
   "outputs": [],
   "source": []
  }
 ],
 "metadata": {
  "kernelspec": {
   "display_name": "Python 3 (ipykernel)",
   "language": "python",
   "name": "python3"
  },
  "language_info": {
   "codemirror_mode": {
    "name": "ipython",
    "version": 3
   },
   "file_extension": ".py",
   "mimetype": "text/x-python",
   "name": "python",
   "nbconvert_exporter": "python",
   "pygments_lexer": "ipython3",
   "version": "3.8.13"
  }
 },
 "nbformat": 4,
 "nbformat_minor": 5
}
