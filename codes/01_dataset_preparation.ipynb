{
 "cells": [
  {
   "cell_type": "markdown",
   "id": "f8d56247-83e7-4061-b111-851603a4409a",
   "metadata": {},
   "source": [
    "After acquiring the Instagram datasets from Kaggle, we will extract the required information, check for null values and save the data under the [`output`](./output/) folder."
   ]
  },
  {
   "cell_type": "markdown",
   "id": "365c6b0c-daa8-4bf7-ab27-597af305f962",
   "metadata": {},
   "source": [
    "## Contents:\n",
    "- [Loading of Libraries](#Loading-of-Libraries) \n",
    "- [Loading of Data and Cleaning](#Loading-of-Data-and-Cleaning)"
   ]
  },
  {
   "cell_type": "markdown",
   "id": "7683469e-df91-4f49-962b-bfabf5273a3e",
   "metadata": {},
   "source": [
    "## Loading of Libraries"
   ]
  },
  {
   "cell_type": "code",
   "execution_count": 1,
   "id": "25332ce3-ae14-4fad-9be9-0f15aa43483c",
   "metadata": {},
   "outputs": [],
   "source": [
    "# Imports\n",
    "import pandas as pd\n",
    "import numpy as np"
   ]
  },
  {
   "cell_type": "markdown",
   "id": "28e5a415-c376-4feb-9cf7-f3d7c306c92e",
   "metadata": {},
   "source": [
    "## Loading of Data and Cleaning\n",
    "- Extract the required columns\n",
    "- Check null values and data types\n",
    "- Drop rows with null values\n",
    "- Save and export"
   ]
  },
  {
   "cell_type": "markdown",
   "id": "077aec94-abb5-47ba-abea-797fd1c06f9d",
   "metadata": {},
   "source": [
    "#### Instagram posts data"
   ]
  },
  {
   "cell_type": "code",
   "execution_count": 2,
   "id": "d3b8cca2-20cb-4601-add0-e301c8e24650",
   "metadata": {},
   "outputs": [
    {
     "name": "stdout",
     "output_type": "stream",
     "text": [
      "(42710197, 10)\n"
     ]
    },
    {
     "data": {
      "text/html": [
       "<div>\n",
       "<style scoped>\n",
       "    .dataframe tbody tr th:only-of-type {\n",
       "        vertical-align: middle;\n",
       "    }\n",
       "\n",
       "    .dataframe tbody tr th {\n",
       "        vertical-align: top;\n",
       "    }\n",
       "\n",
       "    .dataframe thead th {\n",
       "        text-align: right;\n",
       "    }\n",
       "</style>\n",
       "<table border=\"1\" class=\"dataframe\">\n",
       "  <thead>\n",
       "    <tr style=\"text-align: right;\">\n",
       "      <th></th>\n",
       "      <th>sid</th>\n",
       "      <th>sid_profile</th>\n",
       "      <th>post_id</th>\n",
       "      <th>profile_id</th>\n",
       "      <th>location_id</th>\n",
       "      <th>cts</th>\n",
       "      <th>post_type</th>\n",
       "      <th>description</th>\n",
       "      <th>numbr_likes</th>\n",
       "      <th>number_comments</th>\n",
       "    </tr>\n",
       "  </thead>\n",
       "  <tbody>\n",
       "    <tr>\n",
       "      <th>0</th>\n",
       "      <td>28370919</td>\n",
       "      <td>3496776</td>\n",
       "      <td>BXdjjUlgcgq</td>\n",
       "      <td>2.237948e+09</td>\n",
       "      <td>1.022366e+15</td>\n",
       "      <td>2017-08-06 20:06:57.000</td>\n",
       "      <td>2</td>\n",
       "      <td>Wreckloose! Deevalley bike park laps on the @i...</td>\n",
       "      <td>80.0</td>\n",
       "      <td>0.0</td>\n",
       "    </tr>\n",
       "    <tr>\n",
       "      <th>1</th>\n",
       "      <td>28370932</td>\n",
       "      <td>-1</td>\n",
       "      <td>BVg0pbolYBC</td>\n",
       "      <td>5.579335e+09</td>\n",
       "      <td>4.574268e+14</td>\n",
       "      <td>2017-06-19 09:31:16.000</td>\n",
       "      <td>1</td>\n",
       "      <td>🙌🏼 believe in ya dreams 🙌🏼 just like I believe...</td>\n",
       "      <td>25.0</td>\n",
       "      <td>1.0</td>\n",
       "    </tr>\n",
       "    <tr>\n",
       "      <th>2</th>\n",
       "      <td>28370933</td>\n",
       "      <td>-1</td>\n",
       "      <td>BRgkjcXFp3Q</td>\n",
       "      <td>3.134296e+08</td>\n",
       "      <td>4.574268e+14</td>\n",
       "      <td>2017-03-11 20:05:03.000</td>\n",
       "      <td>1</td>\n",
       "      <td>#meraviglia #incensi #the #candele #profumo #a...</td>\n",
       "      <td>9.0</td>\n",
       "      <td>0.0</td>\n",
       "    </tr>\n",
       "    <tr>\n",
       "      <th>3</th>\n",
       "      <td>28370934</td>\n",
       "      <td>-1</td>\n",
       "      <td>BKTKeNhjEA7</td>\n",
       "      <td>1.837593e+09</td>\n",
       "      <td>4.574268e+14</td>\n",
       "      <td>2016-09-13 16:27:16.000</td>\n",
       "      <td>1</td>\n",
       "      <td>#teatime #scorpion #friends #love #mountains #...</td>\n",
       "      <td>4.0</td>\n",
       "      <td>0.0</td>\n",
       "    </tr>\n",
       "    <tr>\n",
       "      <th>4</th>\n",
       "      <td>28370935</td>\n",
       "      <td>-1</td>\n",
       "      <td>8-NQrvoYLX</td>\n",
       "      <td>1.131527e+09</td>\n",
       "      <td>4.574268e+14</td>\n",
       "      <td>2015-10-18 10:19:27.000</td>\n",
       "      <td>1</td>\n",
       "      <td>thE sky gavE mE a #constEllation</td>\n",
       "      <td>8.0</td>\n",
       "      <td>0.0</td>\n",
       "    </tr>\n",
       "  </tbody>\n",
       "</table>\n",
       "</div>"
      ],
      "text/plain": [
       "        sid  sid_profile      post_id    profile_id   location_id  \\\n",
       "0  28370919      3496776  BXdjjUlgcgq  2.237948e+09  1.022366e+15   \n",
       "1  28370932           -1  BVg0pbolYBC  5.579335e+09  4.574268e+14   \n",
       "2  28370933           -1  BRgkjcXFp3Q  3.134296e+08  4.574268e+14   \n",
       "3  28370934           -1  BKTKeNhjEA7  1.837593e+09  4.574268e+14   \n",
       "4  28370935           -1   8-NQrvoYLX  1.131527e+09  4.574268e+14   \n",
       "\n",
       "                       cts  post_type  \\\n",
       "0  2017-08-06 20:06:57.000          2   \n",
       "1  2017-06-19 09:31:16.000          1   \n",
       "2  2017-03-11 20:05:03.000          1   \n",
       "3  2016-09-13 16:27:16.000          1   \n",
       "4  2015-10-18 10:19:27.000          1   \n",
       "\n",
       "                                         description  numbr_likes  \\\n",
       "0  Wreckloose! Deevalley bike park laps on the @i...         80.0   \n",
       "1  🙌🏼 believe in ya dreams 🙌🏼 just like I believe...         25.0   \n",
       "2  #meraviglia #incensi #the #candele #profumo #a...          9.0   \n",
       "3  #teatime #scorpion #friends #love #mountains #...          4.0   \n",
       "4                   thE sky gavE mE a #constEllation          8.0   \n",
       "\n",
       "   number_comments  \n",
       "0              0.0  \n",
       "1              1.0  \n",
       "2              0.0  \n",
       "3              0.0  \n",
       "4              0.0  "
      ]
     },
     "execution_count": 2,
     "metadata": {},
     "output_type": "execute_result"
    }
   ],
   "source": [
    "# Load dataset\n",
    "posts = pd.read_csv('../instagram-dataset/instagram_posts.csv', sep='\\t')\n",
    "print(posts.shape)\n",
    "posts.head()"
   ]
  },
  {
   "cell_type": "code",
   "execution_count": 3,
   "id": "011582c0-e931-4e2e-8d92-017e04de74cb",
   "metadata": {},
   "outputs": [],
   "source": [
    "# Extract 'profile_id', 'location_id', 'cts', 'description' columns\n",
    "posts = posts[['profile_id', 'location_id', 'cts', 'description']]"
   ]
  },
  {
   "cell_type": "code",
   "execution_count": 4,
   "id": "31d81ee9-cf82-445b-9e33-e7ecf644263e",
   "metadata": {},
   "outputs": [
    {
     "name": "stdout",
     "output_type": "stream",
     "text": [
      "<class 'pandas.core.frame.DataFrame'>\n",
      "RangeIndex: 42710197 entries, 0 to 42710196\n",
      "Data columns (total 4 columns):\n",
      " #   Column       Non-Null Count     Dtype  \n",
      "---  ------       --------------     -----  \n",
      " 0   profile_id   40126905 non-null  float64\n",
      " 1   location_id  29737425 non-null  float64\n",
      " 2   cts          42706865 non-null  object \n",
      " 3   description  38714789 non-null  object \n",
      "dtypes: float64(2), object(2)\n",
      "memory usage: 1.3+ GB\n"
     ]
    }
   ],
   "source": [
    "# Check null values and data types\n",
    "posts.info(show_counts=True)"
   ]
  },
  {
   "cell_type": "code",
   "execution_count": 5,
   "id": "9cacb827-c9d8-4224-a60c-f0a7bb678d7f",
   "metadata": {},
   "outputs": [
    {
     "data": {
      "text/plain": [
       "profile_id      2583292\n",
       "location_id    12972772\n",
       "cts                3332\n",
       "description     3995408\n",
       "dtype: int64"
      ]
     },
     "execution_count": 5,
     "metadata": {},
     "output_type": "execute_result"
    }
   ],
   "source": [
    "# Check null values\n",
    "posts.isnull().sum()"
   ]
  },
  {
   "cell_type": "code",
   "execution_count": 6,
   "id": "ab4c04ba-7450-487e-af45-adca87d8c3fd",
   "metadata": {},
   "outputs": [
    {
     "data": {
      "text/plain": [
       "0.06048419771980916"
      ]
     },
     "execution_count": 6,
     "metadata": {},
     "output_type": "execute_result"
    }
   ],
   "source": [
    "# Check proportion of null values in 'profile_id' col\n",
    "posts['profile_id'].isnull().sum() / len(posts)"
   ]
  },
  {
   "cell_type": "code",
   "execution_count": 7,
   "id": "6f81c3a6-ec57-4da5-ba5f-832986d59f98",
   "metadata": {},
   "outputs": [
    {
     "data": {
      "text/plain": [
       "0.30373945594303864"
      ]
     },
     "execution_count": 7,
     "metadata": {},
     "output_type": "execute_result"
    }
   ],
   "source": [
    "# Check proportion of null values in 'location_id' col\n",
    "posts['location_id'].isnull().sum() / len(posts)"
   ]
  },
  {
   "cell_type": "code",
   "execution_count": 8,
   "id": "b9601e4d-1141-4836-aec2-ad8e8e78a923",
   "metadata": {},
   "outputs": [
    {
     "data": {
      "text/plain": [
       "7.801415666614696e-05"
      ]
     },
     "execution_count": 8,
     "metadata": {},
     "output_type": "execute_result"
    }
   ],
   "source": [
    "# Check proportion of null values in 'cts' col\n",
    "posts['cts'].isnull().sum() / len(posts)"
   ]
  },
  {
   "cell_type": "code",
   "execution_count": 9,
   "id": "0e9ac16f-5ca5-46da-b0fa-caca3bff40f1",
   "metadata": {},
   "outputs": [
    {
     "data": {
      "text/plain": [
       "0.09354693447094145"
      ]
     },
     "execution_count": 9,
     "metadata": {},
     "output_type": "execute_result"
    }
   ],
   "source": [
    "# Check proportion of null values in 'description' col\n",
    "posts['description'].isnull().sum() / len(posts)"
   ]
  },
  {
   "cell_type": "markdown",
   "id": "59810b09-9005-43e9-bbcf-993005080485",
   "metadata": {},
   "source": [
    "For the purpose of this project, to enable collaborative filtering, we will need `profile_id` and `description` to find out user preference, and `location_id` to identify places of interest so null values will be dropped though they are more than 1% of the dataset. The proportion of null values in `cts` column is less than 1% of the dataset so it can be dropped."
   ]
  },
  {
   "cell_type": "code",
   "execution_count": 10,
   "id": "987319e0-a5ee-4121-8a4b-bfb967151745",
   "metadata": {},
   "outputs": [],
   "source": [
    "# Drop null values\n",
    "posts.dropna(inplace=True)"
   ]
  },
  {
   "cell_type": "code",
   "execution_count": 11,
   "id": "b69f2998-ced0-48fb-9199-ddfc309bb06b",
   "metadata": {},
   "outputs": [],
   "source": [
    "# Reset index\n",
    "posts.reset_index(drop=True, inplace=True)"
   ]
  },
  {
   "cell_type": "code",
   "execution_count": 12,
   "id": "16543ad6-27b2-4971-9994-785b52a58d58",
   "metadata": {},
   "outputs": [
    {
     "name": "stdout",
     "output_type": "stream",
     "text": [
      "<class 'pandas.core.frame.DataFrame'>\n",
      "RangeIndex: 26430128 entries, 0 to 26430127\n",
      "Data columns (total 4 columns):\n",
      " #   Column       Non-Null Count     Dtype  \n",
      "---  ------       --------------     -----  \n",
      " 0   profile_id   26430128 non-null  float64\n",
      " 1   location_id  26430128 non-null  float64\n",
      " 2   cts          26430128 non-null  object \n",
      " 3   description  26430128 non-null  object \n",
      "dtypes: float64(2), object(2)\n",
      "memory usage: 806.6+ MB\n"
     ]
    }
   ],
   "source": [
    "# Check that null values have been dropped\n",
    "posts.info(show_counts=True)"
   ]
  },
  {
   "cell_type": "code",
   "execution_count": 13,
   "id": "1cc48ac9-8ee3-4115-b697-ff40ba965a56",
   "metadata": {},
   "outputs": [
    {
     "data": {
      "text/html": [
       "<div>\n",
       "<style scoped>\n",
       "    .dataframe tbody tr th:only-of-type {\n",
       "        vertical-align: middle;\n",
       "    }\n",
       "\n",
       "    .dataframe tbody tr th {\n",
       "        vertical-align: top;\n",
       "    }\n",
       "\n",
       "    .dataframe thead th {\n",
       "        text-align: right;\n",
       "    }\n",
       "</style>\n",
       "<table border=\"1\" class=\"dataframe\">\n",
       "  <thead>\n",
       "    <tr style=\"text-align: right;\">\n",
       "      <th></th>\n",
       "      <th>profile_id</th>\n",
       "      <th>location_id</th>\n",
       "      <th>cts</th>\n",
       "      <th>description</th>\n",
       "    </tr>\n",
       "  </thead>\n",
       "  <tbody>\n",
       "    <tr>\n",
       "      <th>0</th>\n",
       "      <td>2.237948e+09</td>\n",
       "      <td>1.022366e+15</td>\n",
       "      <td>2017-08-06 20:06:57.000</td>\n",
       "      <td>Wreckloose! Deevalley bike park laps on the @i...</td>\n",
       "    </tr>\n",
       "    <tr>\n",
       "      <th>1</th>\n",
       "      <td>5.579335e+09</td>\n",
       "      <td>4.574268e+14</td>\n",
       "      <td>2017-06-19 09:31:16.000</td>\n",
       "      <td>🙌🏼 believe in ya dreams 🙌🏼 just like I believe...</td>\n",
       "    </tr>\n",
       "    <tr>\n",
       "      <th>2</th>\n",
       "      <td>3.134296e+08</td>\n",
       "      <td>4.574268e+14</td>\n",
       "      <td>2017-03-11 20:05:03.000</td>\n",
       "      <td>#meraviglia #incensi #the #candele #profumo #a...</td>\n",
       "    </tr>\n",
       "    <tr>\n",
       "      <th>3</th>\n",
       "      <td>1.837593e+09</td>\n",
       "      <td>4.574268e+14</td>\n",
       "      <td>2016-09-13 16:27:16.000</td>\n",
       "      <td>#teatime #scorpion #friends #love #mountains #...</td>\n",
       "    </tr>\n",
       "    <tr>\n",
       "      <th>4</th>\n",
       "      <td>1.131527e+09</td>\n",
       "      <td>4.574268e+14</td>\n",
       "      <td>2015-10-18 10:19:27.000</td>\n",
       "      <td>thE sky gavE mE a #constEllation</td>\n",
       "    </tr>\n",
       "  </tbody>\n",
       "</table>\n",
       "</div>"
      ],
      "text/plain": [
       "     profile_id   location_id                      cts  \\\n",
       "0  2.237948e+09  1.022366e+15  2017-08-06 20:06:57.000   \n",
       "1  5.579335e+09  4.574268e+14  2017-06-19 09:31:16.000   \n",
       "2  3.134296e+08  4.574268e+14  2017-03-11 20:05:03.000   \n",
       "3  1.837593e+09  4.574268e+14  2016-09-13 16:27:16.000   \n",
       "4  1.131527e+09  4.574268e+14  2015-10-18 10:19:27.000   \n",
       "\n",
       "                                         description  \n",
       "0  Wreckloose! Deevalley bike park laps on the @i...  \n",
       "1  🙌🏼 believe in ya dreams 🙌🏼 just like I believe...  \n",
       "2  #meraviglia #incensi #the #candele #profumo #a...  \n",
       "3  #teatime #scorpion #friends #love #mountains #...  \n",
       "4                   thE sky gavE mE a #constEllation  "
      ]
     },
     "execution_count": 13,
     "metadata": {},
     "output_type": "execute_result"
    }
   ],
   "source": [
    "posts.head()"
   ]
  },
  {
   "cell_type": "code",
   "execution_count": 14,
   "id": "1c775962-9d89-4d75-9eb4-b476a3942a75",
   "metadata": {},
   "outputs": [],
   "source": [
    "# Save and export\n",
    "posts.to_csv('./output/posts.csv', index=False)"
   ]
  },
  {
   "cell_type": "markdown",
   "id": "161c20e9-950e-4d05-b1ae-e711a907e188",
   "metadata": {},
   "source": [
    "#### Instagram locations data"
   ]
  },
  {
   "cell_type": "code",
   "execution_count": 16,
   "id": "ae638ed4-b061-4fcd-a9a1-c377b1608fd4",
   "metadata": {},
   "outputs": [
    {
     "name": "stdout",
     "output_type": "stream",
     "text": [
      "(1022658, 23)\n"
     ]
    },
    {
     "data": {
      "text/html": [
       "<div>\n",
       "<style scoped>\n",
       "    .dataframe tbody tr th:only-of-type {\n",
       "        vertical-align: middle;\n",
       "    }\n",
       "\n",
       "    .dataframe tbody tr th {\n",
       "        vertical-align: top;\n",
       "    }\n",
       "\n",
       "    .dataframe thead th {\n",
       "        text-align: right;\n",
       "    }\n",
       "</style>\n",
       "<table border=\"1\" class=\"dataframe\">\n",
       "  <thead>\n",
       "    <tr style=\"text-align: right;\">\n",
       "      <th></th>\n",
       "      <th>sid</th>\n",
       "      <th>id</th>\n",
       "      <th>name</th>\n",
       "      <th>street</th>\n",
       "      <th>zip</th>\n",
       "      <th>city</th>\n",
       "      <th>region</th>\n",
       "      <th>cd</th>\n",
       "      <th>phone</th>\n",
       "      <th>aj_exact_city_match</th>\n",
       "      <th>...</th>\n",
       "      <th>dir_city_name</th>\n",
       "      <th>dir_city_slug</th>\n",
       "      <th>dir_country_id</th>\n",
       "      <th>dir_country_name</th>\n",
       "      <th>lat</th>\n",
       "      <th>lng</th>\n",
       "      <th>primary_alias_on_fb</th>\n",
       "      <th>slug</th>\n",
       "      <th>website</th>\n",
       "      <th>cts</th>\n",
       "    </tr>\n",
       "  </thead>\n",
       "  <tbody>\n",
       "    <tr>\n",
       "      <th>0</th>\n",
       "      <td>719981</td>\n",
       "      <td>110296492939207</td>\n",
       "      <td>Playa de Daimuz - Valencia, España</td>\n",
       "      <td>NaN</td>\n",
       "      <td>NaN</td>\n",
       "      <td>NaN</td>\n",
       "      <td>NaN</td>\n",
       "      <td>NaN</td>\n",
       "      <td>NaN</td>\n",
       "      <td>False</td>\n",
       "      <td>...</td>\n",
       "      <td>NaN</td>\n",
       "      <td>NaN</td>\n",
       "      <td>NaN</td>\n",
       "      <td>NaN</td>\n",
       "      <td>-0.139475</td>\n",
       "      <td>38.974391</td>\n",
       "      <td>daimuzplaya</td>\n",
       "      <td>playa-de-daimuz-valencia-espana</td>\n",
       "      <td>https://es.wikipedia.org/wiki/Daimuz</td>\n",
       "      <td>2019-05-29 01:21:29.987</td>\n",
       "    </tr>\n",
       "    <tr>\n",
       "      <th>1</th>\n",
       "      <td>719983</td>\n",
       "      <td>274391278</td>\n",
       "      <td>Nová Vieska</td>\n",
       "      <td>NaN</td>\n",
       "      <td>NaN</td>\n",
       "      <td>Nová Vieska</td>\n",
       "      <td>NaN</td>\n",
       "      <td>SK</td>\n",
       "      <td>NaN</td>\n",
       "      <td>True</td>\n",
       "      <td>...</td>\n",
       "      <td>Kis-Újfalu</td>\n",
       "      <td>kis-ujfalu</td>\n",
       "      <td>SK</td>\n",
       "      <td>Slovakia</td>\n",
       "      <td>18.466667</td>\n",
       "      <td>47.866667</td>\n",
       "      <td>NaN</td>\n",
       "      <td>nova-vieska</td>\n",
       "      <td>NaN</td>\n",
       "      <td>2019-05-29 01:21:38.037</td>\n",
       "    </tr>\n",
       "    <tr>\n",
       "      <th>2</th>\n",
       "      <td>719985</td>\n",
       "      <td>148885595789195</td>\n",
       "      <td>Everest Today</td>\n",
       "      <td>Himalayas</td>\n",
       "      <td>+977</td>\n",
       "      <td>Kathmandu, Nepal</td>\n",
       "      <td>NaN</td>\n",
       "      <td>NP</td>\n",
       "      <td>NaN</td>\n",
       "      <td>False</td>\n",
       "      <td>...</td>\n",
       "      <td>Pasupati</td>\n",
       "      <td>pasupati</td>\n",
       "      <td>NP</td>\n",
       "      <td>Nepal</td>\n",
       "      <td>85.330150</td>\n",
       "      <td>27.701960</td>\n",
       "      <td>EverestToday</td>\n",
       "      <td>everest-today</td>\n",
       "      <td>NaN</td>\n",
       "      <td>2019-05-29 01:21:46.295</td>\n",
       "    </tr>\n",
       "    <tr>\n",
       "      <th>3</th>\n",
       "      <td>719987</td>\n",
       "      <td>263258277</td>\n",
       "      <td>BULAC - Bibliothèque universitaire des langues...</td>\n",
       "      <td>65, rue des Grands-Moulins</td>\n",
       "      <td>75013</td>\n",
       "      <td>Paris, France</td>\n",
       "      <td>NaN</td>\n",
       "      <td>FR</td>\n",
       "      <td>01 81 69 18 00</td>\n",
       "      <td>False</td>\n",
       "      <td>...</td>\n",
       "      <td>13ème Arrondissement Paris</td>\n",
       "      <td>13eme-arrondissement-paris</td>\n",
       "      <td>FR</td>\n",
       "      <td>France</td>\n",
       "      <td>2.375995</td>\n",
       "      <td>48.827240</td>\n",
       "      <td>BULAC.Paris</td>\n",
       "      <td>bulac-bibliotheque-universitaire-des-langues-e...</td>\n",
       "      <td>www.bulac.fr</td>\n",
       "      <td>2019-05-29 01:21:54.355</td>\n",
       "    </tr>\n",
       "    <tr>\n",
       "      <th>4</th>\n",
       "      <td>326443</td>\n",
       "      <td>406147529857708</td>\n",
       "      <td>ABC Cable Networks Group</td>\n",
       "      <td>3800 W Alameda Ave</td>\n",
       "      <td>91505</td>\n",
       "      <td>Burbank, California</td>\n",
       "      <td>NaN</td>\n",
       "      <td>US</td>\n",
       "      <td>(818) 569-7500</td>\n",
       "      <td>False</td>\n",
       "      <td>...</td>\n",
       "      <td>NaN</td>\n",
       "      <td>NaN</td>\n",
       "      <td>NaN</td>\n",
       "      <td>NaN</td>\n",
       "      <td>-118.341864</td>\n",
       "      <td>34.153265</td>\n",
       "      <td>NaN</td>\n",
       "      <td>abc-cable-networks-group</td>\n",
       "      <td>NaN</td>\n",
       "      <td>2019-04-02 15:22:55.703</td>\n",
       "    </tr>\n",
       "  </tbody>\n",
       "</table>\n",
       "<p>5 rows × 23 columns</p>\n",
       "</div>"
      ],
      "text/plain": [
       "      sid               id                                               name  \\\n",
       "0  719981  110296492939207                 Playa de Daimuz - Valencia, España   \n",
       "1  719983        274391278                                        Nová Vieska   \n",
       "2  719985  148885595789195                                      Everest Today   \n",
       "3  719987        263258277  BULAC - Bibliothèque universitaire des langues...   \n",
       "4  326443  406147529857708                           ABC Cable Networks Group   \n",
       "\n",
       "                       street    zip                 city region   cd  \\\n",
       "0                         NaN    NaN                  NaN    NaN  NaN   \n",
       "1                         NaN    NaN          Nová Vieska    NaN   SK   \n",
       "2                   Himalayas   +977     Kathmandu, Nepal    NaN   NP   \n",
       "3  65, rue des Grands-Moulins  75013        Paris, France    NaN   FR   \n",
       "4          3800 W Alameda Ave  91505  Burbank, California    NaN   US   \n",
       "\n",
       "            phone aj_exact_city_match  ...               dir_city_name  \\\n",
       "0             NaN               False  ...                         NaN   \n",
       "1             NaN                True  ...                  Kis-Újfalu   \n",
       "2             NaN               False  ...                    Pasupati   \n",
       "3  01 81 69 18 00               False  ...  13ème Arrondissement Paris   \n",
       "4  (818) 569-7500               False  ...                         NaN   \n",
       "\n",
       "                dir_city_slug dir_country_id dir_country_name         lat  \\\n",
       "0                         NaN            NaN              NaN   -0.139475   \n",
       "1                  kis-ujfalu             SK         Slovakia   18.466667   \n",
       "2                    pasupati             NP            Nepal   85.330150   \n",
       "3  13eme-arrondissement-paris             FR           France    2.375995   \n",
       "4                         NaN            NaN              NaN -118.341864   \n",
       "\n",
       "         lng primary_alias_on_fb  \\\n",
       "0  38.974391         daimuzplaya   \n",
       "1  47.866667                 NaN   \n",
       "2  27.701960        EverestToday   \n",
       "3  48.827240         BULAC.Paris   \n",
       "4  34.153265                 NaN   \n",
       "\n",
       "                                                slug  \\\n",
       "0                    playa-de-daimuz-valencia-espana   \n",
       "1                                        nova-vieska   \n",
       "2                                      everest-today   \n",
       "3  bulac-bibliotheque-universitaire-des-langues-e...   \n",
       "4                           abc-cable-networks-group   \n",
       "\n",
       "                                website                      cts  \n",
       "0  https://es.wikipedia.org/wiki/Daimuz  2019-05-29 01:21:29.987  \n",
       "1                                   NaN  2019-05-29 01:21:38.037  \n",
       "2                                   NaN  2019-05-29 01:21:46.295  \n",
       "3                          www.bulac.fr  2019-05-29 01:21:54.355  \n",
       "4                                   NaN  2019-04-02 15:22:55.703  \n",
       "\n",
       "[5 rows x 23 columns]"
      ]
     },
     "execution_count": 16,
     "metadata": {},
     "output_type": "execute_result"
    }
   ],
   "source": [
    "# Load dataset\n",
    "locations = pd.read_csv('../instagram-dataset/instagram_locations.csv', sep='\\t')\n",
    "print(locations.shape)\n",
    "locations.head()"
   ]
  },
  {
   "cell_type": "code",
   "execution_count": 17,
   "id": "78389118-531c-41fd-9273-842c9a121332",
   "metadata": {},
   "outputs": [],
   "source": [
    "# Extract 'id', 'city', 'cd', 'dir_country_name' columns\n",
    "locations = locations[['id', 'name', 'city', 'cd', 'dir_country_name']]"
   ]
  },
  {
   "cell_type": "code",
   "execution_count": 18,
   "id": "35178e0f-635b-44d9-a8f2-b37fa7a4d513",
   "metadata": {},
   "outputs": [
    {
     "name": "stdout",
     "output_type": "stream",
     "text": [
      "<class 'pandas.core.frame.DataFrame'>\n",
      "RangeIndex: 1022658 entries, 0 to 1022657\n",
      "Data columns (total 5 columns):\n",
      " #   Column            Non-Null Count    Dtype \n",
      "---  ------            --------------    ----- \n",
      " 0   id                1022658 non-null  int64 \n",
      " 1   name              1022658 non-null  object\n",
      " 2   city              937166 non-null   object\n",
      " 3   cd                939010 non-null   object\n",
      " 4   dir_country_name  495698 non-null   object\n",
      "dtypes: int64(1), object(4)\n",
      "memory usage: 39.0+ MB\n"
     ]
    }
   ],
   "source": [
    "# Check null values and data types\n",
    "locations.info(show_counts=True)"
   ]
  },
  {
   "cell_type": "markdown",
   "id": "0da9803b-0a13-4f99-8c45-d5f587cac600",
   "metadata": {},
   "source": [
    "`cd` and `dir_country_name` columns are both country names. Since `cd` column has less null values, we will drop `dir_country_name` column."
   ]
  },
  {
   "cell_type": "code",
   "execution_count": 19,
   "id": "2e3e98fa-4ae8-4c2c-abac-38924a6cd727",
   "metadata": {},
   "outputs": [],
   "source": [
    "# Extract 'id', 'city', 'cd' columns\n",
    "locations = locations[['id','name', 'city', 'cd']]"
   ]
  },
  {
   "cell_type": "code",
   "execution_count": 20,
   "id": "149053dd-6147-4cfb-99f1-6174a24e3f02",
   "metadata": {},
   "outputs": [
    {
     "data": {
      "text/plain": [
       "id          0\n",
       "name        0\n",
       "city    85492\n",
       "cd      83648\n",
       "dtype: int64"
      ]
     },
     "execution_count": 20,
     "metadata": {},
     "output_type": "execute_result"
    }
   ],
   "source": [
    "# Check null values\n",
    "locations.isnull().sum()"
   ]
  },
  {
   "cell_type": "code",
   "execution_count": 21,
   "id": "8c5d1ad8-04ec-4a69-9630-514ac39bac4e",
   "metadata": {},
   "outputs": [
    {
     "data": {
      "text/plain": [
       "0.0835978401381498"
      ]
     },
     "execution_count": 21,
     "metadata": {},
     "output_type": "execute_result"
    }
   ],
   "source": [
    "# Check proportion of null values in 'city' col\n",
    "locations['city'].isnull().sum() / len(locations)"
   ]
  },
  {
   "cell_type": "code",
   "execution_count": 22,
   "id": "160ed01a-fddd-48f9-a2ce-d681b36f869f",
   "metadata": {},
   "outputs": [
    {
     "data": {
      "text/plain": [
       "0.08179469578294991"
      ]
     },
     "execution_count": 22,
     "metadata": {},
     "output_type": "execute_result"
    }
   ],
   "source": [
    "# Check proportion of null values in 'cd' col\n",
    "locations['cd'].isnull().sum() / len(locations)"
   ]
  },
  {
   "cell_type": "markdown",
   "id": "b25168f2-9ccd-4a07-95bc-d84c74e50b78",
   "metadata": {},
   "source": [
    "For this project, we will need the names of the cities and countries so the rows with null values will be dropped though the proportions of null values in `city` and `cd` columns are both more than 1%."
   ]
  },
  {
   "cell_type": "code",
   "execution_count": 23,
   "id": "903a037c-8e97-4a0a-b254-92f140b6412c",
   "metadata": {},
   "outputs": [],
   "source": [
    "# Drop null values\n",
    "locations.dropna(inplace=True)"
   ]
  },
  {
   "cell_type": "code",
   "execution_count": 24,
   "id": "56414e17-d27d-4c1a-bbeb-1b82fbaa1e96",
   "metadata": {},
   "outputs": [],
   "source": [
    "# Reset index\n",
    "locations.reset_index(drop=True, inplace=True)"
   ]
  },
  {
   "cell_type": "code",
   "execution_count": 25,
   "id": "f1f07376-d919-4aa9-a89e-0f7f5d16714a",
   "metadata": {},
   "outputs": [
    {
     "name": "stdout",
     "output_type": "stream",
     "text": [
      "<class 'pandas.core.frame.DataFrame'>\n",
      "RangeIndex: 937061 entries, 0 to 937060\n",
      "Data columns (total 4 columns):\n",
      " #   Column  Non-Null Count   Dtype \n",
      "---  ------  --------------   ----- \n",
      " 0   id      937061 non-null  int64 \n",
      " 1   name    937061 non-null  object\n",
      " 2   city    937061 non-null  object\n",
      " 3   cd      937061 non-null  object\n",
      "dtypes: int64(1), object(3)\n",
      "memory usage: 28.6+ MB\n"
     ]
    }
   ],
   "source": [
    "# Check all changes\n",
    "locations.info(show_counts=True)"
   ]
  },
  {
   "cell_type": "code",
   "execution_count": 26,
   "id": "fe3f365c-c979-4d5c-9f08-ccf3d77d492f",
   "metadata": {},
   "outputs": [
    {
     "data": {
      "text/html": [
       "<div>\n",
       "<style scoped>\n",
       "    .dataframe tbody tr th:only-of-type {\n",
       "        vertical-align: middle;\n",
       "    }\n",
       "\n",
       "    .dataframe tbody tr th {\n",
       "        vertical-align: top;\n",
       "    }\n",
       "\n",
       "    .dataframe thead th {\n",
       "        text-align: right;\n",
       "    }\n",
       "</style>\n",
       "<table border=\"1\" class=\"dataframe\">\n",
       "  <thead>\n",
       "    <tr style=\"text-align: right;\">\n",
       "      <th></th>\n",
       "      <th>id</th>\n",
       "      <th>name</th>\n",
       "      <th>city</th>\n",
       "      <th>cd</th>\n",
       "    </tr>\n",
       "  </thead>\n",
       "  <tbody>\n",
       "    <tr>\n",
       "      <th>0</th>\n",
       "      <td>274391278</td>\n",
       "      <td>Nová Vieska</td>\n",
       "      <td>Nová Vieska</td>\n",
       "      <td>SK</td>\n",
       "    </tr>\n",
       "    <tr>\n",
       "      <th>1</th>\n",
       "      <td>148885595789195</td>\n",
       "      <td>Everest Today</td>\n",
       "      <td>Kathmandu, Nepal</td>\n",
       "      <td>NP</td>\n",
       "    </tr>\n",
       "    <tr>\n",
       "      <th>2</th>\n",
       "      <td>263258277</td>\n",
       "      <td>BULAC - Bibliothèque universitaire des langues...</td>\n",
       "      <td>Paris, France</td>\n",
       "      <td>FR</td>\n",
       "    </tr>\n",
       "    <tr>\n",
       "      <th>3</th>\n",
       "      <td>406147529857708</td>\n",
       "      <td>ABC Cable Networks Group</td>\n",
       "      <td>Burbank, California</td>\n",
       "      <td>US</td>\n",
       "    </tr>\n",
       "    <tr>\n",
       "      <th>4</th>\n",
       "      <td>1651686855080719</td>\n",
       "      <td>Tampines, Singapore</td>\n",
       "      <td>Singapore</td>\n",
       "      <td>SG</td>\n",
       "    </tr>\n",
       "  </tbody>\n",
       "</table>\n",
       "</div>"
      ],
      "text/plain": [
       "                 id                                               name  \\\n",
       "0         274391278                                        Nová Vieska   \n",
       "1   148885595789195                                      Everest Today   \n",
       "2         263258277  BULAC - Bibliothèque universitaire des langues...   \n",
       "3   406147529857708                           ABC Cable Networks Group   \n",
       "4  1651686855080719                                Tampines, Singapore   \n",
       "\n",
       "                  city  cd  \n",
       "0          Nová Vieska  SK  \n",
       "1     Kathmandu, Nepal  NP  \n",
       "2        Paris, France  FR  \n",
       "3  Burbank, California  US  \n",
       "4            Singapore  SG  "
      ]
     },
     "execution_count": 26,
     "metadata": {},
     "output_type": "execute_result"
    }
   ],
   "source": [
    "locations.head()"
   ]
  },
  {
   "cell_type": "code",
   "execution_count": 27,
   "id": "90045e09-a259-4d94-8447-88c7116b1564",
   "metadata": {},
   "outputs": [],
   "source": [
    "# Save and export\n",
    "locations.to_csv('./output/locations.csv', index=False)"
   ]
  },
  {
   "cell_type": "markdown",
   "id": "c5bd5dc6-72f2-466c-b82c-30ecc644090e",
   "metadata": {},
   "source": [
    "##### Filter locations to the city of London only\n",
    "- Check city names with 'London'\n",
    "- Cross check the city of London with the country code 'GB'\n",
    "- Rename the name of the city to standardise across the dataset\n",
    "- Save and export"
   ]
  },
  {
   "cell_type": "code",
   "execution_count": 28,
   "id": "fcf37f61-8237-4209-ad04-f7224145ab13",
   "metadata": {},
   "outputs": [
    {
     "name": "stdout",
     "output_type": "stream",
     "text": [
      "['London, United Kingdom', 'Londonderry, Northern Ireland', 'Londonderry, Ross County, Ohio', 'Larkswood, London', 'East London, Eastern Cape', 'London, Ontario', 'East Ham South, London', 'Purley, London', 'Eglinton, Londonderry, United Kingdom', 'Hanwell, London, United Kingdom', 'London, Kentucky', 'New London, New Hampshire', 'New London, Connecticut', 'Balham, London, England', 'Lady Margaret, London', 'London Colney', 'Sutton, London', 'New London, Wisconsin', 'Londonderry, Nova Scotia', 'Chinatown, London', 'Londonderry, New Hampshire', 'Hampton, London, United Kingdom', 'Wallington, London', 'London, Ohio', 'New London, Ohio', 'Creggan, Londonderry, United Kingdom', \"Queen's Gate, London SW7\", 'Londonderry, Vermont', 'Little London, Westmoreland, Jamaica', 'Cranford, London', 'Drumahoe, Londonderry, United Kingdom', 'Londoni, Central, Fiji', 'Custom House, London', 'South Londonderry, Vermont', 'New London, North Carolina', 'Bethnal Green South, London', 'Tottenham Green, London', 'North Londonderry, New Hampshire', 'Maida Vale, London, United Kingdom', 'Petersham, London', 'London, Arkansas', 'Westmount, London, Ontario', 'Highbury West, London', 'New London, Iowa', 'New London, Minnesota', 'Cove Rock, East London', 'New London, Indiana', 'Ardmore, County Londonderry', 'Nahoon Beach, East London', 'Woolwich Common, London', 'Hampton Hill, London, United Kingdom', \"Figge's Marsh, London\", 'Cornhill, London', 'Bromley Town, London', 'Campsie, Londonderry', 'Plaistow South, London', 'Cowley, London', 'Strawberry Hill, London', 'Downtown New London, Connecticut', 'Lime Street, London', \"St Ann's, London\", 'Endlebury, London', 'East London', 'North London', 'Blackheath Westcombe, London', 'Golborne, London', 'Hainault, London', 'Cremorne, London', 'South London', 'Seven Sisters, London', 'East Ham North, London', 'Fanshawe, London, Ontario', 'Stonebridge, London', 'Northcote, London', 'Sutton West, London', 'Newington, London']\n"
     ]
    }
   ],
   "source": [
    "# Check city names with 'London'\n",
    "# Check if the string contains a substring from the list\n",
    "str1 = \"London\"\n",
    "res = [string for string in list(locations['city'].unique()) if str1 in string]\n",
    "\n",
    "print(res)"
   ]
  },
  {
   "cell_type": "code",
   "execution_count": 29,
   "id": "0691a05a-2628-455a-be7c-41d59cb8cbf0",
   "metadata": {},
   "outputs": [
    {
     "data": {
      "text/html": [
       "<div>\n",
       "<style scoped>\n",
       "    .dataframe tbody tr th:only-of-type {\n",
       "        vertical-align: middle;\n",
       "    }\n",
       "\n",
       "    .dataframe tbody tr th {\n",
       "        vertical-align: top;\n",
       "    }\n",
       "\n",
       "    .dataframe thead th {\n",
       "        text-align: right;\n",
       "    }\n",
       "</style>\n",
       "<table border=\"1\" class=\"dataframe\">\n",
       "  <thead>\n",
       "    <tr style=\"text-align: right;\">\n",
       "      <th></th>\n",
       "      <th>id</th>\n",
       "      <th>name</th>\n",
       "      <th>city</th>\n",
       "      <th>cd</th>\n",
       "    </tr>\n",
       "  </thead>\n",
       "  <tbody>\n",
       "    <tr>\n",
       "      <th>15</th>\n",
       "      <td>845293065</td>\n",
       "      <td>North Wembley</td>\n",
       "      <td>London, United Kingdom</td>\n",
       "      <td>GB</td>\n",
       "    </tr>\n",
       "    <tr>\n",
       "      <th>34</th>\n",
       "      <td>367398224</td>\n",
       "      <td>Heston Blumenthal at the Perfectionist's Cafe</td>\n",
       "      <td>London, United Kingdom</td>\n",
       "      <td>GB</td>\n",
       "    </tr>\n",
       "    <tr>\n",
       "      <th>42</th>\n",
       "      <td>1178180</td>\n",
       "      <td>La Famiglia</td>\n",
       "      <td>London, United Kingdom</td>\n",
       "      <td>GB</td>\n",
       "    </tr>\n",
       "    <tr>\n",
       "      <th>67</th>\n",
       "      <td>134002180597091</td>\n",
       "      <td>Brondesbury Medical Centre</td>\n",
       "      <td>London, United Kingdom</td>\n",
       "      <td>GB</td>\n",
       "    </tr>\n",
       "    <tr>\n",
       "      <th>68</th>\n",
       "      <td>557445258066180</td>\n",
       "      <td>SingEasy West End</td>\n",
       "      <td>London, United Kingdom</td>\n",
       "      <td>GB</td>\n",
       "    </tr>\n",
       "  </tbody>\n",
       "</table>\n",
       "</div>"
      ],
      "text/plain": [
       "                 id                                           name  \\\n",
       "15        845293065                                  North Wembley   \n",
       "34        367398224  Heston Blumenthal at the Perfectionist's Cafe   \n",
       "42          1178180                                    La Famiglia   \n",
       "67  134002180597091                     Brondesbury Medical Centre   \n",
       "68  557445258066180                              SingEasy West End   \n",
       "\n",
       "                      city  cd  \n",
       "15  London, United Kingdom  GB  \n",
       "34  London, United Kingdom  GB  \n",
       "42  London, United Kingdom  GB  \n",
       "67  London, United Kingdom  GB  \n",
       "68  London, United Kingdom  GB  "
      ]
     },
     "execution_count": 29,
     "metadata": {},
     "output_type": "execute_result"
    }
   ],
   "source": [
    "# Cross check the city of London with the country code 'GB'\n",
    "locations[locations['city']=='London, United Kingdom'].head()"
   ]
  },
  {
   "cell_type": "markdown",
   "id": "44659dc6-f4d2-4e82-969e-eb8ce51f5ed1",
   "metadata": {},
   "source": [
    "These correspond to the locations in London, Great Britain, United Kingdom. The other rows containing 'London' in the 'city' columns will be checked. If they are in the UK, it will be renamed to 'London, United Kingdom'. If they are not in the UK, they will not be included for this project. To cross check the location further, we will search the location using 'id' on the Internet. For example, for ID=230466055, the url is https://www.instagram.com/explore/locations/230466055. We will also use Google Maps to cross-reference."
   ]
  },
  {
   "cell_type": "code",
   "execution_count": 30,
   "id": "5a24a8fe-3dfb-46f9-879d-70881ffc5643",
   "metadata": {},
   "outputs": [
    {
     "data": {
      "text/html": [
       "<div>\n",
       "<style scoped>\n",
       "    .dataframe tbody tr th:only-of-type {\n",
       "        vertical-align: middle;\n",
       "    }\n",
       "\n",
       "    .dataframe tbody tr th {\n",
       "        vertical-align: top;\n",
       "    }\n",
       "\n",
       "    .dataframe thead th {\n",
       "        text-align: right;\n",
       "    }\n",
       "</style>\n",
       "<table border=\"1\" class=\"dataframe\">\n",
       "  <thead>\n",
       "    <tr style=\"text-align: right;\">\n",
       "      <th></th>\n",
       "      <th>id</th>\n",
       "      <th>name</th>\n",
       "      <th>city</th>\n",
       "      <th>cd</th>\n",
       "    </tr>\n",
       "  </thead>\n",
       "  <tbody>\n",
       "    <tr>\n",
       "      <th>2088</th>\n",
       "      <td>737465505</td>\n",
       "      <td>Larkswood, London</td>\n",
       "      <td>Larkswood, London</td>\n",
       "      <td>GB</td>\n",
       "    </tr>\n",
       "  </tbody>\n",
       "</table>\n",
       "</div>"
      ],
      "text/plain": [
       "             id               name               city  cd\n",
       "2088  737465505  Larkswood, London  Larkswood, London  GB"
      ]
     },
     "execution_count": 30,
     "metadata": {},
     "output_type": "execute_result"
    }
   ],
   "source": [
    "# Cross check the city of London with the country code 'GB'\n",
    "locations[locations['city']=='Larkswood, London'].head()"
   ]
  },
  {
   "cell_type": "markdown",
   "id": "8bd9f678-4135-4c80-869e-187c170c262c",
   "metadata": {},
   "source": [
    "In this instance, the name of the city will be renamed 'London, United Kingdom' for this place called Larks Wood in London."
   ]
  },
  {
   "cell_type": "code",
   "execution_count": 31,
   "id": "647503f5-36af-4fc3-af12-c3bf445cc731",
   "metadata": {},
   "outputs": [
    {
     "data": {
      "text/html": [
       "<div>\n",
       "<style scoped>\n",
       "    .dataframe tbody tr th:only-of-type {\n",
       "        vertical-align: middle;\n",
       "    }\n",
       "\n",
       "    .dataframe tbody tr th {\n",
       "        vertical-align: top;\n",
       "    }\n",
       "\n",
       "    .dataframe thead th {\n",
       "        text-align: right;\n",
       "    }\n",
       "</style>\n",
       "<table border=\"1\" class=\"dataframe\">\n",
       "  <thead>\n",
       "    <tr style=\"text-align: right;\">\n",
       "      <th></th>\n",
       "      <th>id</th>\n",
       "      <th>name</th>\n",
       "      <th>city</th>\n",
       "      <th>cd</th>\n",
       "    </tr>\n",
       "  </thead>\n",
       "  <tbody>\n",
       "    <tr>\n",
       "      <th>3416</th>\n",
       "      <td>324435591</td>\n",
       "      <td>East London Guild Theatre</td>\n",
       "      <td>East London, Eastern Cape</td>\n",
       "      <td>ZA</td>\n",
       "    </tr>\n",
       "    <tr>\n",
       "      <th>17696</th>\n",
       "      <td>345230967</td>\n",
       "      <td>Life St Dominic's Hospital</td>\n",
       "      <td>East London, Eastern Cape</td>\n",
       "      <td>ZA</td>\n",
       "    </tr>\n",
       "    <tr>\n",
       "      <th>28429</th>\n",
       "      <td>474884067</td>\n",
       "      <td>Wild Coast Jikeleza Route</td>\n",
       "      <td>East London, Eastern Cape</td>\n",
       "      <td>ZA</td>\n",
       "    </tr>\n",
       "    <tr>\n",
       "      <th>58596</th>\n",
       "      <td>912393466</td>\n",
       "      <td>Cambrigde</td>\n",
       "      <td>East London, Eastern Cape</td>\n",
       "      <td>ZA</td>\n",
       "    </tr>\n",
       "    <tr>\n",
       "      <th>61304</th>\n",
       "      <td>1020578280</td>\n",
       "      <td>Beacon Bay Retail Park</td>\n",
       "      <td>East London, Eastern Cape</td>\n",
       "      <td>ZA</td>\n",
       "    </tr>\n",
       "  </tbody>\n",
       "</table>\n",
       "</div>"
      ],
      "text/plain": [
       "               id                        name                       city  cd\n",
       "3416    324435591   East London Guild Theatre  East London, Eastern Cape  ZA\n",
       "17696   345230967  Life St Dominic's Hospital  East London, Eastern Cape  ZA\n",
       "28429   474884067   Wild Coast Jikeleza Route  East London, Eastern Cape  ZA\n",
       "58596   912393466                   Cambrigde  East London, Eastern Cape  ZA\n",
       "61304  1020578280      Beacon Bay Retail Park  East London, Eastern Cape  ZA"
      ]
     },
     "execution_count": 31,
     "metadata": {},
     "output_type": "execute_result"
    }
   ],
   "source": [
    "# Cross check the city of London with the country code 'GB'\n",
    "locations[locations['city']=='East London, Eastern Cape'].head()"
   ]
  },
  {
   "cell_type": "markdown",
   "id": "60605216-3b8b-4161-a2d0-146e150c406a",
   "metadata": {},
   "source": [
    "In this instance, the above places are in South Africa so they will not be included for this project."
   ]
  },
  {
   "cell_type": "code",
   "execution_count": 32,
   "id": "b2b8037e-c7e0-478d-81a2-225917500585",
   "metadata": {},
   "outputs": [],
   "source": [
    "# Rename city names to selected ones\n",
    "locations['city'].replace({'Larkswood, London': 'London, United Kingdom', \n",
    "                           'Purley, London': 'London, United Kingdom', \n",
    "                           'Hanwell, London, United Kingdom': 'London, United Kingdom', \n",
    "                           'Balham, London, England': 'London, United Kingdom',\n",
    "                           'London Colney': 'London, United Kingdom', \n",
    "                           'Sutton, London': 'London, United Kingdom', \n",
    "                           'Chinatown, London': 'London, United Kingdom', \n",
    "                           'Hampton, London, United Kingdom': 'London, United Kingdom', \n",
    "                           'Wallington, London': 'London, United Kingdom', \n",
    "                           'Custom House, London': 'London, United Kingdom', \n",
    "                           'Bethnal Green South, London': 'London, United Kingdom', \n",
    "                           'Tottenham Green, London': 'London, United Kingdom', \n",
    "                           'Maida Vale, London, United Kingdom': 'London, United Kingdom', \n",
    "                           'Petersham, London': 'London, United Kingdom', \n",
    "                           'Highbury West, London': 'London, United Kingdom', \n",
    "                           'Woolwich Common, London': 'London, United Kingdom', \n",
    "                           'Hampton Hill, London, United Kingdom': 'London, United Kingdom', \n",
    "                           \"Figge's Marsh, London\": 'London, United Kingdom', \n",
    "                           'Cornhill, London': 'London, United Kingdom', \n",
    "                           'Bromley Town, London': 'London, United Kingdom', \n",
    "                           'Plaistow South, London': 'London, United Kingdom', \n",
    "                           'Cowley, London': 'London, United Kingdom', \n",
    "                           'Strawberry Hill, London': 'London, United Kingdom', \n",
    "                           'Lime Street, London': 'London, United Kingdom', \n",
    "                           \"St Ann's, London\": 'London, United Kingdom', \n",
    "                           'Endlebury, London': 'London, United Kingdom', \n",
    "                           'Blackheath Westcombe, London': 'London, United Kingdom', \n",
    "                           'Golborne, London': 'London, United Kingdom', \n",
    "                           'Hainault, London': 'London, United Kingdom', \n",
    "                           'Cremorne, London': 'London, United Kingdom', \n",
    "                           'Seven Sisters, London': 'London, United Kingdom', \n",
    "                           'East Ham North, London': 'London, United Kingdom', \n",
    "                           'Stonebridge, London': 'London, United Kingdom', \n",
    "                           'Northcote, London': 'London, United Kingdom', \n",
    "                           'Sutton West, London': 'London, United Kingdom', \n",
    "                           'Newington, London': 'London, United Kingdom'}, inplace=True)"
   ]
  },
  {
   "cell_type": "code",
   "execution_count": 33,
   "id": "c18075bc-9355-4cd1-a46b-e8bf2e12d337",
   "metadata": {},
   "outputs": [
    {
     "name": "stdout",
     "output_type": "stream",
     "text": [
      "['London, United Kingdom', 'Londonderry, Northern Ireland', 'Londonderry, Ross County, Ohio', 'East London, Eastern Cape', 'London, Ontario', 'East Ham South, London', 'Eglinton, Londonderry, United Kingdom', 'London, Kentucky', 'New London, New Hampshire', 'New London, Connecticut', 'Lady Margaret, London', 'New London, Wisconsin', 'Londonderry, Nova Scotia', 'Londonderry, New Hampshire', 'London, Ohio', 'New London, Ohio', 'Creggan, Londonderry, United Kingdom', \"Queen's Gate, London SW7\", 'Londonderry, Vermont', 'Little London, Westmoreland, Jamaica', 'Cranford, London', 'Drumahoe, Londonderry, United Kingdom', 'Londoni, Central, Fiji', 'South Londonderry, Vermont', 'New London, North Carolina', 'North Londonderry, New Hampshire', 'London, Arkansas', 'Westmount, London, Ontario', 'New London, Iowa', 'New London, Minnesota', 'Cove Rock, East London', 'New London, Indiana', 'Ardmore, County Londonderry', 'Nahoon Beach, East London', 'Campsie, Londonderry', 'Downtown New London, Connecticut', 'East London', 'North London', 'South London', 'Fanshawe, London, Ontario']\n"
     ]
    }
   ],
   "source": [
    "# Check city names with 'London'\n",
    "# Check if the string contains a substring from the list\n",
    "str1 = \"London\"\n",
    "res = [string for string in list(locations['city'].unique()) if str1 in string]\n",
    "\n",
    "print(res)"
   ]
  },
  {
   "cell_type": "code",
   "execution_count": 34,
   "id": "55f94aec-b81d-4b3d-95d6-c7e669139ea4",
   "metadata": {},
   "outputs": [],
   "source": [
    "# Extract rows for London city only\n",
    "city_london = locations[locations['city']=='London, United Kingdom']"
   ]
  },
  {
   "cell_type": "code",
   "execution_count": 35,
   "id": "134069f1-3ada-4983-a7f1-75fc0079a334",
   "metadata": {},
   "outputs": [],
   "source": [
    "# Reset index\n",
    "city_london.reset_index(drop=True, inplace=True)"
   ]
  },
  {
   "cell_type": "code",
   "execution_count": 36,
   "id": "5685dd1c-2128-4387-9203-944bf8bbfe93",
   "metadata": {},
   "outputs": [
    {
     "name": "stdout",
     "output_type": "stream",
     "text": [
      "<class 'pandas.core.frame.DataFrame'>\n",
      "RangeIndex: 20347 entries, 0 to 20346\n",
      "Data columns (total 4 columns):\n",
      " #   Column  Non-Null Count  Dtype \n",
      "---  ------  --------------  ----- \n",
      " 0   id      20347 non-null  int64 \n",
      " 1   name    20347 non-null  object\n",
      " 2   city    20347 non-null  object\n",
      " 3   cd      20347 non-null  object\n",
      "dtypes: int64(1), object(3)\n",
      "memory usage: 636.0+ KB\n"
     ]
    }
   ],
   "source": [
    "city_london.info()"
   ]
  },
  {
   "cell_type": "code",
   "execution_count": 37,
   "id": "233da1d6-97f8-4832-8007-56591697db9e",
   "metadata": {},
   "outputs": [
    {
     "data": {
      "text/html": [
       "<div>\n",
       "<style scoped>\n",
       "    .dataframe tbody tr th:only-of-type {\n",
       "        vertical-align: middle;\n",
       "    }\n",
       "\n",
       "    .dataframe tbody tr th {\n",
       "        vertical-align: top;\n",
       "    }\n",
       "\n",
       "    .dataframe thead th {\n",
       "        text-align: right;\n",
       "    }\n",
       "</style>\n",
       "<table border=\"1\" class=\"dataframe\">\n",
       "  <thead>\n",
       "    <tr style=\"text-align: right;\">\n",
       "      <th></th>\n",
       "      <th>id</th>\n",
       "      <th>name</th>\n",
       "      <th>city</th>\n",
       "      <th>cd</th>\n",
       "    </tr>\n",
       "  </thead>\n",
       "  <tbody>\n",
       "    <tr>\n",
       "      <th>0</th>\n",
       "      <td>845293065</td>\n",
       "      <td>North Wembley</td>\n",
       "      <td>London, United Kingdom</td>\n",
       "      <td>GB</td>\n",
       "    </tr>\n",
       "    <tr>\n",
       "      <th>1</th>\n",
       "      <td>367398224</td>\n",
       "      <td>Heston Blumenthal at the Perfectionist's Cafe</td>\n",
       "      <td>London, United Kingdom</td>\n",
       "      <td>GB</td>\n",
       "    </tr>\n",
       "    <tr>\n",
       "      <th>2</th>\n",
       "      <td>1178180</td>\n",
       "      <td>La Famiglia</td>\n",
       "      <td>London, United Kingdom</td>\n",
       "      <td>GB</td>\n",
       "    </tr>\n",
       "    <tr>\n",
       "      <th>3</th>\n",
       "      <td>134002180597091</td>\n",
       "      <td>Brondesbury Medical Centre</td>\n",
       "      <td>London, United Kingdom</td>\n",
       "      <td>GB</td>\n",
       "    </tr>\n",
       "    <tr>\n",
       "      <th>4</th>\n",
       "      <td>557445258066180</td>\n",
       "      <td>SingEasy West End</td>\n",
       "      <td>London, United Kingdom</td>\n",
       "      <td>GB</td>\n",
       "    </tr>\n",
       "  </tbody>\n",
       "</table>\n",
       "</div>"
      ],
      "text/plain": [
       "                id                                           name  \\\n",
       "0        845293065                                  North Wembley   \n",
       "1        367398224  Heston Blumenthal at the Perfectionist's Cafe   \n",
       "2          1178180                                    La Famiglia   \n",
       "3  134002180597091                     Brondesbury Medical Centre   \n",
       "4  557445258066180                              SingEasy West End   \n",
       "\n",
       "                     city  cd  \n",
       "0  London, United Kingdom  GB  \n",
       "1  London, United Kingdom  GB  \n",
       "2  London, United Kingdom  GB  \n",
       "3  London, United Kingdom  GB  \n",
       "4  London, United Kingdom  GB  "
      ]
     },
     "execution_count": 37,
     "metadata": {},
     "output_type": "execute_result"
    }
   ],
   "source": [
    "city_london.head()"
   ]
  },
  {
   "cell_type": "code",
   "execution_count": 38,
   "id": "5b38f783-07cd-4727-889e-7e36b91a5c17",
   "metadata": {},
   "outputs": [],
   "source": [
    "# Save and export\n",
    "city_london.to_csv('./output/city_london.csv', index=False)"
   ]
  },
  {
   "cell_type": "markdown",
   "id": "8a26a68d-5750-4694-bcea-c6958acde7c6",
   "metadata": {},
   "source": [
    "- There are a lot of 'London' in the world, especially in the US and South Africa.\n",
    "- Several locations in London are not saved with an appropriate city name, as some include the name of the neighbourhood, street or road.\n",
    "- Thus, the city name has been renamed to 'London, United Kingdom' to standardise across the dataset and the 'city_london.csv' file contains the locations in the city of London, UK only.\n",
    "- We will have to check the names of the locations in London as they might not be standardised as well."
   ]
  }
 ],
 "metadata": {
  "kernelspec": {
   "display_name": "Python 3 (ipykernel)",
   "language": "python",
   "name": "python3"
  },
  "language_info": {
   "codemirror_mode": {
    "name": "ipython",
    "version": 3
   },
   "file_extension": ".py",
   "mimetype": "text/x-python",
   "name": "python",
   "nbconvert_exporter": "python",
   "pygments_lexer": "ipython3",
   "version": "3.8.13"
  }
 },
 "nbformat": 4,
 "nbformat_minor": 5
}
