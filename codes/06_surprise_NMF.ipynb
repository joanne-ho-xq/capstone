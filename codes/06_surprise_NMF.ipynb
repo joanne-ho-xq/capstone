{
 "cells": [
  {
   "cell_type": "markdown",
   "id": "3dace8d7-de86-4b68-81a0-b3ebf586fac7",
   "metadata": {},
   "source": [
    "In this notebook, we will attempt to use another matrix factorisation algorithm, NMF, available on scikit surprise to compare the metrics against SVD."
   ]
  },
  {
   "cell_type": "markdown",
   "id": "108ef518-4b15-47b8-82a7-ca1512882421",
   "metadata": {},
   "source": [
    "## Contents:\n",
    "- [Loading of Libraries](#Loading-of-Libraries) \n",
    "- [Loading of Datasets & Preprocessing](#Loading-of-Datasets-&-Preprocessing)\n",
    "- [Alternative Model - NMF Algorithm](#Alternative-Model---NMF-Algorithm)\n",
    "- [Model Tuning using GridSearch](#Model-Tuning-using-GridSearch)"
   ]
  },
  {
   "cell_type": "markdown",
   "id": "c7799b4d-635e-473a-8875-8505134a430b",
   "metadata": {},
   "source": [
    "## Loading of Libraries"
   ]
  },
  {
   "cell_type": "code",
   "execution_count": 40,
   "id": "4f98102d-9d67-4065-abb0-6f06067f967d",
   "metadata": {},
   "outputs": [],
   "source": [
    "import numpy as np\n",
    "import pandas as pd\n",
    "\n",
    "# imports form surprise\n",
    "from surprise import accuracy, Dataset, Reader, NMF\n",
    "from surprise.model_selection import cross_validate\n",
    "from surprise.model_selection import GridSearchCV\n",
    "from collections import defaultdict\n",
    "\n",
    "from sklearn import preprocessing # import label encoder\n",
    "\n",
    "import difflib # helpers for computing deltas\n",
    "import random"
   ]
  },
  {
   "cell_type": "markdown",
   "id": "d555251a-7657-40a0-ae38-f5c2de84d0e5",
   "metadata": {},
   "source": [
    "## Loading of Datasets & Preprocessing"
   ]
  },
  {
   "cell_type": "code",
   "execution_count": null,
   "id": "9aa13b72-d0a3-4066-9505-2030c9efb590",
   "metadata": {},
   "outputs": [
    {
     "name": "stdout",
     "output_type": "stream",
     "text": [
      "(177607, 7)\n"
     ]
    },
    {
     "data": {
      "text/html": [
       "<div>\n",
       "<style scoped>\n",
       "    .dataframe tbody tr th:only-of-type {\n",
       "        vertical-align: middle;\n",
       "    }\n",
       "\n",
       "    .dataframe tbody tr th {\n",
       "        vertical-align: top;\n",
       "    }\n",
       "\n",
       "    .dataframe thead th {\n",
       "        text-align: right;\n",
       "    }\n",
       "</style>\n",
       "<table border=\"1\" class=\"dataframe\">\n",
       "  <thead>\n",
       "    <tr style=\"text-align: right;\">\n",
       "      <th></th>\n",
       "      <th>profile_id</th>\n",
       "      <th>location_id</th>\n",
       "      <th>cts</th>\n",
       "      <th>sentiment_pred</th>\n",
       "      <th>name</th>\n",
       "      <th>city</th>\n",
       "      <th>cd</th>\n",
       "    </tr>\n",
       "  </thead>\n",
       "  <tbody>\n",
       "    <tr>\n",
       "      <th>0</th>\n",
       "      <td>4.519805e+06</td>\n",
       "      <td>1178180.0</td>\n",
       "      <td>2016-06-09 22:13:32</td>\n",
       "      <td>3</td>\n",
       "      <td>la famiglia</td>\n",
       "      <td>London, United Kingdom</td>\n",
       "      <td>GB</td>\n",
       "    </tr>\n",
       "    <tr>\n",
       "      <th>1</th>\n",
       "      <td>2.594847e+08</td>\n",
       "      <td>1178180.0</td>\n",
       "      <td>2019-05-30 23:17:22</td>\n",
       "      <td>3</td>\n",
       "      <td>la famiglia</td>\n",
       "      <td>London, United Kingdom</td>\n",
       "      <td>GB</td>\n",
       "    </tr>\n",
       "    <tr>\n",
       "      <th>2</th>\n",
       "      <td>6.364797e+09</td>\n",
       "      <td>1178180.0</td>\n",
       "      <td>2019-05-26 15:27:27</td>\n",
       "      <td>3</td>\n",
       "      <td>la famiglia</td>\n",
       "      <td>London, United Kingdom</td>\n",
       "      <td>GB</td>\n",
       "    </tr>\n",
       "    <tr>\n",
       "      <th>3</th>\n",
       "      <td>2.213894e+08</td>\n",
       "      <td>857670431.0</td>\n",
       "      <td>2019-05-30 21:41:15</td>\n",
       "      <td>2</td>\n",
       "      <td>green park</td>\n",
       "      <td>London, United Kingdom</td>\n",
       "      <td>GB</td>\n",
       "    </tr>\n",
       "    <tr>\n",
       "      <th>4</th>\n",
       "      <td>6.243066e+08</td>\n",
       "      <td>857670431.0</td>\n",
       "      <td>2019-05-30 07:56:50</td>\n",
       "      <td>3</td>\n",
       "      <td>green park</td>\n",
       "      <td>London, United Kingdom</td>\n",
       "      <td>GB</td>\n",
       "    </tr>\n",
       "  </tbody>\n",
       "</table>\n",
       "</div>"
      ],
      "text/plain": [
       "     profile_id  location_id                  cts  sentiment_pred  \\\n",
       "0  4.519805e+06    1178180.0  2016-06-09 22:13:32               3   \n",
       "1  2.594847e+08    1178180.0  2019-05-30 23:17:22               3   \n",
       "2  6.364797e+09    1178180.0  2019-05-26 15:27:27               3   \n",
       "3  2.213894e+08  857670431.0  2019-05-30 21:41:15               2   \n",
       "4  6.243066e+08  857670431.0  2019-05-30 07:56:50               3   \n",
       "\n",
       "          name                    city  cd  \n",
       "0  la famiglia  London, United Kingdom  GB  \n",
       "1  la famiglia  London, United Kingdom  GB  \n",
       "2  la famiglia  London, United Kingdom  GB  \n",
       "3   green park  London, United Kingdom  GB  \n",
       "4   green park  London, United Kingdom  GB  "
      ]
     },
     "execution_count": 15,
     "metadata": {},
     "output_type": "execute_result"
    }
   ],
   "source": [
    "# Loading of dataset\n",
    "recsys_df = pd.read_csv('./instagram-dataset/recsys_df_name.csv')\n",
    "print(recsys_df.shape)\n",
    "recsys_df.head()"
   ]
  },
  {
   "cell_type": "code",
   "execution_count": null,
   "id": "e0e9878d-45a3-4180-b72d-2179109867ee",
   "metadata": {},
   "outputs": [],
   "source": [
    "# label_encoder object knows how to understand word labels\n",
    "label_encoder = preprocessing.LabelEncoder()"
   ]
  },
  {
   "cell_type": "code",
   "execution_count": null,
   "id": "fefe8a3a-c7cc-4004-bc4f-9ff29caac029",
   "metadata": {},
   "outputs": [],
   "source": [
    "# Encode labels in column 'name' and 'profile_id'\n",
    "recsys_df['new_location_id']= label_encoder.fit_transform(recsys_df['name'])\n",
    "recsys_df['new_profile_id']= label_encoder.fit_transform(recsys_df['profile_id'])"
   ]
  },
  {
   "cell_type": "code",
   "execution_count": null,
   "id": "3ce11965-c4a3-4139-810f-665f8b92f349",
   "metadata": {},
   "outputs": [
    {
     "data": {
      "text/html": [
       "<div>\n",
       "<style scoped>\n",
       "    .dataframe tbody tr th:only-of-type {\n",
       "        vertical-align: middle;\n",
       "    }\n",
       "\n",
       "    .dataframe tbody tr th {\n",
       "        vertical-align: top;\n",
       "    }\n",
       "\n",
       "    .dataframe thead th {\n",
       "        text-align: right;\n",
       "    }\n",
       "</style>\n",
       "<table border=\"1\" class=\"dataframe\">\n",
       "  <thead>\n",
       "    <tr style=\"text-align: right;\">\n",
       "      <th></th>\n",
       "      <th>profile_id</th>\n",
       "      <th>location_id</th>\n",
       "      <th>cts</th>\n",
       "      <th>sentiment_pred</th>\n",
       "      <th>name</th>\n",
       "      <th>city</th>\n",
       "      <th>cd</th>\n",
       "      <th>new_location_id</th>\n",
       "      <th>new_profile_id</th>\n",
       "    </tr>\n",
       "  </thead>\n",
       "  <tbody>\n",
       "    <tr>\n",
       "      <th>0</th>\n",
       "      <td>4.519805e+06</td>\n",
       "      <td>1178180.0</td>\n",
       "      <td>2016-06-09 22:13:32</td>\n",
       "      <td>3</td>\n",
       "      <td>la famiglia</td>\n",
       "      <td>London, United Kingdom</td>\n",
       "      <td>GB</td>\n",
       "      <td>3433</td>\n",
       "      <td>3168</td>\n",
       "    </tr>\n",
       "    <tr>\n",
       "      <th>1</th>\n",
       "      <td>2.594847e+08</td>\n",
       "      <td>1178180.0</td>\n",
       "      <td>2019-05-30 23:17:22</td>\n",
       "      <td>3</td>\n",
       "      <td>la famiglia</td>\n",
       "      <td>London, United Kingdom</td>\n",
       "      <td>GB</td>\n",
       "      <td>3433</td>\n",
       "      <td>36386</td>\n",
       "    </tr>\n",
       "    <tr>\n",
       "      <th>2</th>\n",
       "      <td>6.364797e+09</td>\n",
       "      <td>1178180.0</td>\n",
       "      <td>2019-05-26 15:27:27</td>\n",
       "      <td>3</td>\n",
       "      <td>la famiglia</td>\n",
       "      <td>London, United Kingdom</td>\n",
       "      <td>GB</td>\n",
       "      <td>3433</td>\n",
       "      <td>99075</td>\n",
       "    </tr>\n",
       "    <tr>\n",
       "      <th>3</th>\n",
       "      <td>2.213894e+08</td>\n",
       "      <td>857670431.0</td>\n",
       "      <td>2019-05-30 21:41:15</td>\n",
       "      <td>2</td>\n",
       "      <td>green park</td>\n",
       "      <td>London, United Kingdom</td>\n",
       "      <td>GB</td>\n",
       "      <td>2646</td>\n",
       "      <td>31024</td>\n",
       "    </tr>\n",
       "    <tr>\n",
       "      <th>4</th>\n",
       "      <td>6.243066e+08</td>\n",
       "      <td>857670431.0</td>\n",
       "      <td>2019-05-30 07:56:50</td>\n",
       "      <td>3</td>\n",
       "      <td>green park</td>\n",
       "      <td>London, United Kingdom</td>\n",
       "      <td>GB</td>\n",
       "      <td>2646</td>\n",
       "      <td>55307</td>\n",
       "    </tr>\n",
       "  </tbody>\n",
       "</table>\n",
       "</div>"
      ],
      "text/plain": [
       "     profile_id  location_id                  cts  sentiment_pred  \\\n",
       "0  4.519805e+06    1178180.0  2016-06-09 22:13:32               3   \n",
       "1  2.594847e+08    1178180.0  2019-05-30 23:17:22               3   \n",
       "2  6.364797e+09    1178180.0  2019-05-26 15:27:27               3   \n",
       "3  2.213894e+08  857670431.0  2019-05-30 21:41:15               2   \n",
       "4  6.243066e+08  857670431.0  2019-05-30 07:56:50               3   \n",
       "\n",
       "          name                    city  cd  new_location_id  new_profile_id  \n",
       "0  la famiglia  London, United Kingdom  GB             3433            3168  \n",
       "1  la famiglia  London, United Kingdom  GB             3433           36386  \n",
       "2  la famiglia  London, United Kingdom  GB             3433           99075  \n",
       "3   green park  London, United Kingdom  GB             2646           31024  \n",
       "4   green park  London, United Kingdom  GB             2646           55307  "
      ]
     },
     "execution_count": 18,
     "metadata": {},
     "output_type": "execute_result"
    }
   ],
   "source": [
    "# Check new location and profile labels\n",
    "recsys_df.head()"
   ]
  },
  {
   "cell_type": "markdown",
   "id": "095a3605-92cb-47cd-ac17-ff4ae67e02b6",
   "metadata": {},
   "source": [
    "## Alternative Model - NMF Algorithm"
   ]
  },
  {
   "cell_type": "code",
   "execution_count": null,
   "id": "7ea547aa-2bbb-4b61-84d6-0623d7e9b83b",
   "metadata": {},
   "outputs": [],
   "source": [
    "# Instantiate reader\n",
    "reader = Reader(rating_scale=(1, 3))"
   ]
  },
  {
   "cell_type": "code",
   "execution_count": null,
   "id": "8ac61bb2-7481-421a-adce-9060dd8fb61f",
   "metadata": {},
   "outputs": [],
   "source": [
    "# Instantiate dataset \n",
    "# The columns must correspond to user id, item id and ratings (in that order).\n",
    "data = Dataset.load_from_df(recsys_df[[\"new_profile_id\", \"new_location_id\", \"sentiment_pred\"]], reader)"
   ]
  },
  {
   "cell_type": "code",
   "execution_count": null,
   "id": "9f298f50-8f48-4597-89d3-d5355d439667",
   "metadata": {
    "scrolled": true,
    "tags": []
   },
   "outputs": [
    {
     "name": "stdout",
     "output_type": "stream",
     "text": [
      "Processing epoch 0\n",
      "Processing epoch 1\n",
      "Processing epoch 2\n",
      "Processing epoch 3\n",
      "Processing epoch 4\n",
      "Processing epoch 5\n",
      "Processing epoch 6\n",
      "Processing epoch 7\n",
      "Processing epoch 8\n",
      "Processing epoch 9\n",
      "Processing epoch 10\n",
      "Processing epoch 11\n",
      "Processing epoch 12\n",
      "Processing epoch 13\n",
      "Processing epoch 14\n",
      "Processing epoch 15\n",
      "Processing epoch 16\n",
      "Processing epoch 17\n",
      "Processing epoch 18\n",
      "Processing epoch 19\n",
      "Processing epoch 20\n",
      "Processing epoch 21\n",
      "Processing epoch 22\n",
      "Processing epoch 23\n",
      "Processing epoch 24\n",
      "Processing epoch 25\n",
      "Processing epoch 26\n",
      "Processing epoch 27\n",
      "Processing epoch 28\n",
      "Processing epoch 29\n",
      "Processing epoch 30\n",
      "Processing epoch 31\n",
      "Processing epoch 32\n",
      "Processing epoch 33\n",
      "Processing epoch 34\n",
      "Processing epoch 35\n",
      "Processing epoch 36\n",
      "Processing epoch 37\n",
      "Processing epoch 38\n",
      "Processing epoch 39\n",
      "Processing epoch 40\n",
      "Processing epoch 41\n",
      "Processing epoch 42\n",
      "Processing epoch 43\n",
      "Processing epoch 44\n",
      "Processing epoch 45\n",
      "Processing epoch 46\n",
      "Processing epoch 47\n",
      "Processing epoch 48\n",
      "Processing epoch 49\n",
      "Processing epoch 0\n",
      "Processing epoch 1\n",
      "Processing epoch 2\n",
      "Processing epoch 3\n",
      "Processing epoch 4\n",
      "Processing epoch 5\n",
      "Processing epoch 6\n",
      "Processing epoch 7\n",
      "Processing epoch 8\n",
      "Processing epoch 9\n",
      "Processing epoch 10\n",
      "Processing epoch 11\n",
      "Processing epoch 12\n",
      "Processing epoch 13\n",
      "Processing epoch 14\n",
      "Processing epoch 15\n",
      "Processing epoch 16\n",
      "Processing epoch 17\n",
      "Processing epoch 18\n",
      "Processing epoch 19\n",
      "Processing epoch 20\n",
      "Processing epoch 21\n",
      "Processing epoch 22\n",
      "Processing epoch 23\n",
      "Processing epoch 24\n",
      "Processing epoch 25\n",
      "Processing epoch 26\n",
      "Processing epoch 27\n",
      "Processing epoch 28\n",
      "Processing epoch 29\n",
      "Processing epoch 30\n",
      "Processing epoch 31\n",
      "Processing epoch 32\n",
      "Processing epoch 33\n",
      "Processing epoch 34\n",
      "Processing epoch 35\n",
      "Processing epoch 36\n",
      "Processing epoch 37\n",
      "Processing epoch 38\n",
      "Processing epoch 39\n",
      "Processing epoch 40\n",
      "Processing epoch 41\n",
      "Processing epoch 42\n",
      "Processing epoch 43\n",
      "Processing epoch 44\n",
      "Processing epoch 45\n",
      "Processing epoch 46\n",
      "Processing epoch 47\n",
      "Processing epoch 48\n",
      "Processing epoch 49\n",
      "Processing epoch 0\n",
      "Processing epoch 1\n",
      "Processing epoch 2\n",
      "Processing epoch 3\n",
      "Processing epoch 4\n",
      "Processing epoch 5\n",
      "Processing epoch 6\n",
      "Processing epoch 7\n",
      "Processing epoch 8\n",
      "Processing epoch 9\n",
      "Processing epoch 10\n",
      "Processing epoch 11\n",
      "Processing epoch 12\n",
      "Processing epoch 13\n",
      "Processing epoch 14\n",
      "Processing epoch 15\n",
      "Processing epoch 16\n",
      "Processing epoch 17\n",
      "Processing epoch 18\n",
      "Processing epoch 19\n",
      "Processing epoch 20\n",
      "Processing epoch 21\n",
      "Processing epoch 22\n",
      "Processing epoch 23\n",
      "Processing epoch 24\n",
      "Processing epoch 25\n",
      "Processing epoch 26\n",
      "Processing epoch 27\n",
      "Processing epoch 28\n",
      "Processing epoch 29\n",
      "Processing epoch 30\n",
      "Processing epoch 31\n",
      "Processing epoch 32\n",
      "Processing epoch 33\n",
      "Processing epoch 34\n",
      "Processing epoch 35\n",
      "Processing epoch 36\n",
      "Processing epoch 37\n",
      "Processing epoch 38\n",
      "Processing epoch 39\n",
      "Processing epoch 40\n",
      "Processing epoch 41\n",
      "Processing epoch 42\n",
      "Processing epoch 43\n",
      "Processing epoch 44\n",
      "Processing epoch 45\n",
      "Processing epoch 46\n",
      "Processing epoch 47\n",
      "Processing epoch 48\n",
      "Processing epoch 49\n",
      "Evaluating RMSE, MSE, MAE of algorithm NMF on 3 split(s).\n",
      "\n",
      "                  Fold 1  Fold 2  Fold 3  Mean    Std     \n",
      "RMSE (testset)    0.6518  0.6486  0.6506  0.6503  0.0013  \n",
      "MSE (testset)     0.4248  0.4207  0.4233  0.4230  0.0017  \n",
      "MAE (testset)     0.5258  0.5236  0.5239  0.5244  0.0010  \n",
      "Fit time          10.28   10.74   10.93   10.65   0.27    \n",
      "Test time         0.75    0.82    0.71    0.76    0.05    \n"
     ]
    },
    {
     "data": {
      "text/plain": [
       "{'test_rmse': array([0.65179366, 0.64862407, 0.65062449]),\n",
       " 'test_mse': array([0.42483497, 0.42071319, 0.42331223]),\n",
       " 'test_mae': array([0.52579703, 0.52361752, 0.5239038 ]),\n",
       " 'fit_time': (10.282396793365479, 10.743699073791504, 10.930076837539673),\n",
       " 'test_time': (0.7529940605163574, 0.8212952613830566, 0.7095677852630615)}"
      ]
     },
     "execution_count": 21,
     "metadata": {},
     "output_type": "execute_result"
    }
   ],
   "source": [
    "# Cross-validate an SVD model using three-fold cross-validation\n",
    "nmf = NMF(verbose=True)\n",
    "cross_validate(nmf, data, measures=['RMSE','MSE', 'MAE'], cv=3, verbose=True)"
   ]
  },
  {
   "cell_type": "code",
   "execution_count": null,
   "id": "c481b728-1a88-41d2-b823-dfa8cc55f534",
   "metadata": {
    "scrolled": true,
    "tags": []
   },
   "outputs": [
    {
     "name": "stdout",
     "output_type": "stream",
     "text": [
      "Processing epoch 0\n",
      "Processing epoch 1\n",
      "Processing epoch 2\n",
      "Processing epoch 3\n",
      "Processing epoch 4\n",
      "Processing epoch 5\n",
      "Processing epoch 6\n",
      "Processing epoch 7\n",
      "Processing epoch 8\n",
      "Processing epoch 9\n",
      "Processing epoch 10\n",
      "Processing epoch 11\n",
      "Processing epoch 12\n",
      "Processing epoch 13\n",
      "Processing epoch 14\n",
      "Processing epoch 15\n",
      "Processing epoch 16\n",
      "Processing epoch 17\n",
      "Processing epoch 18\n",
      "Processing epoch 19\n",
      "Processing epoch 20\n",
      "Processing epoch 21\n",
      "Processing epoch 22\n",
      "Processing epoch 23\n",
      "Processing epoch 24\n",
      "Processing epoch 25\n",
      "Processing epoch 26\n",
      "Processing epoch 27\n",
      "Processing epoch 28\n",
      "Processing epoch 29\n",
      "Processing epoch 30\n",
      "Processing epoch 31\n",
      "Processing epoch 32\n",
      "Processing epoch 33\n",
      "Processing epoch 34\n",
      "Processing epoch 35\n",
      "Processing epoch 36\n",
      "Processing epoch 37\n",
      "Processing epoch 38\n",
      "Processing epoch 39\n",
      "Processing epoch 40\n",
      "Processing epoch 41\n",
      "Processing epoch 42\n",
      "Processing epoch 43\n",
      "Processing epoch 44\n",
      "Processing epoch 45\n",
      "Processing epoch 46\n",
      "Processing epoch 47\n",
      "Processing epoch 48\n",
      "Processing epoch 49\n",
      "RMSE: 0.2563\n"
     ]
    },
    {
     "data": {
      "text/plain": [
       "0.25631863894160173"
      ]
     },
     "execution_count": 22,
     "metadata": {},
     "output_type": "execute_result"
    }
   ],
   "source": [
    "# Finding training metrics rmse\n",
    "trainset = data.build_full_trainset()\n",
    "nmf.fit(trainset)\n",
    "\n",
    "testset = trainset.build_testset()\n",
    "predictions = nmf.test(testset)\n",
    "accuracy.rmse(predictions, verbose=True)"
   ]
  },
  {
   "cell_type": "code",
   "execution_count": null,
   "id": "1b9989c4-8209-41f5-b9e2-edd5d1ee7fb4",
   "metadata": {
    "scrolled": true,
    "tags": []
   },
   "outputs": [
    {
     "name": "stdout",
     "output_type": "stream",
     "text": [
      "Processing epoch 0\n",
      "Processing epoch 1\n",
      "Processing epoch 2\n",
      "Processing epoch 3\n",
      "Processing epoch 4\n",
      "Processing epoch 5\n",
      "Processing epoch 6\n",
      "Processing epoch 7\n",
      "Processing epoch 8\n",
      "Processing epoch 9\n",
      "Processing epoch 10\n",
      "Processing epoch 11\n",
      "Processing epoch 12\n",
      "Processing epoch 13\n",
      "Processing epoch 14\n",
      "Processing epoch 15\n",
      "Processing epoch 16\n",
      "Processing epoch 17\n",
      "Processing epoch 18\n",
      "Processing epoch 19\n",
      "Processing epoch 20\n",
      "Processing epoch 21\n",
      "Processing epoch 22\n",
      "Processing epoch 23\n",
      "Processing epoch 24\n",
      "Processing epoch 25\n",
      "Processing epoch 26\n",
      "Processing epoch 27\n",
      "Processing epoch 28\n",
      "Processing epoch 29\n",
      "Processing epoch 30\n",
      "Processing epoch 31\n",
      "Processing epoch 32\n",
      "Processing epoch 33\n",
      "Processing epoch 34\n",
      "Processing epoch 35\n",
      "Processing epoch 36\n",
      "Processing epoch 37\n",
      "Processing epoch 38\n",
      "Processing epoch 39\n",
      "Processing epoch 40\n",
      "Processing epoch 41\n",
      "Processing epoch 42\n",
      "Processing epoch 43\n",
      "Processing epoch 44\n",
      "Processing epoch 45\n",
      "Processing epoch 46\n",
      "Processing epoch 47\n",
      "Processing epoch 48\n",
      "Processing epoch 49\n",
      "MSE: 0.0657\n"
     ]
    },
    {
     "data": {
      "text/plain": [
       "0.06573681194153039"
      ]
     },
     "execution_count": 23,
     "metadata": {},
     "output_type": "execute_result"
    }
   ],
   "source": [
    "# Finding training metrics mse\n",
    "trainset = data.build_full_trainset()\n",
    "nmf.fit(trainset)\n",
    "\n",
    "testset = trainset.build_testset()\n",
    "predictions = nmf.test(testset)\n",
    "accuracy.mse(predictions, verbose=True)"
   ]
  },
  {
   "cell_type": "code",
   "execution_count": null,
   "id": "aef49bfb-2930-476f-b552-150a925ba38a",
   "metadata": {
    "scrolled": true,
    "tags": []
   },
   "outputs": [
    {
     "name": "stdout",
     "output_type": "stream",
     "text": [
      "Processing epoch 0\n",
      "Processing epoch 1\n",
      "Processing epoch 2\n",
      "Processing epoch 3\n",
      "Processing epoch 4\n",
      "Processing epoch 5\n",
      "Processing epoch 6\n",
      "Processing epoch 7\n",
      "Processing epoch 8\n",
      "Processing epoch 9\n",
      "Processing epoch 10\n",
      "Processing epoch 11\n",
      "Processing epoch 12\n",
      "Processing epoch 13\n",
      "Processing epoch 14\n",
      "Processing epoch 15\n",
      "Processing epoch 16\n",
      "Processing epoch 17\n",
      "Processing epoch 18\n",
      "Processing epoch 19\n",
      "Processing epoch 20\n",
      "Processing epoch 21\n",
      "Processing epoch 22\n",
      "Processing epoch 23\n",
      "Processing epoch 24\n",
      "Processing epoch 25\n",
      "Processing epoch 26\n",
      "Processing epoch 27\n",
      "Processing epoch 28\n",
      "Processing epoch 29\n",
      "Processing epoch 30\n",
      "Processing epoch 31\n",
      "Processing epoch 32\n",
      "Processing epoch 33\n",
      "Processing epoch 34\n",
      "Processing epoch 35\n",
      "Processing epoch 36\n",
      "Processing epoch 37\n",
      "Processing epoch 38\n",
      "Processing epoch 39\n",
      "Processing epoch 40\n",
      "Processing epoch 41\n",
      "Processing epoch 42\n",
      "Processing epoch 43\n",
      "Processing epoch 44\n",
      "Processing epoch 45\n",
      "Processing epoch 46\n",
      "Processing epoch 47\n",
      "Processing epoch 48\n",
      "Processing epoch 49\n",
      "MAE:  0.1041\n"
     ]
    },
    {
     "data": {
      "text/plain": [
       "0.10408279533085263"
      ]
     },
     "execution_count": 24,
     "metadata": {},
     "output_type": "execute_result"
    }
   ],
   "source": [
    "# Finding training metrics mae\n",
    "trainset = data.build_full_trainset()\n",
    "nmf.fit(trainset)\n",
    "\n",
    "testset = trainset.build_testset()\n",
    "predictions = nmf.test(testset)\n",
    "accuracy.mae(predictions, verbose=True)"
   ]
  },
  {
   "cell_type": "markdown",
   "id": "6442810f-2044-4645-9a52-50ffc29e32bb",
   "metadata": {},
   "source": [
    "- The performance of the NMF model is as follows:\n",
    "\n",
    "|Metric|train rmse|test rmse|train mse|test mse|train mae|test mae|\n",
    "|---|---|---|---|---|---|---|\n",
    "|NMF|0.2563|0.6503|0.0657|0.4230|0.1041|0.5244|"
   ]
  },
  {
   "cell_type": "markdown",
   "id": "3cb80746-8331-4181-b09d-f38052d4dbcc",
   "metadata": {},
   "source": [
    "- Comparing the train and test metrics, the train metrics are very much lower than the test metrics significantly so the model is overfitting.\n",
    "- We will attempt to GridSearch for the best parameters."
   ]
  },
  {
   "cell_type": "markdown",
   "id": "1f334033-f37e-46d5-8ea2-b826a4519898",
   "metadata": {
    "tags": []
   },
   "source": [
    "## Model Tuning using GridSearch"
   ]
  },
  {
   "cell_type": "markdown",
   "id": "ffba486f-b952-4f98-8e0b-baa150d25212",
   "metadata": {
    "tags": []
   },
   "source": [
    "#### GridSearch1"
   ]
  },
  {
   "cell_type": "code",
   "execution_count": 52,
   "id": "63069766-2ea8-4426-8e0a-31211c913275",
   "metadata": {},
   "outputs": [],
   "source": [
    "# Search over the following values of hyperparameters:\n",
    "# Number of factors: 10, 15\n",
    "# Number of epochs: 5, 10\n",
    "# Regularization term for users: 0.08, 0.1, 0.12\n",
    "# Regularization term for items: 0.08, 0.1, 0.12\n",
    "\n",
    "param_grid = {\"n_factors\": [10, 15],\n",
    "              \"n_epochs\": [5, 10], \n",
    "              \"reg_pu\": [0.08, 0.1, 0.12],\n",
    "              \"reg_qi\": [0.08, 0.1, 0.12]}"
   ]
  },
  {
   "cell_type": "code",
   "execution_count": 42,
   "id": "06b0b690-7d0c-4f16-a966-34c34a66db6c",
   "metadata": {},
   "outputs": [],
   "source": [
    "# Instantiate GridSearchCV using cv=3\n",
    "gs = GridSearchCV(NMF, param_grid, measures=['RMSE','MSE', 'MAE'], cv=3)"
   ]
  },
  {
   "cell_type": "code",
   "execution_count": 43,
   "id": "86703c41-d0c9-4799-ae18-6e8ec6410474",
   "metadata": {},
   "outputs": [
    {
     "name": "stdout",
     "output_type": "stream",
     "text": [
      "CPU times: user 3min 43s, sys: 2.8 s, total: 3min 46s\n",
      "Wall time: 3min 51s\n"
     ]
    }
   ],
   "source": [
    "%%time\n",
    "# Fit GridSearch to training data\n",
    "gs.fit(data)"
   ]
  },
  {
   "cell_type": "code",
   "execution_count": 44,
   "id": "458595d0-fe67-4ffe-a007-254e72411f17",
   "metadata": {},
   "outputs": [
    {
     "name": "stdout",
     "output_type": "stream",
     "text": [
      "Test rmse: 0.6447029546428399\n",
      "Test best params: {'n_factors': 15, 'n_epochs': 10, 'reg_pu': 0.12, 'reg_qi': 0.12}\n",
      "Test mse: 0.4156436002251542\n",
      "Test best params: {'n_factors': 15, 'n_epochs': 10, 'reg_pu': 0.12, 'reg_qi': 0.12}\n",
      "Test mae: 0.5050483799970888\n",
      "Test best params: {'n_factors': 15, 'n_epochs': 10, 'reg_pu': 0.08, 'reg_qi': 0.08}\n"
     ]
    }
   ],
   "source": [
    "# Print metric score and combination of parameters that gave the best metric score\n",
    "for metric in ['rmse','mse', 'mae']:\n",
    "    print(f'Test {metric}: {gs.best_score[metric]}')\n",
    "    print(f'Test best params: {gs.best_params[metric]}')"
   ]
  },
  {
   "cell_type": "code",
   "execution_count": 45,
   "id": "eff1eb7f-2ef7-406b-bbd3-65ebf62e9a8b",
   "metadata": {},
   "outputs": [
    {
     "name": "stdout",
     "output_type": "stream",
     "text": [
      "RMSE: 0.3138\n"
     ]
    },
    {
     "data": {
      "text/plain": [
       "0.31377034733328735"
      ]
     },
     "execution_count": 45,
     "metadata": {},
     "output_type": "execute_result"
    }
   ],
   "source": [
    "# Finding training metrics rmse\n",
    "algo1 = gs.best_estimator['rmse']\n",
    "trainset = data.build_full_trainset()\n",
    "algo1.fit(trainset)\n",
    "\n",
    "testset = trainset.build_testset()\n",
    "predictions = algo1.test(testset)\n",
    "\n",
    "accuracy.rmse(predictions, verbose=True)"
   ]
  },
  {
   "cell_type": "code",
   "execution_count": 46,
   "id": "1f5a5492-54ee-4962-b8f5-a754c5271fc8",
   "metadata": {},
   "outputs": [
    {
     "name": "stdout",
     "output_type": "stream",
     "text": [
      "MSE: 0.0997\n"
     ]
    },
    {
     "data": {
      "text/plain": [
       "0.09972388959384498"
      ]
     },
     "execution_count": 46,
     "metadata": {},
     "output_type": "execute_result"
    }
   ],
   "source": [
    "# Finding training metrics mse\n",
    "algo2 = gs.best_estimator['mse']\n",
    "trainset = data.build_full_trainset()\n",
    "algo2.fit(trainset)\n",
    "\n",
    "testset = trainset.build_testset()\n",
    "predictions = algo2.test(testset)\n",
    "\n",
    "accuracy.mse(predictions, verbose=True)"
   ]
  },
  {
   "cell_type": "code",
   "execution_count": 47,
   "id": "10e46ec2-614b-45d3-9a28-397ae339c9c1",
   "metadata": {},
   "outputs": [
    {
     "name": "stdout",
     "output_type": "stream",
     "text": [
      "MAE:  0.2117\n"
     ]
    },
    {
     "data": {
      "text/plain": [
       "0.21171283922039708"
      ]
     },
     "execution_count": 47,
     "metadata": {},
     "output_type": "execute_result"
    }
   ],
   "source": [
    "# Finding training metrics mae\n",
    "algo3 = gs.best_estimator['mae']\n",
    "trainset = data.build_full_trainset()\n",
    "algo3.fit(trainset)\n",
    "\n",
    "testset = trainset.build_testset()\n",
    "predictions = algo3.test(testset)\n",
    "\n",
    "accuracy.mae(predictions, verbose=True)"
   ]
  },
  {
   "cell_type": "markdown",
   "id": "5aa01c9c-dda1-4112-b430-1d6674b59bff",
   "metadata": {},
   "source": [
    "- The results after GridSearch1 is as follows:\n",
    "\n",
    "|Metric|train rmse|test rmse|train mse|test mse|train mae|test mae|\n",
    "|---|---|---|---|---|---|---|\n",
    "|NMF|0.2563|0.6503|0.0657|0.4230|0.1041|0.5244|\n",
    "|GridSearch1|0.3138|0.6447|0.0997|0.4156|0.2117|0.5050|"
   ]
  },
  {
   "cell_type": "markdown",
   "id": "436d3372-4c56-4673-ab70-2f73519f2918",
   "metadata": {},
   "source": [
    "- The metrics across rmse, mse and mae have improved compared to the original NMF model.\n",
    "- However, the model is still overfitting, though lesser, since the train metrics are significantly lower than the test metrics.\n",
    "- Compared to the SVD algorithm, the model with NMF is more overfitting.\n",
    "- Thus, we will revert to the use of SVD algorithm for our recommder system.\n",
    "- We will next use MLFlow to track the performance of the SVD model as per the previous notebook as well. The codes are contained in the [`mlflow`](../mlflow/) folder.\n",
    "- In addition, we will also attempt to fit a matrix factorization neural network in the next notebook."
   ]
  },
  {
   "cell_type": "code",
   "execution_count": null,
   "id": "94ff4a3e-e5d2-4e8b-973a-fe67ad44b236",
   "metadata": {},
   "outputs": [],
   "source": []
  }
 ],
 "metadata": {
  "kernelspec": {
   "display_name": "Python 3 (ipykernel)",
   "language": "python",
   "name": "python3"
  },
  "language_info": {
   "codemirror_mode": {
    "name": "ipython",
    "version": 3
   },
   "file_extension": ".py",
   "mimetype": "text/x-python",
   "name": "python",
   "nbconvert_exporter": "python",
   "pygments_lexer": "ipython3",
   "version": "3.8.13"
  }
 },
 "nbformat": 4,
 "nbformat_minor": 5
}
