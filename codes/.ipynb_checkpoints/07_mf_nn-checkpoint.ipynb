{
 "cells": [
  {
   "cell_type": "markdown",
   "metadata": {},
   "source": [
    "We will attempt to build a matrix factorization neural network for our recommender system. This notebook was run on and downloaded from Kaggle."
   ]
  },
  {
   "cell_type": "markdown",
   "metadata": {},
   "source": [
    "## Contents:\n",
    "- [Loading of Libraries](#Loading-of-Libraries) \n",
    "- [Loading of Datasets & Preprocessing](#Loading-of-Datasets-&-Preprocessing)\n",
    "- [Building of Neural Network](#Building-of-Neural-Network)\n",
    "- [Conclusions](#Conclusions)\n",
    "- [Limitations & Further Works](#Limitations-&-Further-Works)"
   ]
  },
  {
   "cell_type": "markdown",
   "metadata": {},
   "source": [
    "## Loading of Libraries"
   ]
  },
  {
   "cell_type": "code",
   "execution_count": 47,
   "metadata": {
    "_cell_guid": "b1076dfc-b9ad-4769-8c92-a6c4dae69d19",
    "_uuid": "8f2839f25d086af736a60e9eeb907d3b93b6e0e5",
    "execution": {
     "iopub.execute_input": "2023-02-20T15:01:37.899429Z",
     "iopub.status.busy": "2023-02-20T15:01:37.898512Z",
     "iopub.status.idle": "2023-02-20T15:01:37.907074Z",
     "shell.execute_reply": "2023-02-20T15:01:37.905022Z",
     "shell.execute_reply.started": "2023-02-20T15:01:37.899373Z"
    }
   },
   "outputs": [],
   "source": [
    "# Import of libraries\n",
    "import pandas as pd\n",
    "import numpy as np\n",
    "import tensorflow as tf\n",
    "from tensorflow.keras import layers\n",
    "import matplotlib.pyplot as plt # plotting training & validation curves\n",
    "from sklearn import preprocessing # import label encoder\n",
    "from tensorflow.keras.optimizers import Adam # Adam class: best optimizer"
   ]
  },
  {
   "cell_type": "markdown",
   "metadata": {},
   "source": [
    "## Loading of Dataset and Preprocessing"
   ]
  },
  {
   "cell_type": "code",
   "execution_count": 2,
   "metadata": {
    "execution": {
     "iopub.execute_input": "2023-02-20T13:21:57.726343Z",
     "iopub.status.busy": "2023-02-20T13:21:57.725622Z",
     "iopub.status.idle": "2023-02-20T13:21:58.351704Z",
     "shell.execute_reply": "2023-02-20T13:21:58.350485Z",
     "shell.execute_reply.started": "2023-02-20T13:21:57.726303Z"
    }
   },
   "outputs": [
    {
     "name": "stdout",
     "output_type": "stream",
     "text": [
      "(177607, 7)\n"
     ]
    },
    {
     "data": {
      "text/html": [
       "<div>\n",
       "<style scoped>\n",
       "    .dataframe tbody tr th:only-of-type {\n",
       "        vertical-align: middle;\n",
       "    }\n",
       "\n",
       "    .dataframe tbody tr th {\n",
       "        vertical-align: top;\n",
       "    }\n",
       "\n",
       "    .dataframe thead th {\n",
       "        text-align: right;\n",
       "    }\n",
       "</style>\n",
       "<table border=\"1\" class=\"dataframe\">\n",
       "  <thead>\n",
       "    <tr style=\"text-align: right;\">\n",
       "      <th></th>\n",
       "      <th>profile_id</th>\n",
       "      <th>location_id</th>\n",
       "      <th>cts</th>\n",
       "      <th>sentiment_pred</th>\n",
       "      <th>name</th>\n",
       "      <th>city</th>\n",
       "      <th>cd</th>\n",
       "    </tr>\n",
       "  </thead>\n",
       "  <tbody>\n",
       "    <tr>\n",
       "      <th>0</th>\n",
       "      <td>4.519805e+06</td>\n",
       "      <td>1178180.0</td>\n",
       "      <td>2016-06-09 22:13:32</td>\n",
       "      <td>3</td>\n",
       "      <td>la famiglia</td>\n",
       "      <td>London, United Kingdom</td>\n",
       "      <td>GB</td>\n",
       "    </tr>\n",
       "    <tr>\n",
       "      <th>1</th>\n",
       "      <td>2.594847e+08</td>\n",
       "      <td>1178180.0</td>\n",
       "      <td>2019-05-30 23:17:22</td>\n",
       "      <td>3</td>\n",
       "      <td>la famiglia</td>\n",
       "      <td>London, United Kingdom</td>\n",
       "      <td>GB</td>\n",
       "    </tr>\n",
       "    <tr>\n",
       "      <th>2</th>\n",
       "      <td>6.364797e+09</td>\n",
       "      <td>1178180.0</td>\n",
       "      <td>2019-05-26 15:27:27</td>\n",
       "      <td>3</td>\n",
       "      <td>la famiglia</td>\n",
       "      <td>London, United Kingdom</td>\n",
       "      <td>GB</td>\n",
       "    </tr>\n",
       "    <tr>\n",
       "      <th>3</th>\n",
       "      <td>2.213894e+08</td>\n",
       "      <td>857670431.0</td>\n",
       "      <td>2019-05-30 21:41:15</td>\n",
       "      <td>2</td>\n",
       "      <td>green park</td>\n",
       "      <td>London, United Kingdom</td>\n",
       "      <td>GB</td>\n",
       "    </tr>\n",
       "    <tr>\n",
       "      <th>4</th>\n",
       "      <td>6.243066e+08</td>\n",
       "      <td>857670431.0</td>\n",
       "      <td>2019-05-30 07:56:50</td>\n",
       "      <td>3</td>\n",
       "      <td>green park</td>\n",
       "      <td>London, United Kingdom</td>\n",
       "      <td>GB</td>\n",
       "    </tr>\n",
       "  </tbody>\n",
       "</table>\n",
       "</div>"
      ],
      "text/plain": [
       "     profile_id  location_id                  cts  sentiment_pred  \\\n",
       "0  4.519805e+06    1178180.0  2016-06-09 22:13:32               3   \n",
       "1  2.594847e+08    1178180.0  2019-05-30 23:17:22               3   \n",
       "2  6.364797e+09    1178180.0  2019-05-26 15:27:27               3   \n",
       "3  2.213894e+08  857670431.0  2019-05-30 21:41:15               2   \n",
       "4  6.243066e+08  857670431.0  2019-05-30 07:56:50               3   \n",
       "\n",
       "          name                    city  cd  \n",
       "0  la famiglia  London, United Kingdom  GB  \n",
       "1  la famiglia  London, United Kingdom  GB  \n",
       "2  la famiglia  London, United Kingdom  GB  \n",
       "3   green park  London, United Kingdom  GB  \n",
       "4   green park  London, United Kingdom  GB  "
      ]
     },
     "execution_count": 2,
     "metadata": {},
     "output_type": "execute_result"
    }
   ],
   "source": [
    "# Loading of dataset\n",
    "recsys_df = pd.read_csv('/kaggle/input/recsys-df-name/recsys_df_name.csv')\n",
    "print(recsys_df.shape)\n",
    "recsys_df.head()"
   ]
  },
  {
   "cell_type": "code",
   "execution_count": 22,
   "metadata": {
    "execution": {
     "iopub.execute_input": "2023-02-20T14:42:57.383572Z",
     "iopub.status.busy": "2023-02-20T14:42:57.383148Z",
     "iopub.status.idle": "2023-02-20T14:42:57.388846Z",
     "shell.execute_reply": "2023-02-20T14:42:57.387632Z",
     "shell.execute_reply.started": "2023-02-20T14:42:57.383540Z"
    }
   },
   "outputs": [],
   "source": [
    "# label_encoder object knows how to understand word labels.\n",
    "label_encoder = preprocessing.LabelEncoder()"
   ]
  },
  {
   "cell_type": "code",
   "execution_count": 24,
   "metadata": {
    "execution": {
     "iopub.execute_input": "2023-02-20T14:44:19.453983Z",
     "iopub.status.busy": "2023-02-20T14:44:19.453576Z",
     "iopub.status.idle": "2023-02-20T14:44:19.527548Z",
     "shell.execute_reply": "2023-02-20T14:44:19.526204Z",
     "shell.execute_reply.started": "2023-02-20T14:44:19.453948Z"
    }
   },
   "outputs": [],
   "source": [
    "# Encode labels in column 'name'.\n",
    "recsys_df['new_location_id']= label_encoder.fit_transform(recsys_df['name'])"
   ]
  },
  {
   "cell_type": "code",
   "execution_count": 25,
   "metadata": {
    "execution": {
     "iopub.execute_input": "2023-02-20T14:44:43.762432Z",
     "iopub.status.busy": "2023-02-20T14:44:43.761913Z",
     "iopub.status.idle": "2023-02-20T14:44:43.781786Z",
     "shell.execute_reply": "2023-02-20T14:44:43.780421Z",
     "shell.execute_reply.started": "2023-02-20T14:44:43.762298Z"
    }
   },
   "outputs": [
    {
     "data": {
      "text/html": [
       "<div>\n",
       "<style scoped>\n",
       "    .dataframe tbody tr th:only-of-type {\n",
       "        vertical-align: middle;\n",
       "    }\n",
       "\n",
       "    .dataframe tbody tr th {\n",
       "        vertical-align: top;\n",
       "    }\n",
       "\n",
       "    .dataframe thead th {\n",
       "        text-align: right;\n",
       "    }\n",
       "</style>\n",
       "<table border=\"1\" class=\"dataframe\">\n",
       "  <thead>\n",
       "    <tr style=\"text-align: right;\">\n",
       "      <th></th>\n",
       "      <th>profile_id</th>\n",
       "      <th>location_id</th>\n",
       "      <th>cts</th>\n",
       "      <th>sentiment_pred</th>\n",
       "      <th>name</th>\n",
       "      <th>city</th>\n",
       "      <th>cd</th>\n",
       "      <th>new_location_id</th>\n",
       "    </tr>\n",
       "  </thead>\n",
       "  <tbody>\n",
       "    <tr>\n",
       "      <th>0</th>\n",
       "      <td>4.519805e+06</td>\n",
       "      <td>1178180.0</td>\n",
       "      <td>2016-06-09 22:13:32</td>\n",
       "      <td>3</td>\n",
       "      <td>la famiglia</td>\n",
       "      <td>London, United Kingdom</td>\n",
       "      <td>GB</td>\n",
       "      <td>3433</td>\n",
       "    </tr>\n",
       "    <tr>\n",
       "      <th>1</th>\n",
       "      <td>2.594847e+08</td>\n",
       "      <td>1178180.0</td>\n",
       "      <td>2019-05-30 23:17:22</td>\n",
       "      <td>3</td>\n",
       "      <td>la famiglia</td>\n",
       "      <td>London, United Kingdom</td>\n",
       "      <td>GB</td>\n",
       "      <td>3433</td>\n",
       "    </tr>\n",
       "    <tr>\n",
       "      <th>2</th>\n",
       "      <td>6.364797e+09</td>\n",
       "      <td>1178180.0</td>\n",
       "      <td>2019-05-26 15:27:27</td>\n",
       "      <td>3</td>\n",
       "      <td>la famiglia</td>\n",
       "      <td>London, United Kingdom</td>\n",
       "      <td>GB</td>\n",
       "      <td>3433</td>\n",
       "    </tr>\n",
       "    <tr>\n",
       "      <th>3</th>\n",
       "      <td>2.213894e+08</td>\n",
       "      <td>857670431.0</td>\n",
       "      <td>2019-05-30 21:41:15</td>\n",
       "      <td>2</td>\n",
       "      <td>green park</td>\n",
       "      <td>London, United Kingdom</td>\n",
       "      <td>GB</td>\n",
       "      <td>2646</td>\n",
       "    </tr>\n",
       "    <tr>\n",
       "      <th>4</th>\n",
       "      <td>6.243066e+08</td>\n",
       "      <td>857670431.0</td>\n",
       "      <td>2019-05-30 07:56:50</td>\n",
       "      <td>3</td>\n",
       "      <td>green park</td>\n",
       "      <td>London, United Kingdom</td>\n",
       "      <td>GB</td>\n",
       "      <td>2646</td>\n",
       "    </tr>\n",
       "  </tbody>\n",
       "</table>\n",
       "</div>"
      ],
      "text/plain": [
       "     profile_id  location_id                 cts  sentiment_pred         name  \\\n",
       "0  4.519805e+06    1178180.0 2016-06-09 22:13:32               3  la famiglia   \n",
       "1  2.594847e+08    1178180.0 2019-05-30 23:17:22               3  la famiglia   \n",
       "2  6.364797e+09    1178180.0 2019-05-26 15:27:27               3  la famiglia   \n",
       "3  2.213894e+08  857670431.0 2019-05-30 21:41:15               2   green park   \n",
       "4  6.243066e+08  857670431.0 2019-05-30 07:56:50               3   green park   \n",
       "\n",
       "                     city  cd  new_location_id  \n",
       "0  London, United Kingdom  GB             3433  \n",
       "1  London, United Kingdom  GB             3433  \n",
       "2  London, United Kingdom  GB             3433  \n",
       "3  London, United Kingdom  GB             2646  \n",
       "4  London, United Kingdom  GB             2646  "
      ]
     },
     "execution_count": 25,
     "metadata": {},
     "output_type": "execute_result"
    }
   ],
   "source": [
    "# Check new location labels\n",
    "recsys_df.head()"
   ]
  },
  {
   "cell_type": "code",
   "execution_count": 26,
   "metadata": {
    "execution": {
     "iopub.execute_input": "2023-02-20T14:46:04.860057Z",
     "iopub.status.busy": "2023-02-20T14:46:04.859647Z",
     "iopub.status.idle": "2023-02-20T14:46:04.903272Z",
     "shell.execute_reply": "2023-02-20T14:46:04.901995Z",
     "shell.execute_reply.started": "2023-02-20T14:46:04.860025Z"
    }
   },
   "outputs": [
    {
     "name": "stdout",
     "output_type": "stream",
     "text": [
      "<class 'pandas.core.frame.DataFrame'>\n",
      "Int64Index: 177607 entries, 0 to 177606\n",
      "Data columns (total 8 columns):\n",
      " #   Column           Non-Null Count   Dtype         \n",
      "---  ------           --------------   -----         \n",
      " 0   profile_id       177607 non-null  float64       \n",
      " 1   location_id      177607 non-null  float64       \n",
      " 2   cts              177607 non-null  datetime64[ns]\n",
      " 3   sentiment_pred   177607 non-null  int64         \n",
      " 4   name             177607 non-null  object        \n",
      " 5   city             177607 non-null  object        \n",
      " 6   cd               177607 non-null  object        \n",
      " 7   new_location_id  177607 non-null  int64         \n",
      "dtypes: datetime64[ns](1), float64(2), int64(2), object(3)\n",
      "memory usage: 12.2+ MB\n"
     ]
    }
   ],
   "source": [
    "# Check null values and dtypes\n",
    "recsys_df.info()"
   ]
  },
  {
   "cell_type": "code",
   "execution_count": 27,
   "metadata": {
    "execution": {
     "iopub.execute_input": "2023-02-20T14:46:18.858864Z",
     "iopub.status.busy": "2023-02-20T14:46:18.858240Z",
     "iopub.status.idle": "2023-02-20T14:46:18.876074Z",
     "shell.execute_reply": "2023-02-20T14:46:18.874642Z",
     "shell.execute_reply.started": "2023-02-20T14:46:18.858830Z"
    }
   },
   "outputs": [],
   "source": [
    "# Change timestamp to reflect datetime dtype\n",
    "recsys_df['cts']=pd.to_datetime(recsys_df['cts'])"
   ]
  },
  {
   "cell_type": "code",
   "execution_count": 28,
   "metadata": {
    "execution": {
     "iopub.execute_input": "2023-02-20T14:46:21.129719Z",
     "iopub.status.busy": "2023-02-20T14:46:21.128972Z",
     "iopub.status.idle": "2023-02-20T14:46:21.138282Z",
     "shell.execute_reply": "2023-02-20T14:46:21.136731Z",
     "shell.execute_reply.started": "2023-02-20T14:46:21.129674Z"
    }
   },
   "outputs": [
    {
     "data": {
      "text/plain": [
       "159846.30000000002"
      ]
     },
     "execution_count": 28,
     "metadata": {},
     "output_type": "execute_result"
    }
   ],
   "source": [
    "# Find len of 90% of the dataset\n",
    "0.9*len(recsys_df)"
   ]
  },
  {
   "cell_type": "code",
   "execution_count": 29,
   "metadata": {
    "execution": {
     "iopub.execute_input": "2023-02-20T14:47:02.607199Z",
     "iopub.status.busy": "2023-02-20T14:47:02.606769Z",
     "iopub.status.idle": "2023-02-20T14:47:02.657374Z",
     "shell.execute_reply": "2023-02-20T14:47:02.656333Z",
     "shell.execute_reply.started": "2023-02-20T14:47:02.607149Z"
    }
   },
   "outputs": [],
   "source": [
    "# Create temporal train/test split on filtered data\n",
    "filtered_data = (\n",
    "    recsys_df\n",
    "    .filter([\"cts\",\"profile_id\",\"new_location_id\",\"sentiment_pred\"])\n",
    "    .sort_values(\"cts\")\n",
    "    .astype({\"profile_id\": int, \"new_location_id\": int, \"sentiment_pred\": int})\n",
    "    .drop(columns=[\"cts\"]) # don't need the timestamp anymore\n",
    ")\n",
    "\n",
    "train = filtered_data.iloc[:159846] # chronologically first 90% of the dataset\n",
    "test = filtered_data.iloc[159846:]"
   ]
  },
  {
   "cell_type": "code",
   "execution_count": 30,
   "metadata": {
    "execution": {
     "iopub.execute_input": "2023-02-20T14:47:23.546106Z",
     "iopub.status.busy": "2023-02-20T14:47:23.545681Z",
     "iopub.status.idle": "2023-02-20T14:47:23.557901Z",
     "shell.execute_reply": "2023-02-20T14:47:23.556975Z",
     "shell.execute_reply.started": "2023-02-20T14:47:23.546073Z"
    }
   },
   "outputs": [
    {
     "data": {
      "text/html": [
       "<div>\n",
       "<style scoped>\n",
       "    .dataframe tbody tr th:only-of-type {\n",
       "        vertical-align: middle;\n",
       "    }\n",
       "\n",
       "    .dataframe tbody tr th {\n",
       "        vertical-align: top;\n",
       "    }\n",
       "\n",
       "    .dataframe thead th {\n",
       "        text-align: right;\n",
       "    }\n",
       "</style>\n",
       "<table border=\"1\" class=\"dataframe\">\n",
       "  <thead>\n",
       "    <tr style=\"text-align: right;\">\n",
       "      <th></th>\n",
       "      <th>profile_id</th>\n",
       "      <th>new_location_id</th>\n",
       "      <th>sentiment_pred</th>\n",
       "    </tr>\n",
       "  </thead>\n",
       "  <tbody>\n",
       "    <tr>\n",
       "      <th>77954</th>\n",
       "      <td>1018</td>\n",
       "      <td>4990</td>\n",
       "      <td>2</td>\n",
       "    </tr>\n",
       "    <tr>\n",
       "      <th>28815</th>\n",
       "      <td>52664</td>\n",
       "      <td>6109</td>\n",
       "      <td>2</td>\n",
       "    </tr>\n",
       "    <tr>\n",
       "      <th>138742</th>\n",
       "      <td>3471557</td>\n",
       "      <td>6645</td>\n",
       "      <td>2</td>\n",
       "    </tr>\n",
       "    <tr>\n",
       "      <th>1589</th>\n",
       "      <td>1402988</td>\n",
       "      <td>4751</td>\n",
       "      <td>1</td>\n",
       "    </tr>\n",
       "    <tr>\n",
       "      <th>29880</th>\n",
       "      <td>15501</td>\n",
       "      <td>1521</td>\n",
       "      <td>3</td>\n",
       "    </tr>\n",
       "  </tbody>\n",
       "</table>\n",
       "</div>"
      ],
      "text/plain": [
       "        profile_id  new_location_id  sentiment_pred\n",
       "77954         1018             4990               2\n",
       "28815        52664             6109               2\n",
       "138742     3471557             6645               2\n",
       "1589       1402988             4751               1\n",
       "29880        15501             1521               3"
      ]
     },
     "execution_count": 30,
     "metadata": {},
     "output_type": "execute_result"
    }
   ],
   "source": [
    "# Check filtering\n",
    "filtered_data.head()"
   ]
  },
  {
   "cell_type": "code",
   "execution_count": 31,
   "metadata": {
    "execution": {
     "iopub.execute_input": "2023-02-20T14:47:44.264244Z",
     "iopub.status.busy": "2023-02-20T14:47:44.263767Z",
     "iopub.status.idle": "2023-02-20T14:47:44.279929Z",
     "shell.execute_reply": "2023-02-20T14:47:44.278726Z",
     "shell.execute_reply.started": "2023-02-20T14:47:44.264207Z"
    }
   },
   "outputs": [
    {
     "name": "stdout",
     "output_type": "stream",
     "text": [
      "1\n",
      "0\n"
     ]
    }
   ],
   "source": [
    "# Reflect cold start problem\n",
    "print(train.query(\"profile_id == 1018\").shape[0])\n",
    "print(test.query(\"profile_id == 1018\").shape[0])"
   ]
  },
  {
   "cell_type": "markdown",
   "metadata": {},
   "source": [
    "The above shows that the model will suffer from a cold start problem. For instance, profile_id 1018 is present in train but not test dataset."
   ]
  },
  {
   "cell_type": "code",
   "execution_count": 32,
   "metadata": {
    "execution": {
     "iopub.execute_input": "2023-02-20T14:47:50.146223Z",
     "iopub.status.busy": "2023-02-20T14:47:50.145784Z",
     "iopub.status.idle": "2023-02-20T14:47:50.155945Z",
     "shell.execute_reply": "2023-02-20T14:47:50.154572Z",
     "shell.execute_reply.started": "2023-02-20T14:47:50.146185Z"
    }
   },
   "outputs": [],
   "source": [
    "# Create train and test df\n",
    "X_train = train.drop(columns=[\"sentiment_pred\"])\n",
    "y_train = train[\"sentiment_pred\"]\n",
    "\n",
    "X_test = test.drop(columns=[\"sentiment_pred\"])\n",
    "y_test = test[\"sentiment_pred\"]"
   ]
  },
  {
   "cell_type": "code",
   "execution_count": 34,
   "metadata": {
    "execution": {
     "iopub.execute_input": "2023-02-20T14:48:19.201574Z",
     "iopub.status.busy": "2023-02-20T14:48:19.201191Z",
     "iopub.status.idle": "2023-02-20T14:48:19.215844Z",
     "shell.execute_reply": "2023-02-20T14:48:19.214567Z",
     "shell.execute_reply.started": "2023-02-20T14:48:19.201542Z"
    }
   },
   "outputs": [],
   "source": [
    "# Check unique values\n",
    "all_profiles = train[\"profile_id\"].unique()\n",
    "all_locations = train[\"new_location_id\"].unique()"
   ]
  },
  {
   "cell_type": "markdown",
   "metadata": {},
   "source": [
    "## Building of Neural Network"
   ]
  },
  {
   "cell_type": "code",
   "execution_count": 62,
   "metadata": {
    "execution": {
     "iopub.execute_input": "2023-02-20T15:17:21.246751Z",
     "iopub.status.busy": "2023-02-20T15:17:21.246146Z",
     "iopub.status.idle": "2023-02-20T15:17:21.362258Z",
     "shell.execute_reply": "2023-02-20T15:17:21.360887Z",
     "shell.execute_reply.started": "2023-02-20T15:17:21.246709Z"
    }
   },
   "outputs": [],
   "source": [
    "# Building of model\n",
    "# profile pipeline\n",
    "profile_input = tf.keras.layers.Input(shape=(1,), name=\"profile\")\n",
    "profile_as_integer = tf.keras.layers.IntegerLookup(vocabulary=all_profiles)(profile_input)\n",
    "profile_embedding = tf.keras.layers.Embedding(input_dim=len(all_profiles)+1, output_dim=32)(profile_as_integer)\n",
    "\n",
    "# location pipeline\n",
    "location_input = tf.keras.layers.Input(shape=(1,), name=\"location\")\n",
    "location_as_integer = tf.keras.layers.IntegerLookup(vocabulary=all_locations)(location_input)\n",
    "location_embedding = tf.keras.layers.Embedding(input_dim=len(all_locations)+1, output_dim=32)(location_as_integer)\n",
    "\n",
    "# dot product\n",
    "dot = tf.keras.layers.Dot(axes=2)([profile_embedding, location_embedding])\n",
    "flatten = tf.keras.layers.Flatten()(dot)\n",
    "\n",
    "# scale and shift output to [1, 3]\n",
    "squash = tf.keras.layers.Lambda(lambda x: 2*tf.nn.sigmoid(x) + 1)(flatten)\n",
    "\n",
    "# model input/output definition\n",
    "model = tf.keras.Model(inputs=[profile_input, location_input], outputs=squash)\n",
    "\n",
    "# create an optimizer\n",
    "opt = Adam(learning_rate=0.001)\n",
    "\n",
    "model.compile(loss=\"mse\", optimizer=opt, metrics=['mse', 'mae'])"
   ]
  },
  {
   "cell_type": "code",
   "execution_count": 63,
   "metadata": {
    "execution": {
     "iopub.execute_input": "2023-02-20T15:17:26.479648Z",
     "iopub.status.busy": "2023-02-20T15:17:26.478949Z",
     "iopub.status.idle": "2023-02-20T15:17:26.518321Z",
     "shell.execute_reply": "2023-02-20T15:17:26.516952Z",
     "shell.execute_reply.started": "2023-02-20T15:17:26.479599Z"
    }
   },
   "outputs": [
    {
     "name": "stdout",
     "output_type": "stream",
     "text": [
      "Model: \"model_3\"\n",
      "__________________________________________________________________________________________________\n",
      " Layer (type)                   Output Shape         Param #     Connected to                     \n",
      "==================================================================================================\n",
      " profile (InputLayer)           [(None, 1)]          0           []                               \n",
      "                                                                                                  \n",
      " location (InputLayer)          [(None, 1)]          0           []                               \n",
      "                                                                                                  \n",
      " integer_lookup_11 (IntegerLook  (None, 1)           0           ['profile[0][0]']                \n",
      " up)                                                                                              \n",
      "                                                                                                  \n",
      " integer_lookup_12 (IntegerLook  (None, 1)           0           ['location[0][0]']               \n",
      " up)                                                                                              \n",
      "                                                                                                  \n",
      " embedding_8 (Embedding)        (None, 1, 32)        3431008     ['integer_lookup_11[0][0]']      \n",
      "                                                                                                  \n",
      " embedding_9 (Embedding)        (None, 1, 32)        257024      ['integer_lookup_12[0][0]']      \n",
      "                                                                                                  \n",
      " dot_3 (Dot)                    (None, 1, 1)         0           ['embedding_8[0][0]',            \n",
      "                                                                  'embedding_9[0][0]']            \n",
      "                                                                                                  \n",
      " flatten_3 (Flatten)            (None, 1)            0           ['dot_3[0][0]']                  \n",
      "                                                                                                  \n",
      " lambda_3 (Lambda)              (None, 1)            0           ['flatten_3[0][0]']              \n",
      "                                                                                                  \n",
      "==================================================================================================\n",
      "Total params: 3,688,032\n",
      "Trainable params: 3,688,032\n",
      "Non-trainable params: 0\n",
      "__________________________________________________________________________________________________\n"
     ]
    }
   ],
   "source": [
    "model.summary()"
   ]
  },
  {
   "cell_type": "code",
   "execution_count": 64,
   "metadata": {
    "execution": {
     "iopub.execute_input": "2023-02-20T15:17:31.159824Z",
     "iopub.status.busy": "2023-02-20T15:17:31.159447Z",
     "iopub.status.idle": "2023-02-20T15:19:26.928825Z",
     "shell.execute_reply": "2023-02-20T15:19:26.927695Z",
     "shell.execute_reply.started": "2023-02-20T15:17:31.159795Z"
    }
   },
   "outputs": [
    {
     "name": "stdout",
     "output_type": "stream",
     "text": [
      "Epoch 1/10\n",
      "562/562 [==============================] - 20s 34ms/step - loss: 0.5340 - mse: 0.5340 - mae: 0.6206 - val_loss: 0.4425 - val_mse: 0.4425 - val_mae: 0.5790\n",
      "Epoch 2/10\n",
      "562/562 [==============================] - 19s 35ms/step - loss: 0.4034 - mse: 0.4034 - mae: 0.5395 - val_loss: 0.4281 - val_mse: 0.4281 - val_mae: 0.5563\n",
      "Epoch 3/10\n",
      "562/562 [==============================] - 19s 34ms/step - loss: 0.3906 - mse: 0.3906 - mae: 0.5256 - val_loss: 0.4281 - val_mse: 0.4281 - val_mae: 0.5532\n",
      "Epoch 4/10\n",
      "562/562 [==============================] - 19s 34ms/step - loss: 0.3828 - mse: 0.3828 - mae: 0.5197 - val_loss: 0.4279 - val_mse: 0.4279 - val_mae: 0.5515\n",
      "Epoch 5/10\n",
      "562/562 [==============================] - 19s 34ms/step - loss: 0.3760 - mse: 0.3760 - mae: 0.5153 - val_loss: 0.4275 - val_mse: 0.4275 - val_mae: 0.5500\n",
      "Epoch 6/10\n",
      "562/562 [==============================] - 19s 34ms/step - loss: 0.3694 - mse: 0.3694 - mae: 0.5108 - val_loss: 0.4281 - val_mse: 0.4281 - val_mae: 0.5492\n"
     ]
    }
   ],
   "source": [
    "# Model training\n",
    "history = model.fit(\n",
    "    x={\n",
    "        \"profile\": X_train[\"profile_id\"],\n",
    "        \"location\": X_train[\"new_location_id\"]\n",
    "    },\n",
    "    y=y_train.values,\n",
    "    batch_size=256,\n",
    "    epochs=10,\n",
    "    validation_split=0.1, # for early stopping\n",
    "    callbacks=[\n",
    "        tf.keras.callbacks.EarlyStopping(patience=1, restore_best_weights=True)\n",
    "    ],\n",
    ")"
   ]
  },
  {
   "cell_type": "code",
   "execution_count": 65,
   "metadata": {
    "execution": {
     "iopub.execute_input": "2023-02-20T15:19:29.761187Z",
     "iopub.status.busy": "2023-02-20T15:19:29.760314Z",
     "iopub.status.idle": "2023-02-20T15:19:30.023720Z",
     "shell.execute_reply": "2023-02-20T15:19:30.022442Z",
     "shell.execute_reply.started": "2023-02-20T15:19:29.761127Z"
    }
   },
   "outputs": [
    {
     "data": {
      "image/png": "[encoded data removed]",
      "text/plain": [
       "<Figure size 640x480 with 1 Axes>"
      ]
     },
     "metadata": {},
     "output_type": "display_data"
    }
   ],
   "source": [
    "plt.plot(history.history['loss'], label='Train loss')\n",
    "plt.plot(history.history['val_loss'], label='Val Loss')\n",
    "plt.legend();"
   ]
  },
  {
   "cell_type": "code",
   "execution_count": 68,
   "metadata": {
    "execution": {
     "iopub.execute_input": "2023-02-20T15:22:55.474877Z",
     "iopub.status.busy": "2023-02-20T15:22:55.474442Z",
     "iopub.status.idle": "2023-02-20T15:22:55.991152Z",
     "shell.execute_reply": "2023-02-20T15:22:55.989936Z",
     "shell.execute_reply.started": "2023-02-20T15:22:55.474841Z"
    }
   },
   "outputs": [
    {
     "name": "stdout",
     "output_type": "stream",
     "text": [
      "251/251 [==============================] - 0s 1ms/step\n"
     ]
    },
    {
     "data": {
      "text/plain": [
       "array([[2.3308587],\n",
       "       [2.6099467],\n",
       "       [2.5378675],\n",
       "       ...,\n",
       "       [1.9912875],\n",
       "       [1.9882938],\n",
       "       [1.9598911]], dtype=float32)"
      ]
     },
     "execution_count": 68,
     "metadata": {},
     "output_type": "execute_result"
    }
   ],
   "source": [
    "# Prediction\n",
    "model.predict({\n",
    "    \"profile\": tf.ones_like(all_locations.reshape(-1, 1)), # fill profile 1 in many times\n",
    "    \"location\": all_locations.reshape(-1, 1)\n",
    "})"
   ]
  },
  {
   "cell_type": "markdown",
   "metadata": {},
   "source": [
    "- Unfortunately, the loss from the neural network was not very stable when the codes were rerun several times.\n",
    "- Thus, we will not proceed with the use of a neural network for our recommender system.\n",
    "- Moving on, the recommender system using SVD is deployed using Streamlit. The codes are contained in the [`streamlit`](../streamlit/) folder."
   ]
  },
  {
   "cell_type": "markdown",
   "metadata": {},
   "source": [
    "## Conclusions\n",
    "- For this project, we aim to build a travel recommender to uncover the hidden gems of London.\n",
    "- The categories of the attractions are as follows:\n",
    "1. boat tours and water sports\n",
    "1. pubs and nightlife\n",
    "1. sights and landmarks\n",
    "1. spas and wellness\n",
    "1. fun and games\n",
    "1. museums\n",
    "1. classes and workshops\n",
    "1. nature and parks\n",
    "1. markets\n",
    "1. neighbourhoods\n",
    "- We have built a collaborative-filtering recommender system using a matrix factorisation algorithm called SVD. \n",
    "- Out of the top 100 recommendations and a threshold of 2.5 out of 3 for a positive rating, the model is able to predict with a precision@k value of 0.8031 and recall@k value of 0.7748 which are acceptable.\n",
    "- The model has been deployed on Streamlit. On that interface, users can input their Instagram ID and if it is within the dataset used in this project, a personalised recommendation is given. If not, one of the top 20 most popular locations is recommended.\n",
    "- The recommendations are shuffled so users can keep getting different recommendations whenever they hit the 'submit' button."
   ]
  },
  {
   "cell_type": "markdown",
   "metadata": {},
   "source": [
    "## Limitations & Further Works\n",
    "- Due to the constraints of this project, the locations are not fully cleaned - there are still locations which are not part of the intended ten categories of attractions present in the recommender system data.\n",
    "- For users whose Instagram ID is not part of the recommender system data, their recommendations will be generic instead of personalised.\n",
    "- As the zero shot package was not able to classify the locations according to the intended categories accurately, a hybrid recommender system could not be fulfilled. As such, further works can be done to look at how the locations can be classified efficiently and accurately to create a hybrid recommender system, so that new users can get more personalised recommendations as well.\n",
    "- Other metrics such as recommendation-centric metrics and business metrics have to be considered to determine how real customers react to the produced recommendations in terms of the company’s business strategy through A/B testing. "
   ]
  },
  {
   "cell_type": "code",
   "execution_count": null,
   "metadata": {},
   "outputs": [],
   "source": []
  }
 ],
 "metadata": {
  "kernelspec": {
   "display_name": "Python 3 (ipykernel)",
   "language": "python",
   "name": "python3"
  },
  "language_info": {
   "codemirror_mode": {
    "name": "ipython",
    "version": 3
   },
   "file_extension": ".py",
   "mimetype": "text/x-python",
   "name": "python",
   "nbconvert_exporter": "python",
   "pygments_lexer": "ipython3",
   "version": "3.8.13"
  }
 },
 "nbformat": 4,
 "nbformat_minor": 4
}
