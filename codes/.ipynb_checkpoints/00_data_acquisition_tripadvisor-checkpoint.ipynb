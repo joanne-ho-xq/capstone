{
 "cells": [
  {
   "cell_type": "markdown",
   "id": "5982ad8a",
   "metadata": {
    "_cell_guid": "b1076dfc-b9ad-4769-8c92-a6c4dae69d19",
    "_uuid": "8f2839f25d086af736a60e9eeb907d3b93b6e0e5",
    "papermill": {
     "duration": 0.004186,
     "end_time": "2023-02-12T11:37:57.776799",
     "exception": false,
     "start_time": "2023-02-12T11:37:57.772613",
     "status": "completed"
    },
    "tags": []
   },
   "source": [
    "To filter out the popular places of London, we will scrape the top 50 highly-rated places of attraction from a popular travel website, Trip Advisor, using BeautifulSoup package."
   ]
  },
  {
   "cell_type": "code",
   "execution_count": 1,
   "id": "9f5fcbbd",
   "metadata": {
    "papermill": {
     "duration": 0.212206,
     "end_time": "2023-02-12T11:37:57.992340",
     "exception": false,
     "start_time": "2023-02-12T11:37:57.780134",
     "status": "completed"
    },
    "tags": []
   },
   "outputs": [],
   "source": [
    "# Import libraries\n",
    "import requests # http library for python \n",
    "from bs4 import BeautifulSoup # library for pulling data out of HTML\n",
    "import pandas as pd\n",
    "from tqdm import tqdm\n",
    "tqdm.pandas()\n",
    "import re"
   ]
  },
  {
   "cell_type": "code",
   "execution_count": 2,
   "id": "bf996d95",
   "metadata": {
    "papermill": {
     "duration": 1.960765,
     "end_time": "2023-02-12T11:37:59.956316",
     "exception": false,
     "start_time": "2023-02-12T11:37:57.995551",
     "status": "completed"
    },
    "tags": []
   },
   "outputs": [
    {
     "name": "stdout",
     "output_type": "stream",
     "text": [
      "Status Code:  200\n"
     ]
    }
   ],
   "source": [
    "response = requests.get('https://www.tripadvisor.com.sg/Attractions-g186338-Activities-oa0-London_England.html', headers={'User-Agent': \"Mozilla/5.0\"})\n",
    "print('Status Code: ',response.status_code)"
   ]
  },
  {
   "cell_type": "code",
   "execution_count": 3,
   "id": "e8cb6fea",
   "metadata": {
    "papermill": {
     "duration": 0.310636,
     "end_time": "2023-02-12T11:38:00.270586",
     "exception": false,
     "start_time": "2023-02-12T11:37:59.959950",
     "status": "completed"
    },
    "tags": []
   },
   "outputs": [],
   "source": [
    "soup = BeautifulSoup(response.text, \"lxml\")"
   ]
  },
  {
   "cell_type": "code",
   "execution_count": 4,
   "id": "d97fa87c",
   "metadata": {
    "papermill": {
     "duration": 12.505433,
     "end_time": "2023-02-12T11:38:12.779414",
     "exception": false,
     "start_time": "2023-02-12T11:38:00.273981",
     "status": "completed"
    },
    "scrolled": true,
    "tags": []
   },
   "outputs": [
    {
     "name": "stderr",
     "output_type": "stream",
     "text": [
      "1st loop:   0%|                                           | 0/3 [00:00<?, ?it/s]"
     ]
    },
    {
     "name": "stdout",
     "output_type": "stream",
     "text": [
      "https://www.tripadvisor.com.sg/Attractions-g186338-Activities-oa0-London_England.html\n",
      "Status Code:  200\n"
     ]
    },
    {
     "name": "stderr",
     "output_type": "stream",
     "text": [
      "\n",
      "2nd loop:   0%|                                          | 0/30 [00:00<?, ?it/s]\u001b[A\n",
      "2nd loop:  10%|███▍                              | 3/30 [00:00<00:00, 29.55it/s]\u001b[A\n",
      "2nd loop:  20%|██████▊                           | 6/30 [00:00<00:00, 28.64it/s]\u001b[A\n",
      "2nd loop:  33%|███████████                      | 10/30 [00:00<00:00, 30.84it/s]\u001b[A\n",
      "2nd loop:  47%|███████████████▍                 | 14/30 [00:00<00:00, 31.92it/s]\u001b[A\n",
      "2nd loop:  60%|███████████████████▊             | 18/30 [00:00<00:00, 32.82it/s]\u001b[A\n",
      "2nd loop:  73%|████████████████████████▏        | 22/30 [00:00<00:00, 33.25it/s]\u001b[A\n",
      "2nd loop:  87%|████████████████████████████▌    | 26/30 [00:00<00:00, 33.61it/s]\u001b[A\n",
      "2nd loop: 100%|█████████████████████████████████| 30/30 [00:00<00:00, 32.58it/s]\u001b[A\n",
      "1st loop:  33%|███████████▋                       | 1/3 [00:02<00:04,  2.18s/it]"
     ]
    },
    {
     "name": "stdout",
     "output_type": "stream",
     "text": [
      "https://www.tripadvisor.com.sg/Attractions-g186338-Activities-oa30-London_England.html\n",
      "Status Code:  200\n"
     ]
    },
    {
     "name": "stderr",
     "output_type": "stream",
     "text": [
      "\n",
      "2nd loop:   0%|                                          | 0/30 [00:00<?, ?it/s]\u001b[A\n",
      "2nd loop:  10%|███▍                              | 3/30 [00:00<00:00, 29.72it/s]\u001b[A\n",
      "2nd loop:  23%|███████▉                          | 7/30 [00:00<00:00, 33.69it/s]\u001b[A\n",
      "2nd loop:  37%|████████████                     | 11/30 [00:00<00:00, 34.94it/s]\u001b[A\n",
      "2nd loop:  50%|████████████████▌                | 15/30 [00:00<00:00, 35.38it/s]\u001b[A\n",
      "2nd loop:  63%|████████████████████▉            | 19/30 [00:00<00:00, 35.73it/s]\u001b[A\n",
      "2nd loop:  77%|█████████████████████████▎       | 23/30 [00:00<00:00, 35.57it/s]\u001b[A\n",
      "2nd loop: 100%|█████████████████████████████████| 30/30 [00:00<00:00, 35.27it/s]\u001b[A\n",
      "1st loop:  67%|███████████████████████▎           | 2/3 [00:04<00:02,  2.45s/it]"
     ]
    },
    {
     "name": "stdout",
     "output_type": "stream",
     "text": [
      "https://www.tripadvisor.com.sg/Attractions-g186338-Activities-oa60-London_England.html\n",
      "Status Code:  200\n"
     ]
    },
    {
     "name": "stderr",
     "output_type": "stream",
     "text": [
      "\n",
      "2nd loop:   0%|                                          | 0/30 [00:00<?, ?it/s]\u001b[A\n",
      "2nd loop:  13%|████▌                             | 4/30 [00:00<00:00, 34.83it/s]\u001b[A\n",
      "2nd loop:  27%|█████████                         | 8/30 [00:00<00:00, 35.59it/s]\u001b[A\n",
      "2nd loop:  40%|█████████████▏                   | 12/30 [00:00<00:00, 35.22it/s]\u001b[A\n",
      "2nd loop:  53%|█████████████████▌               | 16/30 [00:00<00:00, 35.69it/s]\u001b[A\n",
      "2nd loop:  67%|██████████████████████           | 20/30 [00:00<00:00, 35.87it/s]\u001b[A\n",
      "2nd loop:  80%|██████████████████████████▍      | 24/30 [00:00<00:00, 35.49it/s]\u001b[A\n",
      "2nd loop: 100%|█████████████████████████████████| 30/30 [00:00<00:00, 35.32it/s]\u001b[A\n",
      "1st loop: 100%|███████████████████████████████████| 3/3 [00:07<00:00,  2.54s/it]"
     ]
    },
    {
     "name": "stdout",
     "output_type": "stream",
     "text": [
      "CPU times: user 3.36 s, sys: 126 ms, total: 3.49 s\n",
      "Wall time: 7.68 s\n"
     ]
    },
    {
     "name": "stderr",
     "output_type": "stream",
     "text": [
      "\n"
     ]
    }
   ],
   "source": [
    "%%time\n",
    "poi = [] # declare empty list to append names of places of interest\n",
    "\n",
    "for num_results in tqdm(range(0, 61, 30), desc='1st loop'): # keeps running until \"for\" condition breaks\n",
    "    url = f'https://www.tripadvisor.com.sg/Attractions-g186338-Activities-oa{num_results}-London_England.html'\n",
    "    print(url)\n",
    "    \n",
    "    response = requests.get(url, headers={'User-Agent': \"Mozilla/5.0\"})\n",
    "    print('Status Code: ',response.status_code)\n",
    "    \n",
    "    soup = BeautifulSoup(response.text, \"lxml\")\n",
    "    for i in tqdm(range(0,30), desc='2nd loop'):\n",
    "        name = soup.find_all('div', {'class':'XfVdV o AIbhI'})[i].text # get name of poi\n",
    "        poi.append(name)"
   ]
  },
  {
   "cell_type": "code",
   "execution_count": 5,
   "id": "c56a1812",
   "metadata": {
    "papermill": {
     "duration": 0.04702,
     "end_time": "2023-02-12T11:38:12.839311",
     "exception": false,
     "start_time": "2023-02-12T11:38:12.792291",
     "status": "completed"
    },
    "scrolled": true,
    "tags": []
   },
   "outputs": [
    {
     "data": {
      "text/html": [
       "<div>\n",
       "<style scoped>\n",
       "    .dataframe tbody tr th:only-of-type {\n",
       "        vertical-align: middle;\n",
       "    }\n",
       "\n",
       "    .dataframe tbody tr th {\n",
       "        vertical-align: top;\n",
       "    }\n",
       "\n",
       "    .dataframe thead th {\n",
       "        text-align: right;\n",
       "    }\n",
       "</style>\n",
       "<table border=\"1\" class=\"dataframe\">\n",
       "  <thead>\n",
       "    <tr style=\"text-align: right;\">\n",
       "      <th></th>\n",
       "      <th>poi_name</th>\n",
       "    </tr>\n",
       "  </thead>\n",
       "  <tbody>\n",
       "    <tr>\n",
       "      <th>0</th>\n",
       "      <td>1. Tower of London</td>\n",
       "    </tr>\n",
       "    <tr>\n",
       "      <th>1</th>\n",
       "      <td>2. The British Museum</td>\n",
       "    </tr>\n",
       "    <tr>\n",
       "      <th>2</th>\n",
       "      <td>3. London Eye</td>\n",
       "    </tr>\n",
       "    <tr>\n",
       "      <th>3</th>\n",
       "      <td>4. National Gallery</td>\n",
       "    </tr>\n",
       "    <tr>\n",
       "      <th>4</th>\n",
       "      <td>5. Tower Bridge</td>\n",
       "    </tr>\n",
       "    <tr>\n",
       "      <th>5</th>\n",
       "      <td>6. Natural History Museum</td>\n",
       "    </tr>\n",
       "    <tr>\n",
       "      <th>6</th>\n",
       "      <td>7. Churchill War Rooms</td>\n",
       "    </tr>\n",
       "    <tr>\n",
       "      <th>7</th>\n",
       "      <td>8. V&amp;A  - Victoria and Albert Museum</td>\n",
       "    </tr>\n",
       "    <tr>\n",
       "      <th>8</th>\n",
       "      <td>9. Westminster Abbey</td>\n",
       "    </tr>\n",
       "    <tr>\n",
       "      <th>9</th>\n",
       "      <td>10. Hyde Park</td>\n",
       "    </tr>\n",
       "    <tr>\n",
       "      <th>10</th>\n",
       "      <td>11. Borough Market</td>\n",
       "    </tr>\n",
       "    <tr>\n",
       "      <th>11</th>\n",
       "      <td>12. Covent Garden</td>\n",
       "    </tr>\n",
       "    <tr>\n",
       "      <th>12</th>\n",
       "      <td>13. Sky Garden</td>\n",
       "    </tr>\n",
       "    <tr>\n",
       "      <th>13</th>\n",
       "      <td>14. London Underground</td>\n",
       "    </tr>\n",
       "    <tr>\n",
       "      <th>14</th>\n",
       "      <td>15. Buckingham Palace</td>\n",
       "    </tr>\n",
       "    <tr>\n",
       "      <th>15</th>\n",
       "      <td>16. Camden Market</td>\n",
       "    </tr>\n",
       "    <tr>\n",
       "      <th>16</th>\n",
       "      <td>17. St. James's Park</td>\n",
       "    </tr>\n",
       "    <tr>\n",
       "      <th>17</th>\n",
       "      <td>18. St. Paul's Cathedral</td>\n",
       "    </tr>\n",
       "    <tr>\n",
       "      <th>18</th>\n",
       "      <td>19. Houses of Parliament</td>\n",
       "    </tr>\n",
       "    <tr>\n",
       "      <th>19</th>\n",
       "      <td>20. Big Ben</td>\n",
       "    </tr>\n",
       "    <tr>\n",
       "      <th>20</th>\n",
       "      <td>21. Up at The O2</td>\n",
       "    </tr>\n",
       "    <tr>\n",
       "      <th>21</th>\n",
       "      <td>22. The View from The Shard</td>\n",
       "    </tr>\n",
       "    <tr>\n",
       "      <th>22</th>\n",
       "      <td>23. Chelsea FC Stadium Tour &amp; Museum</td>\n",
       "    </tr>\n",
       "    <tr>\n",
       "      <th>23</th>\n",
       "      <td>24. Wallace Collection</td>\n",
       "    </tr>\n",
       "    <tr>\n",
       "      <th>24</th>\n",
       "      <td>25. Regent's Park</td>\n",
       "    </tr>\n",
       "    <tr>\n",
       "      <th>25</th>\n",
       "      <td>26. Greenwich</td>\n",
       "    </tr>\n",
       "    <tr>\n",
       "      <th>26</th>\n",
       "      <td>27. Kensington Gardens</td>\n",
       "    </tr>\n",
       "    <tr>\n",
       "      <th>27</th>\n",
       "      <td>28. Highgate Cemetery</td>\n",
       "    </tr>\n",
       "    <tr>\n",
       "      <th>28</th>\n",
       "      <td>29. Royal Air Force Museum London</td>\n",
       "    </tr>\n",
       "    <tr>\n",
       "      <th>29</th>\n",
       "      <td>30. HMS Belfast</td>\n",
       "    </tr>\n",
       "    <tr>\n",
       "      <th>30</th>\n",
       "      <td>31. Royal Opera House</td>\n",
       "    </tr>\n",
       "    <tr>\n",
       "      <th>31</th>\n",
       "      <td>32. Westminster</td>\n",
       "    </tr>\n",
       "    <tr>\n",
       "      <th>32</th>\n",
       "      <td>33. British Library</td>\n",
       "    </tr>\n",
       "    <tr>\n",
       "      <th>33</th>\n",
       "      <td>34. Museum of Brands</td>\n",
       "    </tr>\n",
       "    <tr>\n",
       "      <th>34</th>\n",
       "      <td>35. Greenwich Park</td>\n",
       "    </tr>\n",
       "    <tr>\n",
       "      <th>35</th>\n",
       "      <td>36. Tottenham Hotspur Stadium Tour</td>\n",
       "    </tr>\n",
       "    <tr>\n",
       "      <th>36</th>\n",
       "      <td>37. Old Royal Naval College</td>\n",
       "    </tr>\n",
       "    <tr>\n",
       "      <th>37</th>\n",
       "      <td>38. Craven Cottage</td>\n",
       "    </tr>\n",
       "    <tr>\n",
       "      <th>38</th>\n",
       "      <td>39. Hampstead Heath</td>\n",
       "    </tr>\n",
       "    <tr>\n",
       "      <th>39</th>\n",
       "      <td>40. Holland Park</td>\n",
       "    </tr>\n",
       "    <tr>\n",
       "      <th>40</th>\n",
       "      <td>41. Emirates Stadium Tour and Museum</td>\n",
       "    </tr>\n",
       "    <tr>\n",
       "      <th>41</th>\n",
       "      <td>42. Brick Lane Music Hall</td>\n",
       "    </tr>\n",
       "    <tr>\n",
       "      <th>42</th>\n",
       "      <td>43. Primrose Hill</td>\n",
       "    </tr>\n",
       "    <tr>\n",
       "      <th>43</th>\n",
       "      <td>44. Museum of London Docklands</td>\n",
       "    </tr>\n",
       "    <tr>\n",
       "      <th>44</th>\n",
       "      <td>45. Sir John Soane's Museum</td>\n",
       "    </tr>\n",
       "    <tr>\n",
       "      <th>45</th>\n",
       "      <td>46. Charles Dickens Museum</td>\n",
       "    </tr>\n",
       "    <tr>\n",
       "      <th>46</th>\n",
       "      <td>47. Westminster Cathedral</td>\n",
       "    </tr>\n",
       "    <tr>\n",
       "      <th>47</th>\n",
       "      <td>48. Emirates Stadium</td>\n",
       "    </tr>\n",
       "    <tr>\n",
       "      <th>48</th>\n",
       "      <td>49. National Portrait Gallery</td>\n",
       "    </tr>\n",
       "    <tr>\n",
       "      <th>49</th>\n",
       "      <td>50. Wimbledon Lawn Tennis Museum</td>\n",
       "    </tr>\n",
       "  </tbody>\n",
       "</table>\n",
       "</div>"
      ],
      "text/plain": [
       "                                poi_name\n",
       "0                     1. Tower of London\n",
       "1                  2. The British Museum\n",
       "2                          3. London Eye\n",
       "3                    4. National Gallery\n",
       "4                        5. Tower Bridge\n",
       "5              6. Natural History Museum\n",
       "6                 7. Churchill War Rooms\n",
       "7   8. V&A  - Victoria and Albert Museum\n",
       "8                   9. Westminster Abbey\n",
       "9                          10. Hyde Park\n",
       "10                    11. Borough Market\n",
       "11                     12. Covent Garden\n",
       "12                        13. Sky Garden\n",
       "13                14. London Underground\n",
       "14                 15. Buckingham Palace\n",
       "15                     16. Camden Market\n",
       "16                  17. St. James's Park\n",
       "17              18. St. Paul's Cathedral\n",
       "18              19. Houses of Parliament\n",
       "19                           20. Big Ben\n",
       "20                      21. Up at The O2\n",
       "21           22. The View from The Shard\n",
       "22  23. Chelsea FC Stadium Tour & Museum\n",
       "23                24. Wallace Collection\n",
       "24                     25. Regent's Park\n",
       "25                         26. Greenwich\n",
       "26                27. Kensington Gardens\n",
       "27                 28. Highgate Cemetery\n",
       "28     29. Royal Air Force Museum London\n",
       "29                       30. HMS Belfast\n",
       "30                 31. Royal Opera House\n",
       "31                       32. Westminster\n",
       "32                   33. British Library\n",
       "33                  34. Museum of Brands\n",
       "34                    35. Greenwich Park\n",
       "35    36. Tottenham Hotspur Stadium Tour\n",
       "36           37. Old Royal Naval College\n",
       "37                    38. Craven Cottage\n",
       "38                   39. Hampstead Heath\n",
       "39                      40. Holland Park\n",
       "40  41. Emirates Stadium Tour and Museum\n",
       "41             42. Brick Lane Music Hall\n",
       "42                     43. Primrose Hill\n",
       "43        44. Museum of London Docklands\n",
       "44           45. Sir John Soane's Museum\n",
       "45            46. Charles Dickens Museum\n",
       "46             47. Westminster Cathedral\n",
       "47                  48. Emirates Stadium\n",
       "48         49. National Portrait Gallery\n",
       "49      50. Wimbledon Lawn Tennis Museum"
      ]
     },
     "execution_count": 5,
     "metadata": {},
     "output_type": "execute_result"
    }
   ],
   "source": [
    "# Extract top 50 poi\n",
    "poi = poi[0:50]\n",
    "df = pd.DataFrame(poi, columns = ['poi_name'])\n",
    "df"
   ]
  },
  {
   "cell_type": "code",
   "execution_count": 6,
   "id": "5b9ca24d",
   "metadata": {
    "papermill": {
     "duration": 0.025751,
     "end_time": "2023-02-12T11:38:12.877550",
     "exception": false,
     "start_time": "2023-02-12T11:38:12.851799",
     "status": "completed"
    },
    "tags": []
   },
   "outputs": [],
   "source": [
    "# Remove numbered list from poi_name\n",
    "df['poi_name'] =  [re.sub(r'(^|\\s)[0-9]+\\.','', str(x)) for x in df['poi_name']]"
   ]
  },
  {
   "cell_type": "code",
   "execution_count": 7,
   "id": "bc954be3",
   "metadata": {
    "papermill": {
     "duration": 0.022564,
     "end_time": "2023-02-12T11:38:12.912795",
     "exception": false,
     "start_time": "2023-02-12T11:38:12.890231",
     "status": "completed"
    },
    "scrolled": true,
    "tags": []
   },
   "outputs": [],
   "source": [
    "# Remove leading whitespace from poi_name\n",
    "df['poi_name'] = [df['poi_name'][i].lstrip() for i in range(len(df))]"
   ]
  },
  {
   "cell_type": "code",
   "execution_count": 8,
   "id": "c719fd5e",
   "metadata": {
    "papermill": {
     "duration": 0.02308,
     "end_time": "2023-02-12T11:38:12.949070",
     "exception": false,
     "start_time": "2023-02-12T11:38:12.925990",
     "status": "completed"
    },
    "tags": []
   },
   "outputs": [],
   "source": [
    "# Save and export\n",
    "df.to_csv('./output/poi_name.csv', index=False)"
   ]
  },
  {
   "cell_type": "code",
   "execution_count": null,
   "id": "57745569",
   "metadata": {
    "papermill": {
     "duration": 0.012515,
     "end_time": "2023-02-12T11:38:12.974042",
     "exception": false,
     "start_time": "2023-02-12T11:38:12.961527",
     "status": "completed"
    },
    "tags": []
   },
   "outputs": [],
   "source": []
  }
 ],
 "metadata": {
  "kernelspec": {
   "display_name": "Python 3 (ipykernel)",
   "language": "python",
   "name": "python3"
  },
  "language_info": {
   "codemirror_mode": {
    "name": "ipython",
    "version": 3
   },
   "file_extension": ".py",
   "mimetype": "text/x-python",
   "name": "python",
   "nbconvert_exporter": "python",
   "pygments_lexer": "ipython3",
   "version": "3.8.13"
  },
  "papermill": {
   "default_parameters": {},
   "duration": 24.4121,
   "end_time": "2023-02-12T11:38:13.708827",
   "environment_variables": {},
   "exception": null,
   "input_path": "__notebook__.ipynb",
   "output_path": "__notebook__.ipynb",
   "parameters": {},
   "start_time": "2023-02-12T11:37:49.296727",
   "version": "2.3.4"
  }
 },
 "nbformat": 4,
 "nbformat_minor": 5
}
