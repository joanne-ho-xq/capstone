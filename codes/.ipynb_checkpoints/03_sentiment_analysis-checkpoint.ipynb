{
 "cells": [
  {
   "cell_type": "markdown",
   "id": "42abab2b-e2ef-4aec-a199-78404bb22878",
   "metadata": {},
   "source": [
    "To build a recommender system, we will need the user's rating of the locations. As such, we will be doing a sentiment analysis of the user's caption of his/her Instagram posts and map that to a rating from 1 to 3, with 1 being negative, 2 being neutral and 3 being positive."
   ]
  },
  {
   "cell_type": "markdown",
   "id": "4311b9b2-15e3-4204-b290-deaff0842a36",
   "metadata": {},
   "source": [
    "## Contents:\n",
    "- [Installation of Packages](#Installation-of-Packages)\n",
    "- [Loading of Libraries](#Loading-of-Libraries) \n",
    "- [Loading of Datasets & Preprocessing](#Loading-of-Datasets-&-Preprocessing)\n",
    "- [Sentiment Analysis using Vader](#Sentiment-Analysis-using-Vader)\n",
    "  - [Compare predicted and true sentiment ratings](#Compare-predicted-and-true-sentiment-ratings)\n",
    "  - [Overview of dataset](#Overview-of-dataset)"
   ]
  },
  {
   "cell_type": "markdown",
   "id": "fff62efe-e0cf-40eb-b7b2-999ec79d1dfd",
   "metadata": {},
   "source": [
    "## Installation of Packages"
   ]
  },
  {
   "cell_type": "code",
   "execution_count": 1,
   "id": "12262b5f-52a9-45dc-99ab-c3a44bdf9225",
   "metadata": {},
   "outputs": [],
   "source": [
    "# !pip install vaderSentiment"
   ]
  },
  {
   "cell_type": "markdown",
   "id": "ce6442b5-bc34-4722-991c-44a55b5c2b5d",
   "metadata": {},
   "source": [
    "## Loading of Libraries"
   ]
  },
  {
   "cell_type": "code",
   "execution_count": 36,
   "id": "ccaa3ede-1dbf-49b2-9bdc-f002ce9e5a9a",
   "metadata": {},
   "outputs": [],
   "source": [
    "# Imports\n",
    "import pandas as pd\n",
    "import numpy as np\n",
    "from matplotlib import pyplot as plt\n",
    "from tqdm import tqdm\n",
    "tqdm.pandas()\n",
    "from vaderSentiment.vaderSentiment import SentimentIntensityAnalyzer # analyze sentiments using Vader library (implemented from technical paper)\n",
    "from sklearn.metrics import accuracy_score"
   ]
  },
  {
   "cell_type": "markdown",
   "id": "9d03e626-cf00-48de-9854-d02dcbbda200",
   "metadata": {},
   "source": [
    "## Loading of Datasets & Preprocessing\n",
    "- Load the dataset from the previous notebook\n",
    "- Include the `description` (caption) column of the `posts` dataset"
   ]
  },
  {
   "cell_type": "code",
   "execution_count": 43,
   "id": "9c30e638-e549-4323-849c-8f1ab5d4d31f",
   "metadata": {},
   "outputs": [
    {
     "name": "stdout",
     "output_type": "stream",
     "text": [
      "(630751, 6)\n"
     ]
    },
    {
     "data": {
      "text/html": [
       "<div>\n",
       "<style scoped>\n",
       "    .dataframe tbody tr th:only-of-type {\n",
       "        vertical-align: middle;\n",
       "    }\n",
       "\n",
       "    .dataframe tbody tr th {\n",
       "        vertical-align: top;\n",
       "    }\n",
       "\n",
       "    .dataframe thead th {\n",
       "        text-align: right;\n",
       "    }\n",
       "</style>\n",
       "<table border=\"1\" class=\"dataframe\">\n",
       "  <thead>\n",
       "    <tr style=\"text-align: right;\">\n",
       "      <th></th>\n",
       "      <th>name</th>\n",
       "      <th>city</th>\n",
       "      <th>cd</th>\n",
       "      <th>profile_id</th>\n",
       "      <th>location_id</th>\n",
       "      <th>cts</th>\n",
       "    </tr>\n",
       "  </thead>\n",
       "  <tbody>\n",
       "    <tr>\n",
       "      <th>0</th>\n",
       "      <td>la famiglia</td>\n",
       "      <td>London, United Kingdom</td>\n",
       "      <td>GB</td>\n",
       "      <td>4.519805e+06</td>\n",
       "      <td>1178180.0</td>\n",
       "      <td>2016-06-09 22:13:32.000</td>\n",
       "    </tr>\n",
       "    <tr>\n",
       "      <th>1</th>\n",
       "      <td>la famiglia</td>\n",
       "      <td>London, United Kingdom</td>\n",
       "      <td>GB</td>\n",
       "      <td>2.594847e+08</td>\n",
       "      <td>1178180.0</td>\n",
       "      <td>2019-05-30 23:17:22.000</td>\n",
       "    </tr>\n",
       "    <tr>\n",
       "      <th>2</th>\n",
       "      <td>la famiglia</td>\n",
       "      <td>London, United Kingdom</td>\n",
       "      <td>GB</td>\n",
       "      <td>6.364797e+09</td>\n",
       "      <td>1178180.0</td>\n",
       "      <td>2019-05-26 15:27:27.000</td>\n",
       "    </tr>\n",
       "    <tr>\n",
       "      <th>3</th>\n",
       "      <td>green park</td>\n",
       "      <td>London, United Kingdom</td>\n",
       "      <td>GB</td>\n",
       "      <td>2.213894e+08</td>\n",
       "      <td>857670431.0</td>\n",
       "      <td>2019-05-30 21:41:15.000</td>\n",
       "    </tr>\n",
       "    <tr>\n",
       "      <th>4</th>\n",
       "      <td>green park</td>\n",
       "      <td>London, United Kingdom</td>\n",
       "      <td>GB</td>\n",
       "      <td>6.243066e+08</td>\n",
       "      <td>857670431.0</td>\n",
       "      <td>2019-05-30 07:56:50.000</td>\n",
       "    </tr>\n",
       "  </tbody>\n",
       "</table>\n",
       "</div>"
      ],
      "text/plain": [
       "          name                    city  cd    profile_id  location_id  \\\n",
       "0  la famiglia  London, United Kingdom  GB  4.519805e+06    1178180.0   \n",
       "1  la famiglia  London, United Kingdom  GB  2.594847e+08    1178180.0   \n",
       "2  la famiglia  London, United Kingdom  GB  6.364797e+09    1178180.0   \n",
       "3   green park  London, United Kingdom  GB  2.213894e+08  857670431.0   \n",
       "4   green park  London, United Kingdom  GB  6.243066e+08  857670431.0   \n",
       "\n",
       "                       cts  \n",
       "0  2016-06-09 22:13:32.000  \n",
       "1  2019-05-30 23:17:22.000  \n",
       "2  2019-05-26 15:27:27.000  \n",
       "3  2019-05-30 21:41:15.000  \n",
       "4  2019-05-30 07:56:50.000  "
      ]
     },
     "execution_count": 43,
     "metadata": {},
     "output_type": "execute_result"
    }
   ],
   "source": [
    "# Import dataset after location filter and cleaning\n",
    "london_profile = pd.read_csv('./output/london_profile_updated.csv')\n",
    "print(london_profile.shape)\n",
    "london_profile.head()"
   ]
  },
  {
   "cell_type": "code",
   "execution_count": 44,
   "id": "8276ee95-3cd2-4a47-8ef6-e327e990219c",
   "metadata": {},
   "outputs": [],
   "source": [
    "london_profile.drop_duplicates(inplace=True)"
   ]
  },
  {
   "cell_type": "code",
   "execution_count": 45,
   "id": "448b8394-6c7d-4a52-8e88-afc6847d28bc",
   "metadata": {},
   "outputs": [],
   "source": [
    "# Extract required cols\n",
    "london_profile = london_profile[['profile_id', 'name', 'location_id', 'cts']]"
   ]
  },
  {
   "cell_type": "code",
   "execution_count": 46,
   "id": "9c528f1c-da43-4fd8-8cad-50c5f0b9444a",
   "metadata": {},
   "outputs": [
    {
     "name": "stdout",
     "output_type": "stream",
     "text": [
      "<class 'pandas.core.frame.DataFrame'>\n",
      "Int64Index: 630725 entries, 0 to 630750\n",
      "Data columns (total 4 columns):\n",
      " #   Column       Non-Null Count   Dtype  \n",
      "---  ------       --------------   -----  \n",
      " 0   profile_id   630725 non-null  float64\n",
      " 1   name         630725 non-null  object \n",
      " 2   location_id  630725 non-null  float64\n",
      " 3   cts          630725 non-null  object \n",
      "dtypes: float64(2), object(2)\n",
      "memory usage: 24.1+ MB\n"
     ]
    }
   ],
   "source": [
    "# Check datatypes\n",
    "london_profile.info()"
   ]
  },
  {
   "cell_type": "code",
   "execution_count": 47,
   "id": "4ecbc2a0-5e80-4b44-81a0-e9eb62a3dd39",
   "metadata": {},
   "outputs": [],
   "source": [
    "# Change cts column to datetime dtype\n",
    "london_profile['cts']= pd.to_datetime(london_profile['cts'])"
   ]
  },
  {
   "cell_type": "code",
   "execution_count": 48,
   "id": "e9c1ec5e-0c7f-4415-9e22-847f2848accc",
   "metadata": {},
   "outputs": [
    {
     "name": "stdout",
     "output_type": "stream",
     "text": [
      "<class 'pandas.core.frame.DataFrame'>\n",
      "Int64Index: 630725 entries, 0 to 630750\n",
      "Data columns (total 4 columns):\n",
      " #   Column       Non-Null Count   Dtype         \n",
      "---  ------       --------------   -----         \n",
      " 0   profile_id   630725 non-null  float64       \n",
      " 1   name         630725 non-null  object        \n",
      " 2   location_id  630725 non-null  float64       \n",
      " 3   cts          630725 non-null  datetime64[ns]\n",
      "dtypes: datetime64[ns](1), float64(2), object(1)\n",
      "memory usage: 24.1+ MB\n"
     ]
    }
   ],
   "source": [
    "# Check changes\n",
    "london_profile.info()"
   ]
  },
  {
   "cell_type": "code",
   "execution_count": 49,
   "id": "88e475cd-416c-4697-a43c-d3f4da82f638",
   "metadata": {},
   "outputs": [],
   "source": [
    "# Import and read posts dataset in chunks\n",
    "posts_chunk = pd.read_csv(r'./output/posts.csv', chunksize=1000000, engine='python')"
   ]
  },
  {
   "cell_type": "code",
   "execution_count": 50,
   "id": "e3d4aa21-b519-47c2-8f59-f166ef8bbbc9",
   "metadata": {},
   "outputs": [],
   "source": [
    "def chunk_preprocessing(chunk):\n",
    "    # Change cts column to datetime dtype\n",
    "    chunk['cts']=pd.to_datetime(chunk['cts'])\n",
    "    # Inner merge the two dataframes\n",
    "    location_profile_desc = pd.merge(london_profile, chunk, on=['profile_id', 'location_id', 'cts'], how='inner')\n",
    "    return location_profile_desc"
   ]
  },
  {
   "cell_type": "code",
   "execution_count": null,
   "id": "fe009e37-8792-45ce-8f04-888fae938bd4",
   "metadata": {},
   "outputs": [],
   "source": [
    "%%time\n",
    "chunk_list =[] # append each chunk df here\n",
    "\n",
    "for chunk in tqdm(posts_chunk):\n",
    "    # perform model filtering\n",
    "    chunk_filter = chunk_preprocessing(chunk)\n",
    "    \n",
    "    # append chunk to list\n",
    "    chunk_list.append(chunk_filter)\n",
    "    \n",
    "# concat the list into dataframe\n",
    "df_concat = pd.concat(chunk_list)"
   ]
  },
  {
   "cell_type": "markdown",
   "id": "7b9140c0-389c-4b67-beae-168d4a091373",
   "metadata": {},
   "source": [
    "## Sentiment Analysis using Vader\n",
    "- To do a sentiment analysis on the `description` column, we will make use of the vader package.\n",
    "- We will check for the accuracy of the sentiment rating by Vader by comparing 100 rows of data with a hand-labelled rating before proceeding with using the package."
   ]
  },
  {
   "cell_type": "code",
   "execution_count": 14,
   "id": "a3b987f6-0415-4b83-a9db-8fccff6f6553",
   "metadata": {},
   "outputs": [],
   "source": [
    "# Save and export first 100 rows for sentiment analysis comparison\n",
    "posts100 = df_concat.head(100)\n",
    "posts100.to_csv('./output/posts100.csv', index=False)"
   ]
  },
  {
   "cell_type": "code",
   "execution_count": 15,
   "id": "4aaa2330-863d-4d5b-913b-da303156e6ae",
   "metadata": {},
   "outputs": [],
   "source": [
    "# Instantiate analyzer\n",
    "analyzer = SentimentIntensityAnalyzer()"
   ]
  },
  {
   "cell_type": "code",
   "execution_count": 16,
   "id": "8cc6025d-056d-4f46-9a30-95ff4569a3fd",
   "metadata": {},
   "outputs": [
    {
     "name": "stdout",
     "output_type": "stream",
     "text": [
      "CPU times: user 1min 35s, sys: 9.94 s, total: 1min 45s\n",
      "Wall time: 2min 36s\n"
     ]
    },
    {
     "data": {
      "text/html": [
       "<div>\n",
       "<style scoped>\n",
       "    .dataframe tbody tr th:only-of-type {\n",
       "        vertical-align: middle;\n",
       "    }\n",
       "\n",
       "    .dataframe tbody tr th {\n",
       "        vertical-align: top;\n",
       "    }\n",
       "\n",
       "    .dataframe thead th {\n",
       "        text-align: right;\n",
       "    }\n",
       "</style>\n",
       "<table border=\"1\" class=\"dataframe\">\n",
       "  <thead>\n",
       "    <tr style=\"text-align: right;\">\n",
       "      <th></th>\n",
       "      <th>profile_id</th>\n",
       "      <th>location_id</th>\n",
       "      <th>cts</th>\n",
       "      <th>description</th>\n",
       "      <th>sentiment_pred</th>\n",
       "    </tr>\n",
       "  </thead>\n",
       "  <tbody>\n",
       "    <tr>\n",
       "      <th>0</th>\n",
       "      <td>4.519805e+06</td>\n",
       "      <td>1178180.0</td>\n",
       "      <td>2016-06-09 22:13:32</td>\n",
       "      <td>Today has been fuelled by incredible meals (re...</td>\n",
       "      <td>3</td>\n",
       "    </tr>\n",
       "    <tr>\n",
       "      <th>1</th>\n",
       "      <td>2.594847e+08</td>\n",
       "      <td>1178180.0</td>\n",
       "      <td>2019-05-30 23:17:22</td>\n",
       "      <td>I love you baby and if it’s quite alright oh E...</td>\n",
       "      <td>3</td>\n",
       "    </tr>\n",
       "    <tr>\n",
       "      <th>2</th>\n",
       "      <td>6.364797e+09</td>\n",
       "      <td>1178180.0</td>\n",
       "      <td>2019-05-26 15:27:27</td>\n",
       "      <td>#friendzoned 💙 @lafamiglia.sw10 ⠀⠀⠀⠀⠀⠀⠀⠀⠀⠀⠀⠀ ⠀...</td>\n",
       "      <td>3</td>\n",
       "    </tr>\n",
       "    <tr>\n",
       "      <th>3</th>\n",
       "      <td>2.213894e+08</td>\n",
       "      <td>857670431.0</td>\n",
       "      <td>2019-05-30 21:41:15</td>\n",
       "      <td>S U M M E R 🔜☀️</td>\n",
       "      <td>2</td>\n",
       "    </tr>\n",
       "    <tr>\n",
       "      <th>4</th>\n",
       "      <td>6.243066e+08</td>\n",
       "      <td>857670431.0</td>\n",
       "      <td>2019-05-30 07:56:50</td>\n",
       "      <td>TBT!! Only a few days ago, but what a vibe and...</td>\n",
       "      <td>3</td>\n",
       "    </tr>\n",
       "  </tbody>\n",
       "</table>\n",
       "</div>"
      ],
      "text/plain": [
       "     profile_id  location_id                 cts  \\\n",
       "0  4.519805e+06    1178180.0 2016-06-09 22:13:32   \n",
       "1  2.594847e+08    1178180.0 2019-05-30 23:17:22   \n",
       "2  6.364797e+09    1178180.0 2019-05-26 15:27:27   \n",
       "3  2.213894e+08  857670431.0 2019-05-30 21:41:15   \n",
       "4  6.243066e+08  857670431.0 2019-05-30 07:56:50   \n",
       "\n",
       "                                         description  sentiment_pred  \n",
       "0  Today has been fuelled by incredible meals (re...               3  \n",
       "1  I love you baby and if it’s quite alright oh E...               3  \n",
       "2  #friendzoned 💙 @lafamiglia.sw10 ⠀⠀⠀⠀⠀⠀⠀⠀⠀⠀⠀⠀ ⠀...               3  \n",
       "3                                    S U M M E R 🔜☀️               2  \n",
       "4  TBT!! Only a few days ago, but what a vibe and...               3  "
      ]
     },
     "execution_count": 16,
     "metadata": {},
     "output_type": "execute_result"
    }
   ],
   "source": [
    "%%time\n",
    "# Find the predicted value of sentiment\n",
    "def vader_sentiment_pred(description):\n",
    "    vader_output = analyzer.polarity_scores(description)\n",
    "    \n",
    "    # based on vader_sentiment documentation on polarity scores\n",
    "    if vader_output['compound'] <= -0.05: \n",
    "        # negative sentiment\n",
    "        return 1\n",
    "    elif (vader_output['compound'] > -0.05) and (vader_output['compound'] <0.05):\n",
    "        # neutral sentiment\n",
    "        return 2\n",
    "    else:\n",
    "        # positive sentiment\n",
    "        return 3\n",
    "\n",
    "df_concat['sentiment_pred'] = df_concat['description'].apply(vader_sentiment_pred) # call function to apply Vader sentiment prediction on ALL descriptions in dataset\n",
    "df_concat.head()"
   ]
  },
  {
   "cell_type": "code",
   "execution_count": 33,
   "id": "6d8f6cde-602c-4b13-b5cc-1ce65be34b4c",
   "metadata": {},
   "outputs": [
    {
     "data": {
      "image/png": "[encoded data removed]",
      "text/plain": [
       "<Figure size 640x480 with 1 Axes>"
      ]
     },
     "metadata": {},
     "output_type": "display_data"
    }
   ],
   "source": [
    "# Plot distribution of sentiment_pred\n",
    "df_concat['sentiment_pred'].value_counts().plot(kind='bar', rot=0, title='Distribution of Sentiment Predictions')\n",
    "plt.xticks(ticks=[0,1,2], labels=['positive','neutral','negative'])\n",
    "plt.xlabel(\"Sentiments\")\n",
    "plt.show();"
   ]
  },
  {
   "cell_type": "markdown",
   "id": "1d96c148-03c5-44dd-ba9a-610b13bc43fd",
   "metadata": {},
   "source": [
    "- Most of the sentiments in the dataset are positive."
   ]
  },
  {
   "cell_type": "markdown",
   "id": "2c0d9a02-51b5-4996-9a31-408feac023de",
   "metadata": {},
   "source": [
    "#### Compare predicted and true sentiment ratings"
   ]
  },
  {
   "cell_type": "code",
   "execution_count": 17,
   "id": "12dbeed1-7c89-493b-afe5-f92594a27d93",
   "metadata": {},
   "outputs": [],
   "source": [
    "# Save and export first 100 rows for sentiment analysis comparison\n",
    "posts100_pred = df_concat.head(100)\n",
    "posts100_pred.to_csv('./output/posts100_pred.csv', index=False)"
   ]
  },
  {
   "cell_type": "code",
   "execution_count": 36,
   "id": "38c81bd7-7759-4137-b4a9-e763f155fd1c",
   "metadata": {},
   "outputs": [
    {
     "name": "stdout",
     "output_type": "stream",
     "text": [
      "(100, 5)\n"
     ]
    },
    {
     "data": {
      "text/html": [
       "<div>\n",
       "<style scoped>\n",
       "    .dataframe tbody tr th:only-of-type {\n",
       "        vertical-align: middle;\n",
       "    }\n",
       "\n",
       "    .dataframe tbody tr th {\n",
       "        vertical-align: top;\n",
       "    }\n",
       "\n",
       "    .dataframe thead th {\n",
       "        text-align: right;\n",
       "    }\n",
       "</style>\n",
       "<table border=\"1\" class=\"dataframe\">\n",
       "  <thead>\n",
       "    <tr style=\"text-align: right;\">\n",
       "      <th></th>\n",
       "      <th>profile_id</th>\n",
       "      <th>location_id</th>\n",
       "      <th>cts</th>\n",
       "      <th>description</th>\n",
       "      <th>sentiment</th>\n",
       "    </tr>\n",
       "  </thead>\n",
       "  <tbody>\n",
       "    <tr>\n",
       "      <th>0</th>\n",
       "      <td>4519805</td>\n",
       "      <td>1178180</td>\n",
       "      <td>2016-06-09 22:13:32</td>\n",
       "      <td>Today has been fuelled by incredible meals (re...</td>\n",
       "      <td>3</td>\n",
       "    </tr>\n",
       "    <tr>\n",
       "      <th>1</th>\n",
       "      <td>259484657</td>\n",
       "      <td>1178180</td>\n",
       "      <td>2019-05-30 23:17:22</td>\n",
       "      <td>I love you baby and if it’s quite alright oh E...</td>\n",
       "      <td>2</td>\n",
       "    </tr>\n",
       "    <tr>\n",
       "      <th>2</th>\n",
       "      <td>6364796956</td>\n",
       "      <td>1178180</td>\n",
       "      <td>2019-05-26 15:27:27</td>\n",
       "      <td>#friendzoned 💙 @lafamiglia.sw10 ⠀⠀⠀⠀⠀⠀⠀⠀⠀⠀⠀⠀ ⠀...</td>\n",
       "      <td>3</td>\n",
       "    </tr>\n",
       "    <tr>\n",
       "      <th>3</th>\n",
       "      <td>221389356</td>\n",
       "      <td>857670431</td>\n",
       "      <td>2019-05-30 21:41:15</td>\n",
       "      <td>S U M M E R 🔜☀️</td>\n",
       "      <td>2</td>\n",
       "    </tr>\n",
       "    <tr>\n",
       "      <th>4</th>\n",
       "      <td>624306558</td>\n",
       "      <td>857670431</td>\n",
       "      <td>2019-05-30 7:56:50</td>\n",
       "      <td>TBT!! Only a few days ago, but what a vibe and...</td>\n",
       "      <td>3</td>\n",
       "    </tr>\n",
       "  </tbody>\n",
       "</table>\n",
       "</div>"
      ],
      "text/plain": [
       "   profile_id  location_id                  cts  \\\n",
       "0     4519805      1178180  2016-06-09 22:13:32   \n",
       "1   259484657      1178180  2019-05-30 23:17:22   \n",
       "2  6364796956      1178180  2019-05-26 15:27:27   \n",
       "3   221389356    857670431  2019-05-30 21:41:15   \n",
       "4   624306558    857670431   2019-05-30 7:56:50   \n",
       "\n",
       "                                         description  sentiment  \n",
       "0  Today has been fuelled by incredible meals (re...          3  \n",
       "1  I love you baby and if it’s quite alright oh E...          2  \n",
       "2  #friendzoned 💙 @lafamiglia.sw10 ⠀⠀⠀⠀⠀⠀⠀⠀⠀⠀⠀⠀ ⠀...          3  \n",
       "3                                    S U M M E R 🔜☀️          2  \n",
       "4  TBT!! Only a few days ago, but what a vibe and...          3  "
      ]
     },
     "execution_count": 36,
     "metadata": {},
     "output_type": "execute_result"
    }
   ],
   "source": [
    "# Load true (hand labelled) sentiment rating\n",
    "posts100_true = pd.read_csv('./output/posts100_true.csv')\n",
    "print(posts100_true.shape)\n",
    "posts100_true.head()"
   ]
  },
  {
   "cell_type": "code",
   "execution_count": 38,
   "id": "c383b00d-25da-4626-9ee3-0ede37ca23b1",
   "metadata": {},
   "outputs": [],
   "source": [
    "# Change cts to datetime dtype\n",
    "posts100_true['cts']=pd.to_datetime(posts100_true['cts'])"
   ]
  },
  {
   "cell_type": "code",
   "execution_count": 43,
   "id": "581a52d2-0b2f-4122-9df0-493f5d88c400",
   "metadata": {},
   "outputs": [],
   "source": [
    "# Merge true and predicted sentiment dataset\n",
    "posts100 = posts100_true.merge(posts100_pred)"
   ]
  },
  {
   "cell_type": "code",
   "execution_count": 44,
   "id": "cd9a0167-9cd9-4afd-bc04-6f645257a7f6",
   "metadata": {},
   "outputs": [
    {
     "data": {
      "text/html": [
       "<div>\n",
       "<style scoped>\n",
       "    .dataframe tbody tr th:only-of-type {\n",
       "        vertical-align: middle;\n",
       "    }\n",
       "\n",
       "    .dataframe tbody tr th {\n",
       "        vertical-align: top;\n",
       "    }\n",
       "\n",
       "    .dataframe thead th {\n",
       "        text-align: right;\n",
       "    }\n",
       "</style>\n",
       "<table border=\"1\" class=\"dataframe\">\n",
       "  <thead>\n",
       "    <tr style=\"text-align: right;\">\n",
       "      <th></th>\n",
       "      <th>profile_id</th>\n",
       "      <th>location_id</th>\n",
       "      <th>cts</th>\n",
       "      <th>description</th>\n",
       "      <th>sentiment</th>\n",
       "      <th>sentiment_pred</th>\n",
       "    </tr>\n",
       "  </thead>\n",
       "  <tbody>\n",
       "    <tr>\n",
       "      <th>0</th>\n",
       "      <td>4519805</td>\n",
       "      <td>1178180</td>\n",
       "      <td>2016-06-09 22:13:32</td>\n",
       "      <td>Today has been fuelled by incredible meals (re...</td>\n",
       "      <td>3</td>\n",
       "      <td>3</td>\n",
       "    </tr>\n",
       "    <tr>\n",
       "      <th>1</th>\n",
       "      <td>259484657</td>\n",
       "      <td>1178180</td>\n",
       "      <td>2019-05-30 23:17:22</td>\n",
       "      <td>I love you baby and if it’s quite alright oh E...</td>\n",
       "      <td>2</td>\n",
       "      <td>3</td>\n",
       "    </tr>\n",
       "    <tr>\n",
       "      <th>2</th>\n",
       "      <td>6364796956</td>\n",
       "      <td>1178180</td>\n",
       "      <td>2019-05-26 15:27:27</td>\n",
       "      <td>#friendzoned 💙 @lafamiglia.sw10 ⠀⠀⠀⠀⠀⠀⠀⠀⠀⠀⠀⠀ ⠀...</td>\n",
       "      <td>3</td>\n",
       "      <td>3</td>\n",
       "    </tr>\n",
       "    <tr>\n",
       "      <th>3</th>\n",
       "      <td>221389356</td>\n",
       "      <td>857670431</td>\n",
       "      <td>2019-05-30 21:41:15</td>\n",
       "      <td>S U M M E R 🔜☀️</td>\n",
       "      <td>2</td>\n",
       "      <td>2</td>\n",
       "    </tr>\n",
       "    <tr>\n",
       "      <th>4</th>\n",
       "      <td>624306558</td>\n",
       "      <td>857670431</td>\n",
       "      <td>2019-05-30 07:56:50</td>\n",
       "      <td>TBT!! Only a few days ago, but what a vibe and...</td>\n",
       "      <td>3</td>\n",
       "      <td>3</td>\n",
       "    </tr>\n",
       "  </tbody>\n",
       "</table>\n",
       "</div>"
      ],
      "text/plain": [
       "   profile_id  location_id                 cts  \\\n",
       "0     4519805      1178180 2016-06-09 22:13:32   \n",
       "1   259484657      1178180 2019-05-30 23:17:22   \n",
       "2  6364796956      1178180 2019-05-26 15:27:27   \n",
       "3   221389356    857670431 2019-05-30 21:41:15   \n",
       "4   624306558    857670431 2019-05-30 07:56:50   \n",
       "\n",
       "                                         description  sentiment  \\\n",
       "0  Today has been fuelled by incredible meals (re...          3   \n",
       "1  I love you baby and if it’s quite alright oh E...          2   \n",
       "2  #friendzoned 💙 @lafamiglia.sw10 ⠀⠀⠀⠀⠀⠀⠀⠀⠀⠀⠀⠀ ⠀...          3   \n",
       "3                                    S U M M E R 🔜☀️          2   \n",
       "4  TBT!! Only a few days ago, but what a vibe and...          3   \n",
       "\n",
       "   sentiment_pred  \n",
       "0               3  \n",
       "1               3  \n",
       "2               3  \n",
       "3               2  \n",
       "4               3  "
      ]
     },
     "execution_count": 44,
     "metadata": {},
     "output_type": "execute_result"
    }
   ],
   "source": [
    "posts100.head()"
   ]
  },
  {
   "cell_type": "code",
   "execution_count": 45,
   "id": "d45496d1-65f7-46bd-b67f-b20682c3a81e",
   "metadata": {},
   "outputs": [
    {
     "data": {
      "text/plain": [
       "0.8080808080808081"
      ]
     },
     "execution_count": 45,
     "metadata": {},
     "output_type": "execute_result"
    }
   ],
   "source": [
    "# Check accuracy of sentiment rating prediction\n",
    "accuracy_score(posts100['sentiment'].values, posts100['sentiment_pred'].values)"
   ]
  },
  {
   "cell_type": "markdown",
   "id": "89c4cfd4-1109-423d-a5bb-04c940d74a89",
   "metadata": {},
   "source": [
    "- Based on a hand labelled sentiment rating of the first 100 rows from the description column, there is a 81% accuracy in the predicted sentiment rating using the SentimentIntensityAnalyzer from Vader. As such, we will proceed to using the predicted sentiment rating."
   ]
  },
  {
   "cell_type": "code",
   "execution_count": 47,
   "id": "fc3c4bc2-6552-42d7-920f-cb8c0a71c38c",
   "metadata": {},
   "outputs": [
    {
     "name": "stdout",
     "output_type": "stream",
     "text": [
      "(177609, 4)\n"
     ]
    },
    {
     "data": {
      "text/html": [
       "<div>\n",
       "<style scoped>\n",
       "    .dataframe tbody tr th:only-of-type {\n",
       "        vertical-align: middle;\n",
       "    }\n",
       "\n",
       "    .dataframe tbody tr th {\n",
       "        vertical-align: top;\n",
       "    }\n",
       "\n",
       "    .dataframe thead th {\n",
       "        text-align: right;\n",
       "    }\n",
       "</style>\n",
       "<table border=\"1\" class=\"dataframe\">\n",
       "  <thead>\n",
       "    <tr style=\"text-align: right;\">\n",
       "      <th></th>\n",
       "      <th>profile_id</th>\n",
       "      <th>location_id</th>\n",
       "      <th>cts</th>\n",
       "      <th>sentiment_pred</th>\n",
       "    </tr>\n",
       "  </thead>\n",
       "  <tbody>\n",
       "    <tr>\n",
       "      <th>0</th>\n",
       "      <td>4.519805e+06</td>\n",
       "      <td>1178180.0</td>\n",
       "      <td>2016-06-09 22:13:32</td>\n",
       "      <td>3</td>\n",
       "    </tr>\n",
       "    <tr>\n",
       "      <th>1</th>\n",
       "      <td>2.594847e+08</td>\n",
       "      <td>1178180.0</td>\n",
       "      <td>2019-05-30 23:17:22</td>\n",
       "      <td>3</td>\n",
       "    </tr>\n",
       "    <tr>\n",
       "      <th>2</th>\n",
       "      <td>6.364797e+09</td>\n",
       "      <td>1178180.0</td>\n",
       "      <td>2019-05-26 15:27:27</td>\n",
       "      <td>3</td>\n",
       "    </tr>\n",
       "    <tr>\n",
       "      <th>3</th>\n",
       "      <td>2.213894e+08</td>\n",
       "      <td>857670431.0</td>\n",
       "      <td>2019-05-30 21:41:15</td>\n",
       "      <td>2</td>\n",
       "    </tr>\n",
       "    <tr>\n",
       "      <th>4</th>\n",
       "      <td>6.243066e+08</td>\n",
       "      <td>857670431.0</td>\n",
       "      <td>2019-05-30 07:56:50</td>\n",
       "      <td>3</td>\n",
       "    </tr>\n",
       "  </tbody>\n",
       "</table>\n",
       "</div>"
      ],
      "text/plain": [
       "     profile_id  location_id                 cts  sentiment_pred\n",
       "0  4.519805e+06    1178180.0 2016-06-09 22:13:32               3\n",
       "1  2.594847e+08    1178180.0 2019-05-30 23:17:22               3\n",
       "2  6.364797e+09    1178180.0 2019-05-26 15:27:27               3\n",
       "3  2.213894e+08  857670431.0 2019-05-30 21:41:15               2\n",
       "4  6.243066e+08  857670431.0 2019-05-30 07:56:50               3"
      ]
     },
     "execution_count": 47,
     "metadata": {},
     "output_type": "execute_result"
    }
   ],
   "source": [
    "# Drop description column\n",
    "recsys_df = df_concat.drop('description', axis=1)\n",
    "print(recsys_df.shape)\n",
    "recsys_df.head()"
   ]
  },
  {
   "cell_type": "code",
   "execution_count": 48,
   "id": "bb7a5889-1f16-47cb-b11f-415884d6cd9d",
   "metadata": {},
   "outputs": [],
   "source": [
    "# Save and export\n",
    "recsys_df.to_csv('./output/recsys_df.csv', index=False)"
   ]
  },
  {
   "cell_type": "markdown",
   "id": "4b55f01d-e7c1-4632-bec4-8e9a9b7d149d",
   "metadata": {},
   "source": [
    "#### Overview of dataset"
   ]
  },
  {
   "cell_type": "markdown",
   "id": "dda17870-c45a-46b8-aecd-a34fcf2f938f",
   "metadata": {},
   "source": [
    "- We now have profile_id, location_id and sentiment rating, sufficient to build a collaborative-filtering recommender system.\n",
    "- However, such a recommender system will suffer from a cold start problem.\n",
    "- As such, we will next attempt to use a zero shot package to find the location types based on the location names in an attempt to build a hybrid recommender system (collaborative-filtering with content-based filtering)."
   ]
  },
  {
   "cell_type": "code",
   "execution_count": null,
   "id": "c9608e77-bead-4b54-ba58-c56fc848c256",
   "metadata": {},
   "outputs": [],
   "source": []
  }
 ],
 "metadata": {
  "kernelspec": {
   "display_name": "Python 3 (ipykernel)",
   "language": "python",
   "name": "python3"
  },
  "language_info": {
   "codemirror_mode": {
    "name": "ipython",
    "version": 3
   },
   "file_extension": ".py",
   "mimetype": "text/x-python",
   "name": "python",
   "nbconvert_exporter": "python",
   "pygments_lexer": "ipython3",
   "version": "3.8.13"
  }
 },
 "nbformat": 4,
 "nbformat_minor": 5
}
